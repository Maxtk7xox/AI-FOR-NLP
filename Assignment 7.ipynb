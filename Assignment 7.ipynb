{
 "cells": [
  {
   "cell_type": "markdown",
   "metadata": {},
   "source": [
    "About Overfitting and Underfitting"
   ]
  },
  {
   "cell_type": "markdown",
   "metadata": {},
   "source": [
    "1.什么是过拟合什么是欠拟合"
   ]
  },
  {
   "cell_type": "markdown",
   "metadata": {},
   "source": [
    "首先我们在机器学习的过程中，一般会将数据集分为训练集和测试集。\n",
    "当训练出的模型在训练集上正确率就差强人意时，称为模型出现了欠拟合。\n",
    "当训练出的模型在训练集上的正确率远高于测试集时，称为模型出现了过拟合。"
   ]
  },
  {
   "cell_type": "markdown",
   "metadata": {},
   "source": [
    "2.出现过拟合和欠拟合的原因。"
   ]
  },
  {
   "cell_type": "markdown",
   "metadata": {},
   "source": [
    "在机器学习的建模过程中存在一个tradeoff,即bias-variance的tradeoff，其中bias的出现基于我们对模型有了错误的假设。如一组数据实际上满足二次函数的分布，我们用一次函数的模型进行拟合，就会有较大的bias，而variance体现在模型对训练集微小变化的敏感性上。\n",
    "当我们增加模型的复杂度（自由度），会提高variance减小bias，相应地减小模型复杂度，会提高bias，减小variance。\n",
    "具体到过拟合和欠拟合上，当模型的自由度较低，就容易出现欠拟合的情况，当模型过于复杂，就会倾向于“捕捉”每一个training set中的值，就容易出现过拟合。同时出现过拟合的原因还有可能是：训练数据太少，模型没能充分学习；outlier的出现，影响了模型的学习，这样就需要我们提前做feature engineering来处理outliers。\n"
   ]
  },
  {
   "cell_type": "code",
   "execution_count": null,
   "metadata": {},
   "outputs": [],
   "source": []
  }
 ],
 "metadata": {
  "kernelspec": {
   "display_name": "Python 3",
   "language": "python",
   "name": "python3"
  },
  "language_info": {
   "codemirror_mode": {
    "name": "ipython",
    "version": 3
   },
   "file_extension": ".py",
   "mimetype": "text/x-python",
   "name": "python",
   "nbconvert_exporter": "python",
   "pygments_lexer": "ipython3",
   "version": "3.6.5"
  },
  "toc": {
   "base_numbering": 1,
   "nav_menu": {},
   "number_sections": true,
   "sideBar": true,
   "skip_h1_title": false,
   "title_cell": "Table of Contents",
   "title_sidebar": "Contents",
   "toc_cell": false,
   "toc_position": {},
   "toc_section_display": true,
   "toc_window_display": false
  }
 },
 "nbformat": 4,
 "nbformat_minor": 2
}
