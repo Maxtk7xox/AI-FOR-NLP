{
 "cells": [
  {
   "cell_type": "markdown",
   "metadata": {},
   "source": [
    "# Using News Data to Test Different Models"
   ]
  },
  {
   "cell_type": "markdown",
   "metadata": {},
   "source": [
    "## Data preprocessing "
   ]
  },
  {
   "cell_type": "code",
   "execution_count": 2,
   "metadata": {},
   "outputs": [],
   "source": [
    "#Importing packages we need\n",
    "import pandas as pd\n",
    "import numpy as np\n",
    "import jieba \n",
    "from sklearn.feature_extraction.text import TfidfVectorizer\n",
    "from sklearn.naive_bayes import GaussianNB\n",
    "from sklearn.neighbors import KNeighborsClassifier\n",
    "from sklearn.linear_model import LogisticRegression\n",
    "from xgboost.sklearn import XGBClassifier\n",
    "from sklearn.ensemble import RandomForestClassifier\n",
    "from sklearn import svm\n",
    "from sklearn.svm import SVC \n",
    "from sklearn.metrics import precision_score\n",
    "from sklearn.metrics import recall_score\n",
    "from sklearn.metrics import roc_auc_score\n",
    "from sklearn.metrics import confusion_matrix"
   ]
  },
  {
   "cell_type": "code",
   "execution_count": 4,
   "metadata": {},
   "outputs": [],
   "source": [
    "content = pd.read_csv('sqlResult_1558435.csv', encoding = 'gb18030')"
   ]
  },
  {
   "cell_type": "code",
   "execution_count": 5,
   "metadata": {
    "scrolled": true
   },
   "outputs": [
    {
     "data": {
      "text/html": [
       "<div>\n",
       "<style scoped>\n",
       "    .dataframe tbody tr th:only-of-type {\n",
       "        vertical-align: middle;\n",
       "    }\n",
       "\n",
       "    .dataframe tbody tr th {\n",
       "        vertical-align: top;\n",
       "    }\n",
       "\n",
       "    .dataframe thead th {\n",
       "        text-align: right;\n",
       "    }\n",
       "</style>\n",
       "<table border=\"1\" class=\"dataframe\">\n",
       "  <thead>\n",
       "    <tr style=\"text-align: right;\">\n",
       "      <th></th>\n",
       "      <th>id</th>\n",
       "      <th>author</th>\n",
       "      <th>source</th>\n",
       "      <th>content</th>\n",
       "      <th>feature</th>\n",
       "      <th>title</th>\n",
       "      <th>url</th>\n",
       "    </tr>\n",
       "  </thead>\n",
       "  <tbody>\n",
       "    <tr>\n",
       "      <th>0</th>\n",
       "      <td>89617</td>\n",
       "      <td>NaN</td>\n",
       "      <td>快科技@http://www.kkj.cn/</td>\n",
       "      <td>此外，自本周（6月12日）起，除小米手机6等15款机型外，其余机型已暂停更新发布（含开发版/...</td>\n",
       "      <td>{\"type\":\"科技\",\"site\":\"cnbeta\",\"commentNum\":\"37\"...</td>\n",
       "      <td>小米MIUI 9首批机型曝光：共计15款</td>\n",
       "      <td>http://www.cnbeta.com/articles/tech/623597.htm</td>\n",
       "    </tr>\n",
       "    <tr>\n",
       "      <th>1</th>\n",
       "      <td>89616</td>\n",
       "      <td>NaN</td>\n",
       "      <td>快科技@http://www.kkj.cn/</td>\n",
       "      <td>骁龙835作为唯一通过Windows 10桌面平台认证的ARM处理器，高通强调，不会因为只考...</td>\n",
       "      <td>{\"type\":\"科技\",\"site\":\"cnbeta\",\"commentNum\":\"15\"...</td>\n",
       "      <td>骁龙835在Windows 10上的性能表现有望改善</td>\n",
       "      <td>http://www.cnbeta.com/articles/tech/623599.htm</td>\n",
       "    </tr>\n",
       "    <tr>\n",
       "      <th>2</th>\n",
       "      <td>89615</td>\n",
       "      <td>NaN</td>\n",
       "      <td>快科技@http://www.kkj.cn/</td>\n",
       "      <td>此前的一加3T搭载的是3400mAh电池，DashCharge快充规格为5V/4A。\\r\\n...</td>\n",
       "      <td>{\"type\":\"科技\",\"site\":\"cnbeta\",\"commentNum\":\"18\"...</td>\n",
       "      <td>一加手机5细节曝光：3300mAh、充半小时用1天</td>\n",
       "      <td>http://www.cnbeta.com/articles/tech/623601.htm</td>\n",
       "    </tr>\n",
       "    <tr>\n",
       "      <th>3</th>\n",
       "      <td>89614</td>\n",
       "      <td>NaN</td>\n",
       "      <td>新华社</td>\n",
       "      <td>这是6月18日在葡萄牙中部大佩德罗冈地区拍摄的被森林大火烧毁的汽车。新华社记者张立云摄\\r\\n</td>\n",
       "      <td>{\"type\":\"国际新闻\",\"site\":\"环球\",\"commentNum\":\"0\",\"j...</td>\n",
       "      <td>葡森林火灾造成至少62人死亡 政府宣布进入紧急状态（组图）</td>\n",
       "      <td>http://world.huanqiu.com/hot/2017-06/10866126....</td>\n",
       "    </tr>\n",
       "    <tr>\n",
       "      <th>4</th>\n",
       "      <td>89613</td>\n",
       "      <td>胡淑丽_MN7479</td>\n",
       "      <td>深圳大件事</td>\n",
       "      <td>（原标题：44岁女子跑深圳约会网友被拒，暴雨中裸身奔走……）\\r\\n@深圳交警微博称：昨日清...</td>\n",
       "      <td>{\"type\":\"新闻\",\"site\":\"网易热门\",\"commentNum\":\"978\",...</td>\n",
       "      <td>44岁女子约网友被拒暴雨中裸奔 交警为其披衣相随</td>\n",
       "      <td>http://news.163.com/17/0618/00/CN617P3Q0001875...</td>\n",
       "    </tr>\n",
       "  </tbody>\n",
       "</table>\n",
       "</div>"
      ],
      "text/plain": [
       "      id      author                  source  \\\n",
       "0  89617         NaN  快科技@http://www.kkj.cn/   \n",
       "1  89616         NaN  快科技@http://www.kkj.cn/   \n",
       "2  89615         NaN  快科技@http://www.kkj.cn/   \n",
       "3  89614         NaN                     新华社   \n",
       "4  89613  胡淑丽_MN7479                   深圳大件事   \n",
       "\n",
       "                                             content  \\\n",
       "0  此外，自本周（6月12日）起，除小米手机6等15款机型外，其余机型已暂停更新发布（含开发版/...   \n",
       "1  骁龙835作为唯一通过Windows 10桌面平台认证的ARM处理器，高通强调，不会因为只考...   \n",
       "2  此前的一加3T搭载的是3400mAh电池，DashCharge快充规格为5V/4A。\\r\\n...   \n",
       "3    这是6月18日在葡萄牙中部大佩德罗冈地区拍摄的被森林大火烧毁的汽车。新华社记者张立云摄\\r\\n   \n",
       "4  （原标题：44岁女子跑深圳约会网友被拒，暴雨中裸身奔走……）\\r\\n@深圳交警微博称：昨日清...   \n",
       "\n",
       "                                             feature  \\\n",
       "0  {\"type\":\"科技\",\"site\":\"cnbeta\",\"commentNum\":\"37\"...   \n",
       "1  {\"type\":\"科技\",\"site\":\"cnbeta\",\"commentNum\":\"15\"...   \n",
       "2  {\"type\":\"科技\",\"site\":\"cnbeta\",\"commentNum\":\"18\"...   \n",
       "3  {\"type\":\"国际新闻\",\"site\":\"环球\",\"commentNum\":\"0\",\"j...   \n",
       "4  {\"type\":\"新闻\",\"site\":\"网易热门\",\"commentNum\":\"978\",...   \n",
       "\n",
       "                           title  \\\n",
       "0           小米MIUI 9首批机型曝光：共计15款   \n",
       "1     骁龙835在Windows 10上的性能表现有望改善   \n",
       "2      一加手机5细节曝光：3300mAh、充半小时用1天   \n",
       "3  葡森林火灾造成至少62人死亡 政府宣布进入紧急状态（组图）   \n",
       "4       44岁女子约网友被拒暴雨中裸奔 交警为其披衣相随   \n",
       "\n",
       "                                                 url  \n",
       "0     http://www.cnbeta.com/articles/tech/623597.htm  \n",
       "1     http://www.cnbeta.com/articles/tech/623599.htm  \n",
       "2     http://www.cnbeta.com/articles/tech/623601.htm  \n",
       "3  http://world.huanqiu.com/hot/2017-06/10866126....  \n",
       "4  http://news.163.com/17/0618/00/CN617P3Q0001875...  "
      ]
     },
     "execution_count": 5,
     "metadata": {},
     "output_type": "execute_result"
    }
   ],
   "source": [
    "content.head()"
   ]
  },
  {
   "cell_type": "code",
   "execution_count": 6,
   "metadata": {},
   "outputs": [
    {
     "data": {
      "text/html": [
       "<div>\n",
       "<style scoped>\n",
       "    .dataframe tbody tr th:only-of-type {\n",
       "        vertical-align: middle;\n",
       "    }\n",
       "\n",
       "    .dataframe tbody tr th {\n",
       "        vertical-align: top;\n",
       "    }\n",
       "\n",
       "    .dataframe thead th {\n",
       "        text-align: right;\n",
       "    }\n",
       "</style>\n",
       "<table border=\"1\" class=\"dataframe\">\n",
       "  <thead>\n",
       "    <tr style=\"text-align: right;\">\n",
       "      <th></th>\n",
       "      <th>id</th>\n",
       "      <th>author</th>\n",
       "      <th>source</th>\n",
       "      <th>content</th>\n",
       "      <th>feature</th>\n",
       "      <th>title</th>\n",
       "      <th>url</th>\n",
       "    </tr>\n",
       "  </thead>\n",
       "  <tbody>\n",
       "    <tr>\n",
       "      <th>3</th>\n",
       "      <td>89614</td>\n",
       "      <td>NaN</td>\n",
       "      <td>新华社</td>\n",
       "      <td>这是6月18日在葡萄牙中部大佩德罗冈地区拍摄的被森林大火烧毁的汽车。新华社记者张立云摄\\r\\n</td>\n",
       "      <td>{\"type\":\"国际新闻\",\"site\":\"环球\",\"commentNum\":\"0\",\"j...</td>\n",
       "      <td>葡森林火灾造成至少62人死亡 政府宣布进入紧急状态（组图）</td>\n",
       "      <td>http://world.huanqiu.com/hot/2017-06/10866126....</td>\n",
       "    </tr>\n",
       "    <tr>\n",
       "      <th>39</th>\n",
       "      <td>89578</td>\n",
       "      <td>NaN</td>\n",
       "      <td>新华社</td>\n",
       "      <td>这是6月18日在葡萄牙中部大佩德罗冈地区拍摄的被森林大火烧毁的汽车。新华社记者张立云摄\\r\\n</td>\n",
       "      <td>{\"type\":\"国际新闻\",\"site\":\"环球\",\"commentNum\":\"0\",\"j...</td>\n",
       "      <td>葡森林火灾造成至少62人死亡 政府宣布进入紧急状态</td>\n",
       "      <td>http://world.huanqiu.com/hot/2017-06/10866229....</td>\n",
       "    </tr>\n",
       "    <tr>\n",
       "      <th>95</th>\n",
       "      <td>89522</td>\n",
       "      <td>NaN</td>\n",
       "      <td>新华社</td>\n",
       "      <td>新华社韩国济州6月18日电综述：亚投行第二届年会三大亮点\\r\\n新华社记者 耿学鹏 严蕾\\r...</td>\n",
       "      <td>{\"type\":\"国内新闻\",\"site\":\"环球\",\"commentNum\":\"0\",\"j...</td>\n",
       "      <td>综述：亚投行第二届年会三大亮点</td>\n",
       "      <td>http://china.huanqiu.com/hot/2017-06/10866439....</td>\n",
       "    </tr>\n",
       "    <tr>\n",
       "      <th>113</th>\n",
       "      <td>89504</td>\n",
       "      <td>NaN</td>\n",
       "      <td>新华社</td>\n",
       "      <td>新华社北京6月18日电 经军委领导批准，《军营理论热点怎么看·2017》日前印发全军。\\r\\...</td>\n",
       "      <td>{\"type\":\"国内新闻\",\"site\":\"环球\",\"commentNum\":\"0\",\"j...</td>\n",
       "      <td>《军营理论热点怎么看·2017》印发全军</td>\n",
       "      <td>http://china.huanqiu.com/hot/2017-06/10866447....</td>\n",
       "    </tr>\n",
       "    <tr>\n",
       "      <th>305</th>\n",
       "      <td>89312</td>\n",
       "      <td>NaN</td>\n",
       "      <td>新华社</td>\n",
       "      <td>新华社兰州6月19日电（记者张钦）记者19日了解到，刚刚出台的《甘肃省网络扶贫行动的实施方案...</td>\n",
       "      <td>{\"type\":\"国内新闻\",\"site\":\"环球\",\"commentNum\":\"0\",\"j...</td>\n",
       "      <td>甘肃力推网络扶贫：贫困山区到2020年实现4G网络全覆盖</td>\n",
       "      <td>http://china.huanqiu.com/hot/2017-06/10866626....</td>\n",
       "    </tr>\n",
       "    <tr>\n",
       "      <th>312</th>\n",
       "      <td>89305</td>\n",
       "      <td>NaN</td>\n",
       "      <td>新华社</td>\n",
       "      <td>新华社乌鲁木齐6月18日电（记者杜刚、王秉阳）6月18日，新疆天山天池首次举办山地马拉松比赛...</td>\n",
       "      <td>{\"type\":\"国内新闻\",\"site\":\"环球\",\"commentNum\":\"0\",\"j...</td>\n",
       "      <td>天山天池首次举办山地马拉松赛</td>\n",
       "      <td>http://china.huanqiu.com/hot/2017-06/10866627....</td>\n",
       "    </tr>\n",
       "    <tr>\n",
       "      <th>314</th>\n",
       "      <td>89303</td>\n",
       "      <td>NaN</td>\n",
       "      <td>新华社</td>\n",
       "      <td>新华社北京6月19日电（记者熊丰）记者从公安部消防局获悉，19日上午6时，由公安部消防局组织...</td>\n",
       "      <td>{\"type\":\"国内新闻\",\"site\":\"环球\",\"commentNum\":\"0\",\"j...</td>\n",
       "      <td>9省市联动开展跨区域地震救援实战拉动演练</td>\n",
       "      <td>http://china.huanqiu.com/hot/2017-06/10866630....</td>\n",
       "    </tr>\n",
       "    <tr>\n",
       "      <th>543</th>\n",
       "      <td>89074</td>\n",
       "      <td>刘瑞莹</td>\n",
       "      <td>新华社</td>\n",
       "      <td>暑期旅游旺季是各大旅游景区开门迎客的好时机。然而，有5家5A级景区却高兴不起来：国家旅游...</td>\n",
       "      <td>{\"type\":\"旅游\",\"site\":\"环球\",\"commentNum\":\"0\",\"joi...</td>\n",
       "      <td>一年内全国12家5A级景区被国家旅游局摘牌或警告</td>\n",
       "      <td>http://go.huanqiu.com/news/2016-10/9542454.html</td>\n",
       "    </tr>\n",
       "    <tr>\n",
       "      <th>545</th>\n",
       "      <td>89072</td>\n",
       "      <td>NaN</td>\n",
       "      <td>新华社</td>\n",
       "      <td>新华社北京6月20日电　总部设在德国波恩的国际残奥委会在当地时间19日宣布，中国残联主席...</td>\n",
       "      <td>{\"type\":\"体育\",\"site\":\"新浪\",\"commentNum\":\" 50\",\"j...</td>\n",
       "      <td>张海迪获得国际残奥委会主席参选提名</td>\n",
       "      <td>http://sports.sina.com.cn/others/others/2017-0...</td>\n",
       "    </tr>\n",
       "    <tr>\n",
       "      <th>651</th>\n",
       "      <td>88966</td>\n",
       "      <td>王点</td>\n",
       "      <td>新华社</td>\n",
       "      <td>新华社南京4月17日电(记者潘晔)江苏拥有不少5A景区。日前，一份来自清华大学的第三方调...</td>\n",
       "      <td>{\"type\":\"旅游\",\"site\":\"环球\",\"commentNum\":\"0\",\"joi...</td>\n",
       "      <td>拿什么消除游客“差评”？—江苏旅游业调查</td>\n",
       "      <td>http://go.huanqiu.com/news/2017-04/10493712.html</td>\n",
       "    </tr>\n",
       "    <tr>\n",
       "      <th>671</th>\n",
       "      <td>88946</td>\n",
       "      <td>王点</td>\n",
       "      <td>新华社</td>\n",
       "      <td>5月9日，在美国纽约，人们观看巴西里约热内卢的缩微景观。\\r\\n　　当日，“格列佛大门”...</td>\n",
       "      <td>{\"type\":\"旅游\",\"site\":\"环球\",\"commentNum\":\"0\",\"joi...</td>\n",
       "      <td>纽约举办“格列佛大门”微缩景观展</td>\n",
       "      <td>http://go.huanqiu.com/news/2017-05/10644520.html</td>\n",
       "    </tr>\n",
       "    <tr>\n",
       "      <th>679</th>\n",
       "      <td>88938</td>\n",
       "      <td>王点</td>\n",
       "      <td>新华社</td>\n",
       "      <td>新华社洛杉矶5月9日电(记者高山)美国洛杉矶旅游局9日宣布，洛杉矶2016年接待游客47...</td>\n",
       "      <td>{\"type\":\"旅游\",\"site\":\"环球\",\"commentNum\":\"0\",\"joi...</td>\n",
       "      <td>洛杉矶2016年游客人数及旅游收入均创新高</td>\n",
       "      <td>http://go.huanqiu.com/news/2017-05/10644526.html</td>\n",
       "    </tr>\n",
       "    <tr>\n",
       "      <th>715</th>\n",
       "      <td>88902</td>\n",
       "      <td>李芳</td>\n",
       "      <td>新华社</td>\n",
       "      <td>机动车在斑马线前不但不减速反而抢行，这类群众反映强烈的城市交通乱象将在本月得到整治。记者...</td>\n",
       "      <td>{\"type\":\"汽车\",\"site\":\"环球\",\"commentNum\":\"0\",\"joi...</td>\n",
       "      <td>公安部:近3年斑马线上交通事故共造成3898人死亡</td>\n",
       "      <td>http://auto.huanqiu.com/news/2017-06/10865485....</td>\n",
       "    </tr>\n",
       "    <tr>\n",
       "      <th>794</th>\n",
       "      <td>88823</td>\n",
       "      <td>卜晓明</td>\n",
       "      <td>新华社</td>\n",
       "      <td>美国亚马逊公司首席执行官杰夫?贝索斯比全球首富比尔?盖茨差多少钱？答案是５０亿美元。\\r...</td>\n",
       "      <td>{\"type\":\"海外\",\"site\":\"中证网\",\"commentNum\":\"0\",\"jo...</td>\n",
       "      <td>亚马逊CEO贝索斯比盖茨差多少钱？50亿美元</td>\n",
       "      <td>http://www.cs.com.cn/xwzx/hwxx/201706/t2017062...</td>\n",
       "    </tr>\n",
       "    <tr>\n",
       "      <th>810</th>\n",
       "      <td>88807</td>\n",
       "      <td>张启畅</td>\n",
       "      <td>新华社</td>\n",
       "      <td>新华社巴西利亚６月１９日电（记者张启畅）巴西央行１９日发布每周经济数据报告预计，今年巴西...</td>\n",
       "      <td>{\"type\":\"海外\",\"site\":\"中证网\",\"commentNum\":\"0\",\"jo...</td>\n",
       "      <td>巴西央行下调今年经济增长预期</td>\n",
       "      <td>http://www.cs.com.cn/xwzx/hwxx/201706/t2017062...</td>\n",
       "    </tr>\n",
       "    <tr>\n",
       "      <th>816</th>\n",
       "      <td>88801</td>\n",
       "      <td>张雪飞</td>\n",
       "      <td>新华社</td>\n",
       "      <td>新华社巴黎６月１９日电（记者张雪飞）第５２届巴黎－布尔歇国际航空航天展览会（巴黎航展）１...</td>\n",
       "      <td>{\"type\":\"海外\",\"site\":\"中证网\",\"commentNum\":\"0\",\"jo...</td>\n",
       "      <td>巴黎航展首日空客波音双双公布新机型</td>\n",
       "      <td>http://www.cs.com.cn/xwzx/hwxx/201706/t2017062...</td>\n",
       "    </tr>\n",
       "    <tr>\n",
       "      <th>909</th>\n",
       "      <td>88708</td>\n",
       "      <td>NaN</td>\n",
       "      <td>新华社</td>\n",
       "      <td>新华社北京6月20日电　总部设在德国波恩的国际残奥委会在当地时间19日宣布，中国残联主席...</td>\n",
       "      <td>{\"type\":\"新闻\",\"site\":\"新浪热门\",\"commentNum\":\" 392\"...</td>\n",
       "      <td>张海迪获得国际残奥委会主席参选提名</td>\n",
       "      <td>http://news.sina.com.cn/c/nd/2017-06-20/doc-if...</td>\n",
       "    </tr>\n",
       "    <tr>\n",
       "      <th>931</th>\n",
       "      <td>88686</td>\n",
       "      <td>NaN</td>\n",
       "      <td>新华社</td>\n",
       "      <td>新华社快讯：国际油价２０日下跌，７月交货的纽约轻质原油期货价格下跌０．９７美元，收于每...</td>\n",
       "      <td>{\"type\":\"海外\",\"site\":\"中证网\",\"commentNum\":\"0\",\"jo...</td>\n",
       "      <td>７月交货的纽约轻质原油期货价格下跌０．９７美元</td>\n",
       "      <td>http://www.cs.com.cn/xwzx/hwxx/201706/t2017062...</td>\n",
       "    </tr>\n",
       "    <tr>\n",
       "      <th>934</th>\n",
       "      <td>88683</td>\n",
       "      <td>邓茜</td>\n",
       "      <td>新华社</td>\n",
       "      <td>新华社伦敦６月２０日电（记者邓茜）伦敦股市《金融时报》１００种股票平均价格指数２０日报收...</td>\n",
       "      <td>{\"type\":\"海外\",\"site\":\"中证网\",\"commentNum\":\"0\",\"jo...</td>\n",
       "      <td>伦敦股市２０日下跌</td>\n",
       "      <td>http://www.cs.com.cn/xwzx/hwxx/201706/t2017062...</td>\n",
       "    </tr>\n",
       "    <tr>\n",
       "      <th>937</th>\n",
       "      <td>88680</td>\n",
       "      <td>NaN</td>\n",
       "      <td>新华社</td>\n",
       "      <td>新华社快讯：纽约商品交易所黄金期货市场交投最活跃的８月黄金期价２０日比前一交易日下跌３．...</td>\n",
       "      <td>{\"type\":\"海外\",\"site\":\"中证网\",\"commentNum\":\"0\",\"jo...</td>\n",
       "      <td>纽约黄金期价２０日比前一交易日下跌３．２美元</td>\n",
       "      <td>http://www.cs.com.cn/xwzx/hwxx/201706/t2017062...</td>\n",
       "    </tr>\n",
       "    <tr>\n",
       "      <th>940</th>\n",
       "      <td>88677</td>\n",
       "      <td>NaN</td>\n",
       "      <td>新华社</td>\n",
       "      <td>新华社快讯：伦敦股市《金融时报》１００种股票平均价格指数２０日报收于７４７２．７１点，比...</td>\n",
       "      <td>{\"type\":\"海外\",\"site\":\"中证网\",\"commentNum\":\"0\",\"jo...</td>\n",
       "      <td>伦敦股市２０日报收于７４７２．７１点</td>\n",
       "      <td>http://www.cs.com.cn/xwzx/hwxx/201706/t2017062...</td>\n",
       "    </tr>\n",
       "    <tr>\n",
       "      <th>943</th>\n",
       "      <td>88674</td>\n",
       "      <td>王强</td>\n",
       "      <td>新华社</td>\n",
       "      <td>新华社芝加哥６月２０日电（记者王强）芝加哥期货交易所２０日玉米、小麦和大豆期价涨跌不一。...</td>\n",
       "      <td>{\"type\":\"海外\",\"site\":\"中证网\",\"commentNum\":\"0\",\"jo...</td>\n",
       "      <td>芝加哥农产品期价２０日涨跌不一</td>\n",
       "      <td>http://www.cs.com.cn/xwzx/hwxx/201706/t2017062...</td>\n",
       "    </tr>\n",
       "    <tr>\n",
       "      <th>946</th>\n",
       "      <td>88671</td>\n",
       "      <td>王乃水</td>\n",
       "      <td>新华社</td>\n",
       "      <td>新华社纽约６月２０日电（记者王乃水）美元对多数主要货币汇率２０日上涨。\\r\\n　　美国联...</td>\n",
       "      <td>{\"type\":\"海外\",\"site\":\"中证网\",\"commentNum\":\"0\",\"jo...</td>\n",
       "      <td>美元对多数主要货币汇率20日上涨</td>\n",
       "      <td>http://www.cs.com.cn/xwzx/hwxx/201706/t2017062...</td>\n",
       "    </tr>\n",
       "    <tr>\n",
       "      <th>951</th>\n",
       "      <td>88666</td>\n",
       "      <td>NaN</td>\n",
       "      <td>新华社</td>\n",
       "      <td>新华社快讯：摩根士丹利资本国际公司（ＭＳＣＩ）２０日宣布，将中国Ａ股纳入ＭＳＣＩ新兴市场...</td>\n",
       "      <td>{\"type\":\"海外\",\"site\":\"中证网\",\"commentNum\":\"0\",\"jo...</td>\n",
       "      <td>摩根士丹利资本国际公司宣布将中国Ａ股纳入ＭＳＣＩ新兴市场指数</td>\n",
       "      <td>http://www.cs.com.cn/xwzx/hwxx/201706/t2017062...</td>\n",
       "    </tr>\n",
       "    <tr>\n",
       "      <th>954</th>\n",
       "      <td>88663</td>\n",
       "      <td>NaN</td>\n",
       "      <td>新华社</td>\n",
       "      <td>美元对多数主要货币汇率２０日上涨，截至纽约汇市尾盘，１欧元兑换１．１１３０美元，１美元...</td>\n",
       "      <td>{\"type\":\"海外\",\"site\":\"中证网\",\"commentNum\":\"0\",\"jo...</td>\n",
       "      <td>美元对多数主要货币汇率２０日上涨</td>\n",
       "      <td>http://www.cs.com.cn/xwzx/hwxx/201706/t2017062...</td>\n",
       "    </tr>\n",
       "    <tr>\n",
       "      <th>958</th>\n",
       "      <td>88659</td>\n",
       "      <td>NaN</td>\n",
       "      <td>新华社</td>\n",
       "      <td>国际油价２０日下跌，７月交货的纽约轻质原油期货价格下跌０．９７美元，收于每桶４３．２３...</td>\n",
       "      <td>{\"type\":\"海外\",\"site\":\"中证网\",\"commentNum\":\"0\",\"jo...</td>\n",
       "      <td>７月交货的纽约轻质原油期货价格下跌０．９７美元</td>\n",
       "      <td>http://www.cs.com.cn/xwzx/hwxx/201706/t2017062...</td>\n",
       "    </tr>\n",
       "    <tr>\n",
       "      <th>964</th>\n",
       "      <td>88653</td>\n",
       "      <td>NaN</td>\n",
       "      <td>新华社</td>\n",
       "      <td>伦敦股市《金融时报》１００种股票平均价格指数２０日报收于７４７２．７１点，比前一交易日下...</td>\n",
       "      <td>{\"type\":\"海外\",\"site\":\"中证网\",\"commentNum\":\"0\",\"jo...</td>\n",
       "      <td>伦敦股市２０日报收于７４７２．７１点</td>\n",
       "      <td>http://www.cs.com.cn/xwzx/hwxx/201706/t2017062...</td>\n",
       "    </tr>\n",
       "    <tr>\n",
       "      <th>966</th>\n",
       "      <td>88651</td>\n",
       "      <td>NaN</td>\n",
       "      <td>新华社</td>\n",
       "      <td>巴黎股市ＣＡＣ４０股指２０日尾盘报收于５２９３．６５点，较前一交易日下跌１７．０７点，...</td>\n",
       "      <td>{\"type\":\"海外\",\"site\":\"中证网\",\"commentNum\":\"0\",\"jo...</td>\n",
       "      <td>巴黎股市ＣＡＣ４０股指２０日尾盘报收于５２９３．６５点</td>\n",
       "      <td>http://www.cs.com.cn/xwzx/hwxx/201706/t2017062...</td>\n",
       "    </tr>\n",
       "    <tr>\n",
       "      <th>990</th>\n",
       "      <td>88627</td>\n",
       "      <td>NaN</td>\n",
       "      <td>新华社</td>\n",
       "      <td>纽约股市三大股指２０日下跌，其中道指跌０．２９％，标普指数跌０．６７％，纳斯达克指数跌...</td>\n",
       "      <td>{\"type\":\"海外\",\"site\":\"中证网\",\"commentNum\":\"0\",\"jo...</td>\n",
       "      <td>纽约股市三大股指２０日下跌</td>\n",
       "      <td>http://www.cs.com.cn/xwzx/hwxx/201706/t2017062...</td>\n",
       "    </tr>\n",
       "    <tr>\n",
       "      <th>995</th>\n",
       "      <td>88622</td>\n",
       "      <td>NaN</td>\n",
       "      <td>新华社</td>\n",
       "      <td>纽约商品交易所黄金期货市场交投最活跃的８月黄金期价２０日比前一交易日下跌３．２美元，收于...</td>\n",
       "      <td>{\"type\":\"海外\",\"site\":\"中证网\",\"commentNum\":\"0\",\"jo...</td>\n",
       "      <td>纽约黄金期价２０日比前一交易日下跌３．２美元</td>\n",
       "      <td>http://www.cs.com.cn/xwzx/hwxx/201706/t2017062...</td>\n",
       "    </tr>\n",
       "    <tr>\n",
       "      <th>...</th>\n",
       "      <td>...</td>\n",
       "      <td>...</td>\n",
       "      <td>...</td>\n",
       "      <td>...</td>\n",
       "      <td>...</td>\n",
       "      <td>...</td>\n",
       "      <td>...</td>\n",
       "    </tr>\n",
       "    <tr>\n",
       "      <th>89581</th>\n",
       "      <td>30</td>\n",
       "      <td>INACIO ROSA</td>\n",
       "      <td>新华社</td>\n",
       "      <td>新华社照片，外代，2017年6月7日\\n（外代二线）足球——世预赛：葡萄牙备战\\n6月6日，...</td>\n",
       "      <td>{\"type\":\"足球\",\"site\":\"新华社\",\"url\":\"http://home.x...</td>\n",
       "      <td>[2]（外代二线）足球——世预赛：葡萄牙备战</td>\n",
       "      <td>http://home.xinhua-news.com/gdsdetailxhsnew/22...</td>\n",
       "    </tr>\n",
       "    <tr>\n",
       "      <th>89582</th>\n",
       "      <td>29</td>\n",
       "      <td>INACIO ROSA</td>\n",
       "      <td>新华社</td>\n",
       "      <td>新华社照片，外代，2017年6月7日\\n（外代二线）足球——世预赛：葡萄牙备战\\n6月6日，...</td>\n",
       "      <td>{\"type\":\"足球\",\"site\":\"新华社\",\"url\":\"http://home.x...</td>\n",
       "      <td>[3]（外代二线）足球——世预赛：葡萄牙备战</td>\n",
       "      <td>http://home.xinhua-news.com/gdsdetailxhsnew/22...</td>\n",
       "    </tr>\n",
       "    <tr>\n",
       "      <th>89583</th>\n",
       "      <td>28</td>\n",
       "      <td>INACIO ROSA</td>\n",
       "      <td>新华社</td>\n",
       "      <td>新华社照片，外代，2017年6月7日\\n（外代二线）足球——世预赛：葡萄牙备战\\n6月6日，...</td>\n",
       "      <td>{\"type\":\"足球\",\"site\":\"新华社\",\"url\":\"http://home.x...</td>\n",
       "      <td>[4]（外代二线）足球——世预赛：葡萄牙备战</td>\n",
       "      <td>http://home.xinhua-news.com/gdsdetailxhsnew/22...</td>\n",
       "    </tr>\n",
       "    <tr>\n",
       "      <th>89584</th>\n",
       "      <td>27</td>\n",
       "      <td>INACIO ROSA</td>\n",
       "      <td>新华社</td>\n",
       "      <td>新华社照片，外代，2017年6月7日\\n（外代二线）足球——世预赛：葡萄牙备战\\n6月6日，...</td>\n",
       "      <td>{\"type\":\"足球\",\"site\":\"新华社\",\"url\":\"http://home.x...</td>\n",
       "      <td>[5]（外代二线）足球——世预赛：葡萄牙备战</td>\n",
       "      <td>http://home.xinhua-news.com/gdsdetailxhsnew/22...</td>\n",
       "    </tr>\n",
       "    <tr>\n",
       "      <th>89585</th>\n",
       "      <td>26</td>\n",
       "      <td>INACIO ROSA</td>\n",
       "      <td>新华社</td>\n",
       "      <td>新华社照片，外代，2017年6月7日\\n（外代二线）足球——世预赛：葡萄牙备战\\n6月6日，...</td>\n",
       "      <td>{\"type\":\"足球\",\"site\":\"新华社\",\"url\":\"http://home.x...</td>\n",
       "      <td>[6]（外代二线）足球——世预赛：葡萄牙备战</td>\n",
       "      <td>http://home.xinhua-news.com/gdsdetailxhsnew/22...</td>\n",
       "    </tr>\n",
       "    <tr>\n",
       "      <th>89586</th>\n",
       "      <td>25</td>\n",
       "      <td>INACIO ROSA</td>\n",
       "      <td>新华社</td>\n",
       "      <td>新华社照片，外代，2017年6月7日\\n（外代二线）足球——世预赛：葡萄牙备战\\n6月6日，...</td>\n",
       "      <td>{\"type\":\"足球\",\"site\":\"新华社\",\"url\":\"http://home.x...</td>\n",
       "      <td>[7]（外代二线）足球——世预赛：葡萄牙备战</td>\n",
       "      <td>http://home.xinhua-news.com/gdsdetailxhsnew/22...</td>\n",
       "    </tr>\n",
       "    <tr>\n",
       "      <th>89587</th>\n",
       "      <td>24</td>\n",
       "      <td>LOVELY GHOSH</td>\n",
       "      <td>新华社</td>\n",
       "      <td>新华社照片，外代，2017年6月7日\\n（外代二线）蚕丝生产\\n6月6日，在印度特里普拉邦特...</td>\n",
       "      <td>{\"type\":\"其它\",\"site\":\"新华社\",\"url\":\"http://home.x...</td>\n",
       "      <td>[1]（外代二线）蚕丝生产</td>\n",
       "      <td>http://home.xinhua-news.com/gdsdetailxhsnew/22...</td>\n",
       "    </tr>\n",
       "    <tr>\n",
       "      <th>89588</th>\n",
       "      <td>23</td>\n",
       "      <td>LOVELY GHOSH</td>\n",
       "      <td>新华社</td>\n",
       "      <td>新华社照片，外代，2017年6月7日\\n（外代二线）蚕丝生产\\n6月6日，在印度特里普拉邦特...</td>\n",
       "      <td>{\"type\":\"其它\",\"site\":\"新华社\",\"url\":\"http://home.x...</td>\n",
       "      <td>[2]（外代二线）蚕丝生产</td>\n",
       "      <td>http://home.xinhua-news.com/gdsdetailxhsnew/22...</td>\n",
       "    </tr>\n",
       "    <tr>\n",
       "      <th>89589</th>\n",
       "      <td>22</td>\n",
       "      <td>LOVELY GHOSH</td>\n",
       "      <td>新华社</td>\n",
       "      <td>新华社照片，外代，2017年6月7日\\n（外代二线）蚕丝生产\\n5月30日，在印度特里普拉邦...</td>\n",
       "      <td>{\"type\":\"其它\",\"site\":\"新华社\",\"url\":\"http://home.x...</td>\n",
       "      <td>[3]（外代二线）蚕丝生产</td>\n",
       "      <td>http://home.xinhua-news.com/gdsdetailxhsnew/22...</td>\n",
       "    </tr>\n",
       "    <tr>\n",
       "      <th>89590</th>\n",
       "      <td>21</td>\n",
       "      <td>LOVELY GHOSH</td>\n",
       "      <td>新华社</td>\n",
       "      <td>新华社照片，外代，2017年6月7日\\n（外代二线）蚕丝生产\\n6月6日，在印度特里普拉邦特...</td>\n",
       "      <td>{\"type\":\"其它\",\"site\":\"新华社\",\"url\":\"http://home.x...</td>\n",
       "      <td>[4]（外代二线）蚕丝生产</td>\n",
       "      <td>http://home.xinhua-news.com/gdsdetailxhsnew/22...</td>\n",
       "    </tr>\n",
       "    <tr>\n",
       "      <th>89591</th>\n",
       "      <td>20</td>\n",
       "      <td>LOVELY GHOSH</td>\n",
       "      <td>新华社</td>\n",
       "      <td>新华社照片，外代，2017年6月7日\\n（外代二线）蚕丝生产\\n5月30日，在印度特里普拉邦...</td>\n",
       "      <td>{\"type\":\"其它\",\"site\":\"新华社\",\"url\":\"http://home.x...</td>\n",
       "      <td>[5]（外代二线）蚕丝生产</td>\n",
       "      <td>http://home.xinhua-news.com/gdsdetailxhsnew/22...</td>\n",
       "    </tr>\n",
       "    <tr>\n",
       "      <th>89592</th>\n",
       "      <td>19</td>\n",
       "      <td>张旌</td>\n",
       "      <td>新华社</td>\n",
       "      <td>\\n\\n2017年4月27日，在首尔光化门广场，民众在集会上手举反“萨德”标语。（新华社记者...</td>\n",
       "      <td>{\"type\":\"其它\",\"site\":\"新华社\",\"url\":\"http://home.x...</td>\n",
       "      <td>“萨德”环评将重启　在韩部署或推迟一年</td>\n",
       "      <td>http://home.xinhua-news.com/gdsdetailxhsnew/22...</td>\n",
       "    </tr>\n",
       "    <tr>\n",
       "      <th>89593</th>\n",
       "      <td>18</td>\n",
       "      <td>NaN</td>\n",
       "      <td>新华社</td>\n",
       "      <td>\\n新华社巴格达6月6日电（记者魏玉栋　程帅朋）伊拉克西部安巴尔省一处市场6日晚发生自杀式爆...</td>\n",
       "      <td>{\"type\":\"其它\",\"site\":\"新华社\",\"url\":\"http://home.x...</td>\n",
       "      <td>伊拉克安巴尔省发生自杀式袭击７人死亡</td>\n",
       "      <td>http://home.xinhua-news.com/gdsdetailxhsnew/22...</td>\n",
       "    </tr>\n",
       "    <tr>\n",
       "      <th>89594</th>\n",
       "      <td>17</td>\n",
       "      <td>LISELOTTE SABROE</td>\n",
       "      <td>新华社</td>\n",
       "      <td>新华社照片，外代，2017年6月7日\\n（外代二线）足球——国际友谊赛：德国平丹麦\\n6月6...</td>\n",
       "      <td>{\"type\":\"足球\",\"site\":\"新华社\",\"url\":\"http://home.x...</td>\n",
       "      <td>[1]（外代二线）足球——国际友谊赛：德国平丹麦</td>\n",
       "      <td>http://home.xinhua-news.com/gdsdetailxhsnew/22...</td>\n",
       "    </tr>\n",
       "    <tr>\n",
       "      <th>89595</th>\n",
       "      <td>16</td>\n",
       "      <td>LISELOTTE SABROE</td>\n",
       "      <td>新华社</td>\n",
       "      <td>新华社照片，外代，2017年6月7日\\n（外代二线）足球——国际友谊赛：德国平丹麦\\n6月6...</td>\n",
       "      <td>{\"type\":\"足球\",\"site\":\"新华社\",\"url\":\"http://home.x...</td>\n",
       "      <td>[3]（外代二线）足球——国际友谊赛：德国平丹麦</td>\n",
       "      <td>http://home.xinhua-news.com/gdsdetailxhsnew/22...</td>\n",
       "    </tr>\n",
       "    <tr>\n",
       "      <th>89596</th>\n",
       "      <td>15</td>\n",
       "      <td>LISELOTTE SABROE</td>\n",
       "      <td>新华社</td>\n",
       "      <td>新华社照片，外代，2017年6月7日\\n（外代二线）足球——国际友谊赛：德国平丹麦\\n6月6...</td>\n",
       "      <td>{\"type\":\"足球\",\"site\":\"新华社\",\"url\":\"http://home.x...</td>\n",
       "      <td>[2]（外代二线）足球——国际友谊赛：德国平丹麦</td>\n",
       "      <td>http://home.xinhua-news.com/gdsdetailxhsnew/22...</td>\n",
       "    </tr>\n",
       "    <tr>\n",
       "      <th>89597</th>\n",
       "      <td>14</td>\n",
       "      <td>LISELOTTE SABROE</td>\n",
       "      <td>新华社</td>\n",
       "      <td>新华社照片，外代，2017年6月7日\\n（外代二线）足球——国际友谊赛：德国平丹麦\\n6月6...</td>\n",
       "      <td>{\"type\":\"足球\",\"site\":\"新华社\",\"url\":\"http://home.x...</td>\n",
       "      <td>[4]（外代二线）足球——国际友谊赛：德国平丹麦</td>\n",
       "      <td>http://home.xinhua-news.com/gdsdetailxhsnew/22...</td>\n",
       "    </tr>\n",
       "    <tr>\n",
       "      <th>89598</th>\n",
       "      <td>13</td>\n",
       "      <td>LISELOTTE SABROE</td>\n",
       "      <td>新华社</td>\n",
       "      <td>新华社照片，外代，2017年6月7日\\n（外代二线）足球——国际友谊赛：德国平丹麦\\n6月6...</td>\n",
       "      <td>{\"type\":\"足球\",\"site\":\"新华社\",\"url\":\"http://home.x...</td>\n",
       "      <td>[6]（外代二线）足球——国际友谊赛：德国平丹麦</td>\n",
       "      <td>http://home.xinhua-news.com/gdsdetailxhsnew/22...</td>\n",
       "    </tr>\n",
       "    <tr>\n",
       "      <th>89599</th>\n",
       "      <td>12</td>\n",
       "      <td>LISELOTTE SABROE</td>\n",
       "      <td>新华社</td>\n",
       "      <td>新华社照片，外代，2017年6月7日\\n（外代二线）足球——国际友谊赛：德国平丹麦\\n6月6...</td>\n",
       "      <td>{\"type\":\"足球\",\"site\":\"新华社\",\"url\":\"http://home.x...</td>\n",
       "      <td>[5]（外代二线）足球——国际友谊赛：德国平丹麦</td>\n",
       "      <td>http://home.xinhua-news.com/gdsdetailxhsnew/22...</td>\n",
       "    </tr>\n",
       "    <tr>\n",
       "      <th>89600</th>\n",
       "      <td>11</td>\n",
       "      <td>LISELOTTE SABROE</td>\n",
       "      <td>新华社</td>\n",
       "      <td>新华社照片，外代，2017年6月7日\\n（外代二线）足球——国际友谊赛：德国平丹麦\\n6月6...</td>\n",
       "      <td>{\"type\":\"足球\",\"site\":\"新华社\",\"url\":\"http://home.x...</td>\n",
       "      <td>[8]（外代二线）足球——国际友谊赛：德国平丹麦</td>\n",
       "      <td>http://home.xinhua-news.com/gdsdetailxhsnew/22...</td>\n",
       "    </tr>\n",
       "    <tr>\n",
       "      <th>89601</th>\n",
       "      <td>10</td>\n",
       "      <td>LISELOTTE SABROE</td>\n",
       "      <td>新华社</td>\n",
       "      <td>新华社照片，外代，2017年6月7日\\n（外代二线）足球——国际友谊赛：德国平丹麦\\n6月6...</td>\n",
       "      <td>{\"type\":\"足球\",\"site\":\"新华社\",\"url\":\"http://home.x...</td>\n",
       "      <td>[7]（外代二线）足球——国际友谊赛：德国平丹麦</td>\n",
       "      <td>http://home.xinhua-news.com/gdsdetailxhsnew/22...</td>\n",
       "    </tr>\n",
       "    <tr>\n",
       "      <th>89602</th>\n",
       "      <td>9</td>\n",
       "      <td>LISELOTTE SABROE</td>\n",
       "      <td>新华社</td>\n",
       "      <td>新华社照片，外代，2017年6月7日\\n（外代二线）足球——国际友谊赛：德国平丹麦\\n6月6...</td>\n",
       "      <td>{\"type\":\"足球\",\"site\":\"新华社\",\"url\":\"http://home.x...</td>\n",
       "      <td>[9]（外代二线）足球——国际友谊赛：德国平丹麦</td>\n",
       "      <td>http://home.xinhua-news.com/gdsdetailxhsnew/22...</td>\n",
       "    </tr>\n",
       "    <tr>\n",
       "      <th>89603</th>\n",
       "      <td>8</td>\n",
       "      <td>郑焕松</td>\n",
       "      <td>新华社</td>\n",
       "      <td>新华社照片，北京，2017年6月7日\\n电影《血战湘江》举行清华大学巡映活动\\n6月6日，电...</td>\n",
       "      <td>{\"type\":\"社会\",\"site\":\"新华社\",\"url\":\"http://home.x...</td>\n",
       "      <td>（文化）（1）电影《血战湘江》举行清华大学巡映活动</td>\n",
       "      <td>http://home.xinhua-news.com/gdsdetailxhsnew/22...</td>\n",
       "    </tr>\n",
       "    <tr>\n",
       "      <th>89604</th>\n",
       "      <td>7</td>\n",
       "      <td>郑焕松</td>\n",
       "      <td>新华社</td>\n",
       "      <td>新华社照片，北京，2017年6月7日\\n电影《血战湘江》举行清华大学巡映活动\\n6月6日，清...</td>\n",
       "      <td>{\"type\":\"社会\",\"site\":\"新华社\",\"url\":\"http://home.x...</td>\n",
       "      <td>（文化）（2）电影《血战湘江》举行清华大学巡映活动</td>\n",
       "      <td>http://home.xinhua-news.com/gdsdetailxhsnew/22...</td>\n",
       "    </tr>\n",
       "    <tr>\n",
       "      <th>89605</th>\n",
       "      <td>6</td>\n",
       "      <td>郑焕松</td>\n",
       "      <td>新华社</td>\n",
       "      <td>新华社照片，北京，2017年6月7日\\n电影《血战湘江》举行清华大学巡映活动\\n6月6日，电...</td>\n",
       "      <td>{\"type\":\"社会\",\"site\":\"新华社\",\"url\":\"http://home.x...</td>\n",
       "      <td>（文化）（3）电影《血战湘江》举行清华大学巡映活动</td>\n",
       "      <td>http://home.xinhua-news.com/gdsdetailxhsnew/22...</td>\n",
       "    </tr>\n",
       "    <tr>\n",
       "      <th>89606</th>\n",
       "      <td>5</td>\n",
       "      <td>邹峥</td>\n",
       "      <td>新华社</td>\n",
       "      <td>新华社照片，多伦多，2017年6月7日\\n（体育）（2）冰球——国家女子冰球队海外选秀在多伦...</td>\n",
       "      <td>{\"type\":\"冰球\",\"site\":\"新华社\",\"url\":\"http://home.x...</td>\n",
       "      <td>（体育）（2）冰球——国家女子冰球队海外选秀在多伦多展开</td>\n",
       "      <td>http://home.xinhua-news.com/gdsdetailxhsnew/22...</td>\n",
       "    </tr>\n",
       "    <tr>\n",
       "      <th>89607</th>\n",
       "      <td>4</td>\n",
       "      <td>王衡</td>\n",
       "      <td>新华社</td>\n",
       "      <td>新华社兰州6月3日电（王衡、徐丹）记者从甘肃省交通运输厅获悉，甘肃近日集中开建高速公路、普通...</td>\n",
       "      <td>{\"type\":\"宏观经济\",\"site\":\"新华社\",\"url\":\"http://home...</td>\n",
       "      <td>（经济）甘肃集中开工35个重点交通建设项目</td>\n",
       "      <td>http://home.xinhua-news.com/gdsdetailxhsnew/22...</td>\n",
       "    </tr>\n",
       "    <tr>\n",
       "      <th>89608</th>\n",
       "      <td>3</td>\n",
       "      <td>张旌</td>\n",
       "      <td>新华社</td>\n",
       "      <td>\\n\\n2017年5月29日，在法国巴黎郊外的凡尔赛宫，法国总统马克龙出席新闻发布会。（新华...</td>\n",
       "      <td>{\"type\":\"其它\",\"site\":\"新华社\",\"url\":\"http://home.x...</td>\n",
       "      <td>法国议会选举　马克龙有望获“压倒性胜利”</td>\n",
       "      <td>http://home.xinhua-news.com/gdsdetailxhsnew/22...</td>\n",
       "    </tr>\n",
       "    <tr>\n",
       "      <th>89609</th>\n",
       "      <td>2</td>\n",
       "      <td>夏文辉</td>\n",
       "      <td>新华社</td>\n",
       "      <td>\\n\\n2017年5月25日，在美国马萨诸塞州剑桥市，哈佛大学毕业生在毕业典礼上欢呼。（新华...</td>\n",
       "      <td>{\"type\":\"其它\",\"site\":\"新华社\",\"url\":\"http://home.x...</td>\n",
       "      <td>哈佛大学为何取消这些新生入选资格？</td>\n",
       "      <td>http://home.xinhua-news.com/gdsdetailxhsnew/22...</td>\n",
       "    </tr>\n",
       "    <tr>\n",
       "      <th>89610</th>\n",
       "      <td>1</td>\n",
       "      <td>王子江 张寒</td>\n",
       "      <td>新华社</td>\n",
       "      <td>新华社德国杜塞尔多夫６月６日电题：乒乓女球迷　\\n　　新华社记者王子江、张寒\\n　　熊老...</td>\n",
       "      <td>{\"type\":\"体育\",\"site\":\"新华社\",\"url\":\"http://home.x...</td>\n",
       "      <td>（体育）题：乒乓女球迷</td>\n",
       "      <td>http://home.xinhua-news.com/gdsdetailxhsnew/22...</td>\n",
       "    </tr>\n",
       "  </tbody>\n",
       "</table>\n",
       "<p>78661 rows × 7 columns</p>\n",
       "</div>"
      ],
      "text/plain": [
       "          id            author source  \\\n",
       "3      89614               NaN    新华社   \n",
       "39     89578               NaN    新华社   \n",
       "95     89522               NaN    新华社   \n",
       "113    89504               NaN    新华社   \n",
       "305    89312               NaN    新华社   \n",
       "312    89305               NaN    新华社   \n",
       "314    89303               NaN    新华社   \n",
       "543    89074               刘瑞莹    新华社   \n",
       "545    89072               NaN    新华社   \n",
       "651    88966                王点    新华社   \n",
       "671    88946                王点    新华社   \n",
       "679    88938                王点    新华社   \n",
       "715    88902                李芳    新华社   \n",
       "794    88823               卜晓明    新华社   \n",
       "810    88807               张启畅    新华社   \n",
       "816    88801               张雪飞    新华社   \n",
       "909    88708               NaN    新华社   \n",
       "931    88686               NaN    新华社   \n",
       "934    88683                邓茜    新华社   \n",
       "937    88680               NaN    新华社   \n",
       "940    88677               NaN    新华社   \n",
       "943    88674                王强    新华社   \n",
       "946    88671               王乃水    新华社   \n",
       "951    88666               NaN    新华社   \n",
       "954    88663               NaN    新华社   \n",
       "958    88659               NaN    新华社   \n",
       "964    88653               NaN    新华社   \n",
       "966    88651               NaN    新华社   \n",
       "990    88627               NaN    新华社   \n",
       "995    88622               NaN    新华社   \n",
       "...      ...               ...    ...   \n",
       "89581     30       INACIO ROSA    新华社   \n",
       "89582     29       INACIO ROSA    新华社   \n",
       "89583     28       INACIO ROSA    新华社   \n",
       "89584     27       INACIO ROSA    新华社   \n",
       "89585     26       INACIO ROSA    新华社   \n",
       "89586     25       INACIO ROSA    新华社   \n",
       "89587     24      LOVELY GHOSH    新华社   \n",
       "89588     23      LOVELY GHOSH    新华社   \n",
       "89589     22      LOVELY GHOSH    新华社   \n",
       "89590     21      LOVELY GHOSH    新华社   \n",
       "89591     20      LOVELY GHOSH    新华社   \n",
       "89592     19                张旌    新华社   \n",
       "89593     18               NaN    新华社   \n",
       "89594     17  LISELOTTE SABROE    新华社   \n",
       "89595     16  LISELOTTE SABROE    新华社   \n",
       "89596     15  LISELOTTE SABROE    新华社   \n",
       "89597     14  LISELOTTE SABROE    新华社   \n",
       "89598     13  LISELOTTE SABROE    新华社   \n",
       "89599     12  LISELOTTE SABROE    新华社   \n",
       "89600     11  LISELOTTE SABROE    新华社   \n",
       "89601     10  LISELOTTE SABROE    新华社   \n",
       "89602      9  LISELOTTE SABROE    新华社   \n",
       "89603      8               郑焕松    新华社   \n",
       "89604      7               郑焕松    新华社   \n",
       "89605      6               郑焕松    新华社   \n",
       "89606      5                邹峥    新华社   \n",
       "89607      4                王衡    新华社   \n",
       "89608      3                张旌    新华社   \n",
       "89609      2               夏文辉    新华社   \n",
       "89610      1            王子江 张寒    新华社   \n",
       "\n",
       "                                                 content  \\\n",
       "3        这是6月18日在葡萄牙中部大佩德罗冈地区拍摄的被森林大火烧毁的汽车。新华社记者张立云摄\\r\\n   \n",
       "39       这是6月18日在葡萄牙中部大佩德罗冈地区拍摄的被森林大火烧毁的汽车。新华社记者张立云摄\\r\\n   \n",
       "95     新华社韩国济州6月18日电综述：亚投行第二届年会三大亮点\\r\\n新华社记者 耿学鹏 严蕾\\r...   \n",
       "113    新华社北京6月18日电 经军委领导批准，《军营理论热点怎么看·2017》日前印发全军。\\r\\...   \n",
       "305    新华社兰州6月19日电（记者张钦）记者19日了解到，刚刚出台的《甘肃省网络扶贫行动的实施方案...   \n",
       "312    新华社乌鲁木齐6月18日电（记者杜刚、王秉阳）6月18日，新疆天山天池首次举办山地马拉松比赛...   \n",
       "314    新华社北京6月19日电（记者熊丰）记者从公安部消防局获悉，19日上午6时，由公安部消防局组织...   \n",
       "543    　　暑期旅游旺季是各大旅游景区开门迎客的好时机。然而，有5家5A级景区却高兴不起来：国家旅游...   \n",
       "545    　　新华社北京6月20日电　总部设在德国波恩的国际残奥委会在当地时间19日宣布，中国残联主席...   \n",
       "651    　　新华社南京4月17日电(记者潘晔)江苏拥有不少5A景区。日前，一份来自清华大学的第三方调...   \n",
       "671    　　5月9日，在美国纽约，人们观看巴西里约热内卢的缩微景观。\\r\\n　　当日，“格列佛大门”...   \n",
       "679    　　新华社洛杉矶5月9日电(记者高山)美国洛杉矶旅游局9日宣布，洛杉矶2016年接待游客47...   \n",
       "715    　　机动车在斑马线前不但不减速反而抢行，这类群众反映强烈的城市交通乱象将在本月得到整治。记者...   \n",
       "794    　　美国亚马逊公司首席执行官杰夫?贝索斯比全球首富比尔?盖茨差多少钱？答案是５０亿美元。\\r...   \n",
       "810    　　新华社巴西利亚６月１９日电（记者张启畅）巴西央行１９日发布每周经济数据报告预计，今年巴西...   \n",
       "816    　　新华社巴黎６月１９日电（记者张雪飞）第５２届巴黎－布尔歇国际航空航天展览会（巴黎航展）１...   \n",
       "909    　　新华社北京6月20日电　总部设在德国波恩的国际残奥委会在当地时间19日宣布，中国残联主席...   \n",
       "931    　　 新华社快讯：国际油价２０日下跌，７月交货的纽约轻质原油期货价格下跌０．９７美元，收于每...   \n",
       "934    　　新华社伦敦６月２０日电（记者邓茜）伦敦股市《金融时报》１００种股票平均价格指数２０日报收...   \n",
       "937    　　新华社快讯：纽约商品交易所黄金期货市场交投最活跃的８月黄金期价２０日比前一交易日下跌３．...   \n",
       "940    　　新华社快讯：伦敦股市《金融时报》１００种股票平均价格指数２０日报收于７４７２．７１点，比...   \n",
       "943    　　新华社芝加哥６月２０日电（记者王强）芝加哥期货交易所２０日玉米、小麦和大豆期价涨跌不一。...   \n",
       "946    　　新华社纽约６月２０日电（记者王乃水）美元对多数主要货币汇率２０日上涨。\\r\\n　　美国联...   \n",
       "951    　　新华社快讯：摩根士丹利资本国际公司（ＭＳＣＩ）２０日宣布，将中国Ａ股纳入ＭＳＣＩ新兴市场...   \n",
       "954    　　 美元对多数主要货币汇率２０日上涨，截至纽约汇市尾盘，１欧元兑换１．１１３０美元，１美元...   \n",
       "958    　　 国际油价２０日下跌，７月交货的纽约轻质原油期货价格下跌０．９７美元，收于每桶４３．２３...   \n",
       "964    　　伦敦股市《金融时报》１００种股票平均价格指数２０日报收于７４７２．７１点，比前一交易日下...   \n",
       "966    　　 巴黎股市ＣＡＣ４０股指２０日尾盘报收于５２９３．６５点，较前一交易日下跌１７．０７点，...   \n",
       "990    　　 纽约股市三大股指２０日下跌，其中道指跌０．２９％，标普指数跌０．６７％，纳斯达克指数跌...   \n",
       "995    　　纽约商品交易所黄金期货市场交投最活跃的８月黄金期价２０日比前一交易日下跌３．２美元，收于...   \n",
       "...                                                  ...   \n",
       "89581  新华社照片，外代，2017年6月7日\\n（外代二线）足球——世预赛：葡萄牙备战\\n6月6日，...   \n",
       "89582  新华社照片，外代，2017年6月7日\\n（外代二线）足球——世预赛：葡萄牙备战\\n6月6日，...   \n",
       "89583  新华社照片，外代，2017年6月7日\\n（外代二线）足球——世预赛：葡萄牙备战\\n6月6日，...   \n",
       "89584  新华社照片，外代，2017年6月7日\\n（外代二线）足球——世预赛：葡萄牙备战\\n6月6日，...   \n",
       "89585  新华社照片，外代，2017年6月7日\\n（外代二线）足球——世预赛：葡萄牙备战\\n6月6日，...   \n",
       "89586  新华社照片，外代，2017年6月7日\\n（外代二线）足球——世预赛：葡萄牙备战\\n6月6日，...   \n",
       "89587  新华社照片，外代，2017年6月7日\\n（外代二线）蚕丝生产\\n6月6日，在印度特里普拉邦特...   \n",
       "89588  新华社照片，外代，2017年6月7日\\n（外代二线）蚕丝生产\\n6月6日，在印度特里普拉邦特...   \n",
       "89589  新华社照片，外代，2017年6月7日\\n（外代二线）蚕丝生产\\n5月30日，在印度特里普拉邦...   \n",
       "89590  新华社照片，外代，2017年6月7日\\n（外代二线）蚕丝生产\\n6月6日，在印度特里普拉邦特...   \n",
       "89591  新华社照片，外代，2017年6月7日\\n（外代二线）蚕丝生产\\n5月30日，在印度特里普拉邦...   \n",
       "89592  \\n\\n2017年4月27日，在首尔光化门广场，民众在集会上手举反“萨德”标语。（新华社记者...   \n",
       "89593  \\n新华社巴格达6月6日电（记者魏玉栋　程帅朋）伊拉克西部安巴尔省一处市场6日晚发生自杀式爆...   \n",
       "89594  新华社照片，外代，2017年6月7日\\n（外代二线）足球——国际友谊赛：德国平丹麦\\n6月6...   \n",
       "89595  新华社照片，外代，2017年6月7日\\n（外代二线）足球——国际友谊赛：德国平丹麦\\n6月6...   \n",
       "89596  新华社照片，外代，2017年6月7日\\n（外代二线）足球——国际友谊赛：德国平丹麦\\n6月6...   \n",
       "89597  新华社照片，外代，2017年6月7日\\n（外代二线）足球——国际友谊赛：德国平丹麦\\n6月6...   \n",
       "89598  新华社照片，外代，2017年6月7日\\n（外代二线）足球——国际友谊赛：德国平丹麦\\n6月6...   \n",
       "89599  新华社照片，外代，2017年6月7日\\n（外代二线）足球——国际友谊赛：德国平丹麦\\n6月6...   \n",
       "89600  新华社照片，外代，2017年6月7日\\n（外代二线）足球——国际友谊赛：德国平丹麦\\n6月6...   \n",
       "89601  新华社照片，外代，2017年6月7日\\n（外代二线）足球——国际友谊赛：德国平丹麦\\n6月6...   \n",
       "89602  新华社照片，外代，2017年6月7日\\n（外代二线）足球——国际友谊赛：德国平丹麦\\n6月6...   \n",
       "89603  新华社照片，北京，2017年6月7日\\n电影《血战湘江》举行清华大学巡映活动\\n6月6日，电...   \n",
       "89604  新华社照片，北京，2017年6月7日\\n电影《血战湘江》举行清华大学巡映活动\\n6月6日，清...   \n",
       "89605  新华社照片，北京，2017年6月7日\\n电影《血战湘江》举行清华大学巡映活动\\n6月6日，电...   \n",
       "89606  新华社照片，多伦多，2017年6月7日\\n（体育）（2）冰球——国家女子冰球队海外选秀在多伦...   \n",
       "89607  新华社兰州6月3日电（王衡、徐丹）记者从甘肃省交通运输厅获悉，甘肃近日集中开建高速公路、普通...   \n",
       "89608  \\n\\n2017年5月29日，在法国巴黎郊外的凡尔赛宫，法国总统马克龙出席新闻发布会。（新华...   \n",
       "89609  \\n\\n2017年5月25日，在美国马萨诸塞州剑桥市，哈佛大学毕业生在毕业典礼上欢呼。（新华...   \n",
       "89610  　　新华社德国杜塞尔多夫６月６日电题：乒乓女球迷　\\n　　新华社记者王子江、张寒\\n　　熊老...   \n",
       "\n",
       "                                                 feature  \\\n",
       "3      {\"type\":\"国际新闻\",\"site\":\"环球\",\"commentNum\":\"0\",\"j...   \n",
       "39     {\"type\":\"国际新闻\",\"site\":\"环球\",\"commentNum\":\"0\",\"j...   \n",
       "95     {\"type\":\"国内新闻\",\"site\":\"环球\",\"commentNum\":\"0\",\"j...   \n",
       "113    {\"type\":\"国内新闻\",\"site\":\"环球\",\"commentNum\":\"0\",\"j...   \n",
       "305    {\"type\":\"国内新闻\",\"site\":\"环球\",\"commentNum\":\"0\",\"j...   \n",
       "312    {\"type\":\"国内新闻\",\"site\":\"环球\",\"commentNum\":\"0\",\"j...   \n",
       "314    {\"type\":\"国内新闻\",\"site\":\"环球\",\"commentNum\":\"0\",\"j...   \n",
       "543    {\"type\":\"旅游\",\"site\":\"环球\",\"commentNum\":\"0\",\"joi...   \n",
       "545    {\"type\":\"体育\",\"site\":\"新浪\",\"commentNum\":\" 50\",\"j...   \n",
       "651    {\"type\":\"旅游\",\"site\":\"环球\",\"commentNum\":\"0\",\"joi...   \n",
       "671    {\"type\":\"旅游\",\"site\":\"环球\",\"commentNum\":\"0\",\"joi...   \n",
       "679    {\"type\":\"旅游\",\"site\":\"环球\",\"commentNum\":\"0\",\"joi...   \n",
       "715    {\"type\":\"汽车\",\"site\":\"环球\",\"commentNum\":\"0\",\"joi...   \n",
       "794    {\"type\":\"海外\",\"site\":\"中证网\",\"commentNum\":\"0\",\"jo...   \n",
       "810    {\"type\":\"海外\",\"site\":\"中证网\",\"commentNum\":\"0\",\"jo...   \n",
       "816    {\"type\":\"海外\",\"site\":\"中证网\",\"commentNum\":\"0\",\"jo...   \n",
       "909    {\"type\":\"新闻\",\"site\":\"新浪热门\",\"commentNum\":\" 392\"...   \n",
       "931    {\"type\":\"海外\",\"site\":\"中证网\",\"commentNum\":\"0\",\"jo...   \n",
       "934    {\"type\":\"海外\",\"site\":\"中证网\",\"commentNum\":\"0\",\"jo...   \n",
       "937    {\"type\":\"海外\",\"site\":\"中证网\",\"commentNum\":\"0\",\"jo...   \n",
       "940    {\"type\":\"海外\",\"site\":\"中证网\",\"commentNum\":\"0\",\"jo...   \n",
       "943    {\"type\":\"海外\",\"site\":\"中证网\",\"commentNum\":\"0\",\"jo...   \n",
       "946    {\"type\":\"海外\",\"site\":\"中证网\",\"commentNum\":\"0\",\"jo...   \n",
       "951    {\"type\":\"海外\",\"site\":\"中证网\",\"commentNum\":\"0\",\"jo...   \n",
       "954    {\"type\":\"海外\",\"site\":\"中证网\",\"commentNum\":\"0\",\"jo...   \n",
       "958    {\"type\":\"海外\",\"site\":\"中证网\",\"commentNum\":\"0\",\"jo...   \n",
       "964    {\"type\":\"海外\",\"site\":\"中证网\",\"commentNum\":\"0\",\"jo...   \n",
       "966    {\"type\":\"海外\",\"site\":\"中证网\",\"commentNum\":\"0\",\"jo...   \n",
       "990    {\"type\":\"海外\",\"site\":\"中证网\",\"commentNum\":\"0\",\"jo...   \n",
       "995    {\"type\":\"海外\",\"site\":\"中证网\",\"commentNum\":\"0\",\"jo...   \n",
       "...                                                  ...   \n",
       "89581  {\"type\":\"足球\",\"site\":\"新华社\",\"url\":\"http://home.x...   \n",
       "89582  {\"type\":\"足球\",\"site\":\"新华社\",\"url\":\"http://home.x...   \n",
       "89583  {\"type\":\"足球\",\"site\":\"新华社\",\"url\":\"http://home.x...   \n",
       "89584  {\"type\":\"足球\",\"site\":\"新华社\",\"url\":\"http://home.x...   \n",
       "89585  {\"type\":\"足球\",\"site\":\"新华社\",\"url\":\"http://home.x...   \n",
       "89586  {\"type\":\"足球\",\"site\":\"新华社\",\"url\":\"http://home.x...   \n",
       "89587  {\"type\":\"其它\",\"site\":\"新华社\",\"url\":\"http://home.x...   \n",
       "89588  {\"type\":\"其它\",\"site\":\"新华社\",\"url\":\"http://home.x...   \n",
       "89589  {\"type\":\"其它\",\"site\":\"新华社\",\"url\":\"http://home.x...   \n",
       "89590  {\"type\":\"其它\",\"site\":\"新华社\",\"url\":\"http://home.x...   \n",
       "89591  {\"type\":\"其它\",\"site\":\"新华社\",\"url\":\"http://home.x...   \n",
       "89592  {\"type\":\"其它\",\"site\":\"新华社\",\"url\":\"http://home.x...   \n",
       "89593  {\"type\":\"其它\",\"site\":\"新华社\",\"url\":\"http://home.x...   \n",
       "89594  {\"type\":\"足球\",\"site\":\"新华社\",\"url\":\"http://home.x...   \n",
       "89595  {\"type\":\"足球\",\"site\":\"新华社\",\"url\":\"http://home.x...   \n",
       "89596  {\"type\":\"足球\",\"site\":\"新华社\",\"url\":\"http://home.x...   \n",
       "89597  {\"type\":\"足球\",\"site\":\"新华社\",\"url\":\"http://home.x...   \n",
       "89598  {\"type\":\"足球\",\"site\":\"新华社\",\"url\":\"http://home.x...   \n",
       "89599  {\"type\":\"足球\",\"site\":\"新华社\",\"url\":\"http://home.x...   \n",
       "89600  {\"type\":\"足球\",\"site\":\"新华社\",\"url\":\"http://home.x...   \n",
       "89601  {\"type\":\"足球\",\"site\":\"新华社\",\"url\":\"http://home.x...   \n",
       "89602  {\"type\":\"足球\",\"site\":\"新华社\",\"url\":\"http://home.x...   \n",
       "89603  {\"type\":\"社会\",\"site\":\"新华社\",\"url\":\"http://home.x...   \n",
       "89604  {\"type\":\"社会\",\"site\":\"新华社\",\"url\":\"http://home.x...   \n",
       "89605  {\"type\":\"社会\",\"site\":\"新华社\",\"url\":\"http://home.x...   \n",
       "89606  {\"type\":\"冰球\",\"site\":\"新华社\",\"url\":\"http://home.x...   \n",
       "89607  {\"type\":\"宏观经济\",\"site\":\"新华社\",\"url\":\"http://home...   \n",
       "89608  {\"type\":\"其它\",\"site\":\"新华社\",\"url\":\"http://home.x...   \n",
       "89609  {\"type\":\"其它\",\"site\":\"新华社\",\"url\":\"http://home.x...   \n",
       "89610  {\"type\":\"体育\",\"site\":\"新华社\",\"url\":\"http://home.x...   \n",
       "\n",
       "                                title  \\\n",
       "3       葡森林火灾造成至少62人死亡 政府宣布进入紧急状态（组图）   \n",
       "39          葡森林火灾造成至少62人死亡 政府宣布进入紧急状态   \n",
       "95                    综述：亚投行第二届年会三大亮点   \n",
       "113              《军营理论热点怎么看·2017》印发全军   \n",
       "305      甘肃力推网络扶贫：贫困山区到2020年实现4G网络全覆盖   \n",
       "312                    天山天池首次举办山地马拉松赛   \n",
       "314              9省市联动开展跨区域地震救援实战拉动演练   \n",
       "543          一年内全国12家5A级景区被国家旅游局摘牌或警告   \n",
       "545                 张海迪获得国际残奥委会主席参选提名   \n",
       "651              拿什么消除游客“差评”？—江苏旅游业调查   \n",
       "671                  纽约举办“格列佛大门”微缩景观展   \n",
       "679             洛杉矶2016年游客人数及旅游收入均创新高   \n",
       "715         公安部:近3年斑马线上交通事故共造成3898人死亡   \n",
       "794            亚马逊CEO贝索斯比盖茨差多少钱？50亿美元   \n",
       "810                    巴西央行下调今年经济增长预期   \n",
       "816                 巴黎航展首日空客波音双双公布新机型   \n",
       "909                 张海迪获得国际残奥委会主席参选提名   \n",
       "931           ７月交货的纽约轻质原油期货价格下跌０．９７美元   \n",
       "934                         伦敦股市２０日下跌   \n",
       "937            纽约黄金期价２０日比前一交易日下跌３．２美元   \n",
       "940                伦敦股市２０日报收于７４７２．７１点   \n",
       "943                   芝加哥农产品期价２０日涨跌不一   \n",
       "946                  美元对多数主要货币汇率20日上涨   \n",
       "951    摩根士丹利资本国际公司宣布将中国Ａ股纳入ＭＳＣＩ新兴市场指数   \n",
       "954                  美元对多数主要货币汇率２０日上涨   \n",
       "958           ７月交货的纽约轻质原油期货价格下跌０．９７美元   \n",
       "964                伦敦股市２０日报收于７４７２．７１点   \n",
       "966       巴黎股市ＣＡＣ４０股指２０日尾盘报收于５２９３．６５点   \n",
       "990                     纽约股市三大股指２０日下跌   \n",
       "995            纽约黄金期价２０日比前一交易日下跌３．２美元   \n",
       "...                               ...   \n",
       "89581          [2]（外代二线）足球——世预赛：葡萄牙备战   \n",
       "89582          [3]（外代二线）足球——世预赛：葡萄牙备战   \n",
       "89583          [4]（外代二线）足球——世预赛：葡萄牙备战   \n",
       "89584          [5]（外代二线）足球——世预赛：葡萄牙备战   \n",
       "89585          [6]（外代二线）足球——世预赛：葡萄牙备战   \n",
       "89586          [7]（外代二线）足球——世预赛：葡萄牙备战   \n",
       "89587                   [1]（外代二线）蚕丝生产   \n",
       "89588                   [2]（外代二线）蚕丝生产   \n",
       "89589                   [3]（外代二线）蚕丝生产   \n",
       "89590                   [4]（外代二线）蚕丝生产   \n",
       "89591                   [5]（外代二线）蚕丝生产   \n",
       "89592             “萨德”环评将重启　在韩部署或推迟一年   \n",
       "89593              伊拉克安巴尔省发生自杀式袭击７人死亡   \n",
       "89594        [1]（外代二线）足球——国际友谊赛：德国平丹麦   \n",
       "89595        [3]（外代二线）足球——国际友谊赛：德国平丹麦   \n",
       "89596        [2]（外代二线）足球——国际友谊赛：德国平丹麦   \n",
       "89597        [4]（外代二线）足球——国际友谊赛：德国平丹麦   \n",
       "89598        [6]（外代二线）足球——国际友谊赛：德国平丹麦   \n",
       "89599        [5]（外代二线）足球——国际友谊赛：德国平丹麦   \n",
       "89600        [8]（外代二线）足球——国际友谊赛：德国平丹麦   \n",
       "89601        [7]（外代二线）足球——国际友谊赛：德国平丹麦   \n",
       "89602        [9]（外代二线）足球——国际友谊赛：德国平丹麦   \n",
       "89603       （文化）（1）电影《血战湘江》举行清华大学巡映活动   \n",
       "89604       （文化）（2）电影《血战湘江》举行清华大学巡映活动   \n",
       "89605       （文化）（3）电影《血战湘江》举行清华大学巡映活动   \n",
       "89606    （体育）（2）冰球——国家女子冰球队海外选秀在多伦多展开   \n",
       "89607           （经济）甘肃集中开工35个重点交通建设项目   \n",
       "89608            法国议会选举　马克龙有望获“压倒性胜利”   \n",
       "89609               哈佛大学为何取消这些新生入选资格？   \n",
       "89610                    （体育）题：乒乓女球迷　   \n",
       "\n",
       "                                                     url  \n",
       "3      http://world.huanqiu.com/hot/2017-06/10866126....  \n",
       "39     http://world.huanqiu.com/hot/2017-06/10866229....  \n",
       "95     http://china.huanqiu.com/hot/2017-06/10866439....  \n",
       "113    http://china.huanqiu.com/hot/2017-06/10866447....  \n",
       "305    http://china.huanqiu.com/hot/2017-06/10866626....  \n",
       "312    http://china.huanqiu.com/hot/2017-06/10866627....  \n",
       "314    http://china.huanqiu.com/hot/2017-06/10866630....  \n",
       "543      http://go.huanqiu.com/news/2016-10/9542454.html  \n",
       "545    http://sports.sina.com.cn/others/others/2017-0...  \n",
       "651     http://go.huanqiu.com/news/2017-04/10493712.html  \n",
       "671     http://go.huanqiu.com/news/2017-05/10644520.html  \n",
       "679     http://go.huanqiu.com/news/2017-05/10644526.html  \n",
       "715    http://auto.huanqiu.com/news/2017-06/10865485....  \n",
       "794    http://www.cs.com.cn/xwzx/hwxx/201706/t2017062...  \n",
       "810    http://www.cs.com.cn/xwzx/hwxx/201706/t2017062...  \n",
       "816    http://www.cs.com.cn/xwzx/hwxx/201706/t2017062...  \n",
       "909    http://news.sina.com.cn/c/nd/2017-06-20/doc-if...  \n",
       "931    http://www.cs.com.cn/xwzx/hwxx/201706/t2017062...  \n",
       "934    http://www.cs.com.cn/xwzx/hwxx/201706/t2017062...  \n",
       "937    http://www.cs.com.cn/xwzx/hwxx/201706/t2017062...  \n",
       "940    http://www.cs.com.cn/xwzx/hwxx/201706/t2017062...  \n",
       "943    http://www.cs.com.cn/xwzx/hwxx/201706/t2017062...  \n",
       "946    http://www.cs.com.cn/xwzx/hwxx/201706/t2017062...  \n",
       "951    http://www.cs.com.cn/xwzx/hwxx/201706/t2017062...  \n",
       "954    http://www.cs.com.cn/xwzx/hwxx/201706/t2017062...  \n",
       "958    http://www.cs.com.cn/xwzx/hwxx/201706/t2017062...  \n",
       "964    http://www.cs.com.cn/xwzx/hwxx/201706/t2017062...  \n",
       "966    http://www.cs.com.cn/xwzx/hwxx/201706/t2017062...  \n",
       "990    http://www.cs.com.cn/xwzx/hwxx/201706/t2017062...  \n",
       "995    http://www.cs.com.cn/xwzx/hwxx/201706/t2017062...  \n",
       "...                                                  ...  \n",
       "89581  http://home.xinhua-news.com/gdsdetailxhsnew/22...  \n",
       "89582  http://home.xinhua-news.com/gdsdetailxhsnew/22...  \n",
       "89583  http://home.xinhua-news.com/gdsdetailxhsnew/22...  \n",
       "89584  http://home.xinhua-news.com/gdsdetailxhsnew/22...  \n",
       "89585  http://home.xinhua-news.com/gdsdetailxhsnew/22...  \n",
       "89586  http://home.xinhua-news.com/gdsdetailxhsnew/22...  \n",
       "89587  http://home.xinhua-news.com/gdsdetailxhsnew/22...  \n",
       "89588  http://home.xinhua-news.com/gdsdetailxhsnew/22...  \n",
       "89589  http://home.xinhua-news.com/gdsdetailxhsnew/22...  \n",
       "89590  http://home.xinhua-news.com/gdsdetailxhsnew/22...  \n",
       "89591  http://home.xinhua-news.com/gdsdetailxhsnew/22...  \n",
       "89592  http://home.xinhua-news.com/gdsdetailxhsnew/22...  \n",
       "89593  http://home.xinhua-news.com/gdsdetailxhsnew/22...  \n",
       "89594  http://home.xinhua-news.com/gdsdetailxhsnew/22...  \n",
       "89595  http://home.xinhua-news.com/gdsdetailxhsnew/22...  \n",
       "89596  http://home.xinhua-news.com/gdsdetailxhsnew/22...  \n",
       "89597  http://home.xinhua-news.com/gdsdetailxhsnew/22...  \n",
       "89598  http://home.xinhua-news.com/gdsdetailxhsnew/22...  \n",
       "89599  http://home.xinhua-news.com/gdsdetailxhsnew/22...  \n",
       "89600  http://home.xinhua-news.com/gdsdetailxhsnew/22...  \n",
       "89601  http://home.xinhua-news.com/gdsdetailxhsnew/22...  \n",
       "89602  http://home.xinhua-news.com/gdsdetailxhsnew/22...  \n",
       "89603  http://home.xinhua-news.com/gdsdetailxhsnew/22...  \n",
       "89604  http://home.xinhua-news.com/gdsdetailxhsnew/22...  \n",
       "89605  http://home.xinhua-news.com/gdsdetailxhsnew/22...  \n",
       "89606  http://home.xinhua-news.com/gdsdetailxhsnew/22...  \n",
       "89607  http://home.xinhua-news.com/gdsdetailxhsnew/22...  \n",
       "89608  http://home.xinhua-news.com/gdsdetailxhsnew/22...  \n",
       "89609  http://home.xinhua-news.com/gdsdetailxhsnew/22...  \n",
       "89610  http://home.xinhua-news.com/gdsdetailxhsnew/22...  \n",
       "\n",
       "[78661 rows x 7 columns]"
      ]
     },
     "execution_count": 6,
     "metadata": {},
     "output_type": "execute_result"
    }
   ],
   "source": [
    "content[content['source'] == '新华社']"
   ]
  },
  {
   "cell_type": "code",
   "execution_count": 7,
   "metadata": {},
   "outputs": [],
   "source": [
    "content = content.fillna('')"
   ]
  },
  {
   "cell_type": "code",
   "execution_count": 8,
   "metadata": {},
   "outputs": [],
   "source": [
    "content['is_xinhua'] = np.where(content['source'].str.contains('新华'), 1, 0)"
   ]
  },
  {
   "cell_type": "code",
   "execution_count": 9,
   "metadata": {
    "scrolled": true
   },
   "outputs": [
    {
     "data": {
      "text/plain": [
       "0     0\n",
       "1     0\n",
       "2     0\n",
       "3     1\n",
       "4     0\n",
       "5     0\n",
       "6     0\n",
       "7     0\n",
       "8     0\n",
       "9     0\n",
       "10    0\n",
       "11    0\n",
       "12    0\n",
       "13    0\n",
       "14    0\n",
       "15    0\n",
       "16    0\n",
       "17    1\n",
       "18    0\n",
       "19    0\n",
       "Name: is_xinhua, dtype: int64"
      ]
     },
     "execution_count": 9,
     "metadata": {},
     "output_type": "execute_result"
    }
   ],
   "source": [
    "content['is_xinhua'].head(20)"
   ]
  },
  {
   "cell_type": "code",
   "execution_count": 10,
   "metadata": {},
   "outputs": [],
   "source": [
    "def cut(string):\n",
    "    return ' '.join(jieba.cut(string))"
   ]
  },
  {
   "cell_type": "code",
   "execution_count": 11,
   "metadata": {},
   "outputs": [
    {
     "name": "stderr",
     "output_type": "stream",
     "text": [
      "Building prefix dict from the default dictionary ...\n",
      "Loading model from cache /var/folders/5d/046t421j05g25t76d5lv813w0000gn/T/jieba.cache\n",
      "Loading model cost 1.054 seconds.\n",
      "Prefix dict has been built succesfully.\n"
     ]
    },
    {
     "data": {
      "text/plain": [
       "'小狗 你好'"
      ]
     },
     "execution_count": 11,
     "metadata": {},
     "output_type": "execute_result"
    }
   ],
   "source": [
    "#Test\n",
    "cut('小狗你好')"
   ]
  },
  {
   "cell_type": "code",
   "execution_count": 12,
   "metadata": {},
   "outputs": [],
   "source": [
    "content['title'] = content['title'].fillna('')"
   ]
  },
  {
   "cell_type": "code",
   "execution_count": 13,
   "metadata": {},
   "outputs": [],
   "source": [
    "content['title'] = content['title'].apply(cut)"
   ]
  },
  {
   "cell_type": "code",
   "execution_count": 14,
   "metadata": {},
   "outputs": [
    {
     "data": {
      "text/plain": [
       "0                  小米 MIUI   9 首批 机型 曝光 ： 共计 15 款\n",
       "1           骁龙 835 在 Windows   10 上 的 性能 表现 有望 改善\n",
       "2           一加 手机 5 细节 曝光 ： 3300mAh 、 充 半小时 用 1 天\n",
       "3    葡 森林 火灾 造成 至少 62 人 死亡   政府 宣布 进入 紧急状态 （ 组图 ）\n",
       "4         44 岁 女子 约 网友 被 拒 暴雨 中 裸奔   交警 为 其 披衣 相随\n",
       "5                             金融股 一枝独秀   配置 价值 犹存\n",
       "6                    配骁龙 660   全面 屏 鼻祖 夏普 新机 酝酿 中\n",
       "7                          博友 早评 ： 震荡 有利 消化 套牢 筹码\n",
       "8              武汉 千余 警察 出动   抓获 808 名 俊男靓女 全是 诈骗犯\n",
       "9                     纳入 MSCI 指数   A股 长期 配置 价值 提升\n",
       "Name: title, dtype: object"
      ]
     },
     "execution_count": 14,
     "metadata": {},
     "output_type": "execute_result"
    }
   ],
   "source": [
    "content['title'].head(10)"
   ]
  },
  {
   "cell_type": "code",
   "execution_count": 15,
   "metadata": {},
   "outputs": [],
   "source": [
    "content = content.sample(n = 5000)"
   ]
  },
  {
   "cell_type": "code",
   "execution_count": 16,
   "metadata": {},
   "outputs": [],
   "source": [
    "xinhuashe_news = content[content['source'].str.contains('新华')]"
   ]
  },
  {
   "cell_type": "code",
   "execution_count": 17,
   "metadata": {},
   "outputs": [],
   "source": [
    "X_title = content['title'].values"
   ]
  },
  {
   "cell_type": "code",
   "execution_count": 18,
   "metadata": {},
   "outputs": [
    {
     "data": {
      "text/plain": [
       "array(['[ 19 ] （ 外代 二线 ） 获救 的 熊', '（ 教育 ） （ 6 ） 乡镇 幼儿园 民俗文化 迎 “ 六一 ”',\n",
       "       '[ 1 ] （ 外代 二线 ） 澳大利亚 时装周 创新 时装秀',\n",
       "       '王 劲松 ： 吴秀波 是 偶像   于和伟 是 演 曹操 的 第一 人',\n",
       "       '[ 17 ] （ 外代 二线 ） 篮球 — — NBA 季后赛 ： 马刺 胜 火箭',\n",
       "       '（ 经济 ） 给 实体 经济 划出 保护 线 — — 深圳 夯实 先进 制造业 根基 调查',\n",
       "       '（ 一带 一路 · 高峰论坛 ） 中国 将 与 “ 一带 一路 ” 沿线 国家 加强 投融资 合作',\n",
       "       '公鉴 ： 关于 依法 使用 新华社 新闻 产品 的 公告', '传承 红色 基因   陕北 小学 自编 特色 课间操',\n",
       "       '（ 中国 网 事 ） 大 数据 时代 ， 如何 织密 个人信息 “ 保护网 ” ？'], dtype=object)"
      ]
     },
     "execution_count": 18,
     "metadata": {},
     "output_type": "execute_result"
    }
   ],
   "source": [
    "X_title[:10]"
   ]
  },
  {
   "cell_type": "code",
   "execution_count": 19,
   "metadata": {},
   "outputs": [],
   "source": [
    "y = content['is_xinhua'].values"
   ]
  },
  {
   "cell_type": "code",
   "execution_count": 20,
   "metadata": {},
   "outputs": [
    {
     "data": {
      "text/plain": [
       "array([1, 1, 1, 0, 1, 1, 1, 1, 1, 1])"
      ]
     },
     "execution_count": 20,
     "metadata": {},
     "output_type": "execute_result"
    }
   ],
   "source": [
    "y[:10]"
   ]
  },
  {
   "cell_type": "code",
   "execution_count": 21,
   "metadata": {},
   "outputs": [],
   "source": [
    "vectorizer = TfidfVectorizer(max_features = 20000)\n",
    "X_title = vectorizer.fit_transform(X_title)"
   ]
  },
  {
   "cell_type": "code",
   "execution_count": 22,
   "metadata": {},
   "outputs": [
    {
     "data": {
      "text/plain": [
       "(5000, 10813)"
      ]
     },
     "execution_count": 22,
     "metadata": {},
     "output_type": "execute_result"
    }
   ],
   "source": [
    "X_title.shape"
   ]
  },
  {
   "cell_type": "code",
   "execution_count": 23,
   "metadata": {},
   "outputs": [],
   "source": [
    "indices = np.array([i for i in range(len(y))])"
   ]
  },
  {
   "cell_type": "code",
   "execution_count": 24,
   "metadata": {},
   "outputs": [
    {
     "data": {
      "text/plain": [
       "array([   0,    1,    2, ..., 4997, 4998, 4999])"
      ]
     },
     "execution_count": 24,
     "metadata": {},
     "output_type": "execute_result"
    }
   ],
   "source": [
    "indices"
   ]
  },
  {
   "cell_type": "code",
   "execution_count": 25,
   "metadata": {},
   "outputs": [],
   "source": [
    "np.random.shuffle(indices)"
   ]
  },
  {
   "cell_type": "code",
   "execution_count": 26,
   "metadata": {},
   "outputs": [
    {
     "data": {
      "text/plain": [
       "array([1032, 3199, 2364, ..., 1046, 3589, 3899])"
      ]
     },
     "execution_count": 26,
     "metadata": {},
     "output_type": "execute_result"
    }
   ],
   "source": [
    "indices"
   ]
  },
  {
   "cell_type": "code",
   "execution_count": 27,
   "metadata": {},
   "outputs": [],
   "source": [
    "split_test = 0.25"
   ]
  },
  {
   "cell_type": "code",
   "execution_count": 28,
   "metadata": {},
   "outputs": [],
   "source": [
    "train_indices = indices[int(len(indices) * split_test):]\n",
    "test_indices = indices[:int(len(indices) * split_test)]"
   ]
  },
  {
   "cell_type": "code",
   "execution_count": 29,
   "metadata": {},
   "outputs": [],
   "source": [
    "X_t_train, X_t_test, y_train, y_test = (X_title[train_indices],X_title[test_indices],y[train_indices],y[test_indices])"
   ]
  },
  {
   "cell_type": "code",
   "execution_count": 30,
   "metadata": {},
   "outputs": [
    {
     "data": {
      "text/plain": [
       "<3750x10813 sparse matrix of type '<class 'numpy.float64'>'\n",
       "\twith 27795 stored elements in Compressed Sparse Row format>"
      ]
     },
     "execution_count": 30,
     "metadata": {},
     "output_type": "execute_result"
    }
   ],
   "source": [
    "X_t_train"
   ]
  },
  {
   "cell_type": "code",
   "execution_count": 31,
   "metadata": {},
   "outputs": [],
   "source": [
    "def get_performance(clf, X_, y_):\n",
    "    y_hat = clf.predict(X_.toarray())\n",
    "    print('percision is: {}'.format(precision_score(y_, y_hat)))\n",
    "    print('recall is: {}'.format(recall_score(y_, y_hat)))\n",
    "    print('roc_auc is: {}'.format(roc_auc_score(y_, y_hat)))\n",
    "    print('confusion matrix: \\n{}'.format(confusion_matrix(y_, y_hat, labels=[0, 1])))"
   ]
  },
  {
   "cell_type": "markdown",
   "metadata": {},
   "source": [
    "## Try Different Models"
   ]
  },
  {
   "cell_type": "code",
   "execution_count": null,
   "metadata": {},
   "outputs": [],
   "source": [
    "### knn"
   ]
  },
  {
   "cell_type": "code",
   "execution_count": 86,
   "metadata": {},
   "outputs": [
    {
     "data": {
      "text/plain": [
       "KNeighborsClassifier(algorithm='auto', leaf_size=30, metric='minkowski',\n",
       "           metric_params=None, n_jobs=1, n_neighbors=5, p=2,\n",
       "           weights='uniform')"
      ]
     },
     "execution_count": 86,
     "metadata": {},
     "output_type": "execute_result"
    }
   ],
   "source": [
    "clf = KNeighborsClassifier(n_neighbors=5)\n",
    "clf.fit(X_t_train.toarray(), y_train)"
   ]
  },
  {
   "cell_type": "code",
   "execution_count": 87,
   "metadata": {},
   "outputs": [
    {
     "name": "stdout",
     "output_type": "stream",
     "text": [
      "percision is: 0.953447774221705\n",
      "recall is: 0.988238841978287\n",
      "roc_auc is: 0.8097876237541205\n",
      "confusion matrix: \n",
      "[[ 274  160]\n",
      " [  39 3277]]\n"
     ]
    }
   ],
   "source": [
    "get_performance(clf,X_t_train,y_train)"
   ]
  },
  {
   "cell_type": "code",
   "execution_count": 88,
   "metadata": {},
   "outputs": [
    {
     "name": "stdout",
     "output_type": "stream",
     "text": [
      "percision is: 0.9219554030874786\n",
      "recall is: 0.9746146872166818\n",
      "roc_auc is: 0.6777835340845313\n",
      "confusion matrix: \n",
      "[[  56   91]\n",
      " [  28 1075]]\n"
     ]
    }
   ],
   "source": [
    "get_performance(clf,X_t_test,y_test)"
   ]
  },
  {
   "cell_type": "code",
   "execution_count": 89,
   "metadata": {},
   "outputs": [],
   "source": [
    "### Logistic Regression"
   ]
  },
  {
   "cell_type": "code",
   "execution_count": 91,
   "metadata": {},
   "outputs": [
    {
     "data": {
      "text/plain": [
       "LogisticRegression(C=1.0, class_weight=None, dual=False, fit_intercept=True,\n",
       "          intercept_scaling=1, max_iter=100, multi_class='ovr', n_jobs=1,\n",
       "          penalty='l2', random_state=None, solver='liblinear', tol=0.0001,\n",
       "          verbose=0, warm_start=False)"
      ]
     },
     "execution_count": 91,
     "metadata": {},
     "output_type": "execute_result"
    }
   ],
   "source": [
    "clf = LogisticRegression()\n",
    "clf.fit(X_t_train.toarray(), y_train)"
   ]
  },
  {
   "cell_type": "code",
   "execution_count": 92,
   "metadata": {},
   "outputs": [
    {
     "name": "stdout",
     "output_type": "stream",
     "text": [
      "percision is: 0.8942826321467098\n",
      "recall is: 1.0\n",
      "roc_auc is: 0.5483870967741935\n",
      "confusion matrix: \n",
      "[[  42  392]\n",
      " [   0 3316]]\n"
     ]
    }
   ],
   "source": [
    "get_performance(clf,X_t_train,y_train)"
   ]
  },
  {
   "cell_type": "code",
   "execution_count": 93,
   "metadata": {},
   "outputs": [
    {
     "name": "stdout",
     "output_type": "stream",
     "text": [
      "percision is: 0.8859437751004016\n",
      "recall is: 1.0\n",
      "roc_auc is: 0.5170068027210885\n",
      "confusion matrix: \n",
      "[[   5  142]\n",
      " [   0 1103]]\n"
     ]
    }
   ],
   "source": [
    "get_performance(clf,X_t_test,y_test)"
   ]
  },
  {
   "cell_type": "code",
   "execution_count": 94,
   "metadata": {},
   "outputs": [],
   "source": [
    "# We can see that the logistic regression model doesn't work very well"
   ]
  },
  {
   "cell_type": "code",
   "execution_count": 95,
   "metadata": {},
   "outputs": [],
   "source": [
    "### SVM"
   ]
  },
  {
   "cell_type": "code",
   "execution_count": 99,
   "metadata": {},
   "outputs": [
    {
     "data": {
      "text/plain": [
       "SVC(C=1.0, cache_size=200, class_weight=None, coef0=0.0,\n",
       "  decision_function_shape='ovr', degree=3, gamma='auto', kernel='rbf',\n",
       "  max_iter=-1, probability=False, random_state=None, shrinking=True,\n",
       "  tol=0.001, verbose=False)"
      ]
     },
     "execution_count": 99,
     "metadata": {},
     "output_type": "execute_result"
    }
   ],
   "source": [
    "clf = SVC()\n",
    "clf.fit(X_t_train.toarray(), y_train)"
   ]
  },
  {
   "cell_type": "code",
   "execution_count": 100,
   "metadata": {},
   "outputs": [
    {
     "name": "stdout",
     "output_type": "stream",
     "text": [
      "percision is: 0.8842666666666666\n",
      "recall is: 1.0\n",
      "roc_auc is: 0.5\n",
      "confusion matrix: \n",
      "[[   0  434]\n",
      " [   0 3316]]\n"
     ]
    }
   ],
   "source": [
    "get_performance(clf,X_t_train,y_train)"
   ]
  },
  {
   "cell_type": "code",
   "execution_count": 101,
   "metadata": {},
   "outputs": [
    {
     "name": "stdout",
     "output_type": "stream",
     "text": [
      "percision is: 0.8824\n",
      "recall is: 1.0\n",
      "roc_auc is: 0.5\n",
      "confusion matrix: \n",
      "[[   0  147]\n",
      " [   0 1103]]\n"
     ]
    }
   ],
   "source": [
    "get_performance(clf,X_t_test,y_test)"
   ]
  },
  {
   "cell_type": "code",
   "execution_count": 102,
   "metadata": {},
   "outputs": [],
   "source": [
    "### Bayes"
   ]
  },
  {
   "cell_type": "code",
   "execution_count": 103,
   "metadata": {},
   "outputs": [
    {
     "data": {
      "text/plain": [
       "GaussianNB(priors=None)"
      ]
     },
     "execution_count": 103,
     "metadata": {},
     "output_type": "execute_result"
    }
   ],
   "source": [
    "clf = GaussianNB()\n",
    "clf.fit(X_t_train.toarray(), y_train)"
   ]
  },
  {
   "cell_type": "code",
   "execution_count": 104,
   "metadata": {},
   "outputs": [
    {
     "name": "stdout",
     "output_type": "stream",
     "text": [
      "percision is: 1.0\n",
      "recall is: 0.9990952955367913\n",
      "roc_auc is: 0.9995476477683957\n",
      "confusion matrix: \n",
      "[[ 434    0]\n",
      " [   3 3313]]\n"
     ]
    }
   ],
   "source": [
    "get_performance(clf,X_t_train,y_train)"
   ]
  },
  {
   "cell_type": "code",
   "execution_count": 105,
   "metadata": {},
   "outputs": [
    {
     "name": "stdout",
     "output_type": "stream",
     "text": [
      "percision is: 0.9312169312169312\n",
      "recall is: 0.957388939256573\n",
      "roc_auc is: 0.7133883471793069\n",
      "confusion matrix: \n",
      "[[  69   78]\n",
      " [  47 1056]]\n"
     ]
    }
   ],
   "source": [
    "get_performance(clf,X_t_test,y_test)"
   ]
  },
  {
   "cell_type": "code",
   "execution_count": 106,
   "metadata": {},
   "outputs": [],
   "source": [
    "# Kind of Overfit"
   ]
  },
  {
   "cell_type": "code",
   "execution_count": 107,
   "metadata": {},
   "outputs": [],
   "source": [
    "### Random Forest"
   ]
  },
  {
   "cell_type": "code",
   "execution_count": 111,
   "metadata": {},
   "outputs": [
    {
     "data": {
      "text/plain": [
       "RandomForestClassifier(bootstrap=True, class_weight=None, criterion='gini',\n",
       "            max_depth=5, max_features='auto', max_leaf_nodes=None,\n",
       "            min_impurity_decrease=0.0, min_impurity_split=None,\n",
       "            min_samples_leaf=1, min_samples_split=2,\n",
       "            min_weight_fraction_leaf=0.0, n_estimators=500, n_jobs=1,\n",
       "            oob_score=False, random_state=None, verbose=0,\n",
       "            warm_start=False)"
      ]
     },
     "execution_count": 111,
     "metadata": {},
     "output_type": "execute_result"
    }
   ],
   "source": [
    "clf = RandomForestClassifier(max_depth = 5, n_estimators= 500)\n",
    "clf.fit(X_t_train.toarray(), y_train)"
   ]
  },
  {
   "cell_type": "code",
   "execution_count": 112,
   "metadata": {},
   "outputs": [
    {
     "name": "stdout",
     "output_type": "stream",
     "text": [
      "percision is: 0.8842666666666666\n",
      "recall is: 1.0\n",
      "roc_auc is: 0.5\n",
      "confusion matrix: \n",
      "[[   0  434]\n",
      " [   0 3316]]\n"
     ]
    }
   ],
   "source": [
    "get_performance(clf,X_t_train,y_train)"
   ]
  },
  {
   "cell_type": "code",
   "execution_count": 113,
   "metadata": {},
   "outputs": [
    {
     "name": "stdout",
     "output_type": "stream",
     "text": [
      "percision is: 0.8824\n",
      "recall is: 1.0\n",
      "roc_auc is: 0.5\n",
      "confusion matrix: \n",
      "[[   0  147]\n",
      " [   0 1103]]\n"
     ]
    }
   ],
   "source": [
    "get_performance(clf,X_t_test,y_test)"
   ]
  },
  {
   "cell_type": "code",
   "execution_count": 32,
   "metadata": {},
   "outputs": [
    {
     "data": {
      "text/plain": [
       "XGBClassifier(base_score=0.5, booster='gbtree', colsample_bylevel=1,\n",
       "       colsample_bytree=1, gamma=0, learning_rate=0.1, max_delta_step=0,\n",
       "       max_depth=3, min_child_weight=1, missing=None, n_estimators=100,\n",
       "       n_jobs=1, nthread=None, objective='binary:logistic', random_state=0,\n",
       "       reg_alpha=0, reg_lambda=1, scale_pos_weight=1, seed=None,\n",
       "       silent=True, subsample=1)"
      ]
     },
     "execution_count": 32,
     "metadata": {},
     "output_type": "execute_result"
    }
   ],
   "source": [
    "clf = XGBClassifier()\n",
    "clf.fit(X_t_train.toarray(), y_train)"
   ]
  },
  {
   "cell_type": "code",
   "execution_count": 33,
   "metadata": {},
   "outputs": [
    {
     "name": "stdout",
     "output_type": "stream",
     "text": [
      "percision is: 0.8903520558989519\n",
      "recall is: 1.0\n",
      "roc_auc is: 0.5331807780320366\n",
      "confusion matrix: \n",
      "[[  29  408]\n",
      " [   0 3313]]\n"
     ]
    },
    {
     "name": "stderr",
     "output_type": "stream",
     "text": [
      "/Users/air/anaconda3/lib/python3.6/site-packages/sklearn/preprocessing/label.py:151: DeprecationWarning: The truth value of an empty array is ambiguous. Returning False, but in future this will result in an error. Use `array.size > 0` to check that an array is not empty.\n",
      "  if diff:\n"
     ]
    }
   ],
   "source": [
    "get_performance(clf,X_t_train,y_train)"
   ]
  },
  {
   "cell_type": "code",
   "execution_count": 34,
   "metadata": {},
   "outputs": [
    {
     "name": "stdout",
     "output_type": "stream",
     "text": [
      "percision is: 0.8832528180354268\n",
      "recall is: 1.0\n",
      "roc_auc is: 0.5261437908496732\n",
      "confusion matrix: \n",
      "[[   8  145]\n",
      " [   0 1097]]\n"
     ]
    },
    {
     "name": "stderr",
     "output_type": "stream",
     "text": [
      "/Users/air/anaconda3/lib/python3.6/site-packages/sklearn/preprocessing/label.py:151: DeprecationWarning: The truth value of an empty array is ambiguous. Returning False, but in future this will result in an error. Use `array.size > 0` to check that an array is not empty.\n",
      "  if diff:\n"
     ]
    }
   ],
   "source": [
    "get_performance(clf,X_t_test,y_test)"
   ]
  },
  {
   "cell_type": "markdown",
   "metadata": {},
   "source": [
    "# 常见模型优缺点"
   ]
  },
  {
   "cell_type": "markdown",
   "metadata": {},
   "source": [
    "1.knn：\n",
    "\n",
    "\n",
    "优点：既可以做classification又可以做regression，理论理解容易，bias低\n",
    "\n",
    "\n",
    "缺点：每一次预测都要重新计算，k值的确定比较困难，样本不平衡时会有比较大的误差，需要大量的内存\n"
   ]
  },
  {
   "cell_type": "markdown",
   "metadata": {},
   "source": [
    "2.logistic regression:\n",
    "\n",
    "\n",
    "优点：计算量小，实现较低\n",
    "\n",
    "\n",
    "缺点：容易欠拟合，只能做0-1分类\n"
   ]
  },
  {
   "cell_type": "markdown",
   "metadata": {},
   "source": [
    "3.SVM:\n",
    "\n",
    "\n",
    "优点：可以解决高维问题，即大型特征空间，能够处理非线性特征的相互作用，解决小样本下机器学习问题，无需依赖整个数据； \n",
    "\n",
    "缺点：观测样本多的时候，效率高，对缺失数据敏感\n"
   ]
  },
  {
   "cell_type": "markdown",
   "metadata": {},
   "source": [
    "4.Bayes:\n",
    "\n",
    "优点：对小规模数据表现很好，对缺失数据不敏感，算法简单，计算迅速，结果可解释性较强\n",
    "\n",
    "缺点：要预先计算概率，对输入数据的表达形式敏感\n"
   ]
  },
  {
   "cell_type": "markdown",
   "metadata": {},
   "source": [
    "5.Random Forests：\n",
    "\n",
    "优点：既能解决分类问题又能解决回归问题，对高维数据处理效果好，对缺失数据不敏感，可以平衡误差，训练速度快，模型泛化能力强\n",
    "\n",
    "缺点：容易overfit，模型可解释性不强"
   ]
  },
  {
   "cell_type": "markdown",
   "metadata": {},
   "source": [
    "6.XGBoost\n",
    "\n",
    "优点：防止过拟合，支持分布式并行，对缺失值也能有较好的处理\n"
   ]
  },
  {
   "cell_type": "code",
   "execution_count": null,
   "metadata": {},
   "outputs": [],
   "source": []
  }
 ],
 "metadata": {
  "kernelspec": {
   "display_name": "Python 3",
   "language": "python",
   "name": "python3"
  },
  "language_info": {
   "codemirror_mode": {
    "name": "ipython",
    "version": 3
   },
   "file_extension": ".py",
   "mimetype": "text/x-python",
   "name": "python",
   "nbconvert_exporter": "python",
   "pygments_lexer": "ipython3",
   "version": "3.6.5"
  },
  "toc": {
   "base_numbering": 1,
   "nav_menu": {},
   "number_sections": true,
   "sideBar": true,
   "skip_h1_title": false,
   "title_cell": "Table of Contents",
   "title_sidebar": "Contents",
   "toc_cell": false,
   "toc_position": {},
   "toc_section_display": true,
   "toc_window_display": false
  }
 },
 "nbformat": 4,
 "nbformat_minor": 2
}
