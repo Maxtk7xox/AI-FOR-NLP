{
 "cells": [
  {
   "cell_type": "markdown",
   "metadata": {},
   "source": [
    "# Training Model"
   ]
  },
  {
   "cell_type": "code",
   "execution_count": 52,
   "metadata": {},
   "outputs": [],
   "source": [
    "from gensim.models.word2vec import LineSentence\n",
    "from gensim.models import Word2Vec\n",
    "import pandas as pd\n",
    "import jieba\n",
    "from jieba import posseg"
   ]
  },
  {
   "cell_type": "code",
   "execution_count": 8,
   "metadata": {},
   "outputs": [],
   "source": [
    "#Test\n",
    "sentences = [['cat', 'say', 'hello'],['dog','say','woof']]"
   ]
  },
  {
   "cell_type": "code",
   "execution_count": 9,
   "metadata": {},
   "outputs": [],
   "source": [
    "model = Word2Vec(sentences, min_count = 1)"
   ]
  },
  {
   "cell_type": "code",
   "execution_count": 10,
   "metadata": {},
   "outputs": [
    {
     "data": {
      "text/plain": [
       "{'cat': <gensim.models.keyedvectors.Vocab at 0x117852128>,\n",
       " 'say': <gensim.models.keyedvectors.Vocab at 0x117852160>,\n",
       " 'hello': <gensim.models.keyedvectors.Vocab at 0x117852198>,\n",
       " 'dog': <gensim.models.keyedvectors.Vocab at 0x1178521d0>,\n",
       " 'woof': <gensim.models.keyedvectors.Vocab at 0x117852208>}"
      ]
     },
     "execution_count": 10,
     "metadata": {},
     "output_type": "execute_result"
    }
   ],
   "source": [
    "model.wv.vocab"
   ]
  },
  {
   "cell_type": "code",
   "execution_count": 11,
   "metadata": {},
   "outputs": [
    {
     "name": "stderr",
     "output_type": "stream",
     "text": [
      "/Users/air/anaconda3/lib/python3.6/site-packages/ipykernel_launcher.py:2: DeprecationWarning: Call to deprecated `most_similar` (Method will be removed in 4.0.0, use self.wv.most_similar() instead).\n",
      "  \n"
     ]
    },
    {
     "data": {
      "text/plain": [
       "[('dog', 0.1390291154384613),\n",
       " ('say', 0.11331290006637573),\n",
       " ('hello', -0.003603503108024597),\n",
       " ('woof', -0.03801318258047104)]"
      ]
     },
     "execution_count": 11,
     "metadata": {},
     "output_type": "execute_result"
    }
   ],
   "source": [
    "#Checking most similar words of cat\n",
    "model.most_similar('cat')"
   ]
  },
  {
   "cell_type": "code",
   "execution_count": 17,
   "metadata": {},
   "outputs": [],
   "source": [
    "content = pd.read_csv('sqlResult_1558435.csv',encoding = 'gb18030')"
   ]
  },
  {
   "cell_type": "code",
   "execution_count": 18,
   "metadata": {},
   "outputs": [],
   "source": [
    "samples = content['content'][:100].tolist()"
   ]
  },
  {
   "cell_type": "code",
   "execution_count": 34,
   "metadata": {},
   "outputs": [],
   "source": [
    "def cut(string):\n",
    "    return ' '.join(jieba.cut(string))"
   ]
  },
  {
   "cell_type": "code",
   "execution_count": 39,
   "metadata": {},
   "outputs": [
    {
     "data": {
      "text/plain": [
       "'这是 一个 测试'"
      ]
     },
     "execution_count": 39,
     "metadata": {},
     "output_type": "execute_result"
    }
   ],
   "source": [
    "#test\n",
    "cut('这是一个测试')"
   ]
  },
  {
   "cell_type": "code",
   "execution_count": 46,
   "metadata": {},
   "outputs": [],
   "source": [
    "with open('test2.txt','w') as f:\n",
    "    for s in samples:\n",
    "        f.write(cut(s) + '\\n')"
   ]
  },
  {
   "cell_type": "code",
   "execution_count": 47,
   "metadata": {},
   "outputs": [],
   "source": [
    "sentences = LineSentence('test2.txt')"
   ]
  },
  {
   "cell_type": "code",
   "execution_count": 48,
   "metadata": {},
   "outputs": [],
   "source": [
    "model = Word2Vec(sentences, min_count=1)"
   ]
  },
  {
   "cell_type": "code",
   "execution_count": 49,
   "metadata": {},
   "outputs": [
    {
     "data": {
      "text/plain": [
       "array([-1.30144553e-02, -4.33387756e-02,  2.57612243e-02,  7.04371743e-03,\n",
       "       -1.21799167e-02,  2.06956025e-02,  1.85051002e-02, -8.57718382e-03,\n",
       "        1.39711937e-02, -1.48322340e-02, -1.46272834e-02,  2.83618290e-02,\n",
       "        4.43807105e-03, -3.99280805e-03,  8.72308016e-03, -8.22065771e-03,\n",
       "        1.22706555e-02, -2.70724185e-02, -1.69304963e-02, -1.18344221e-02,\n",
       "        2.96556149e-02,  6.47531197e-05, -3.03498954e-02,  7.97829125e-03,\n",
       "       -2.51379646e-02, -1.17131537e-02,  1.40770478e-02,  1.19909290e-02,\n",
       "        1.64268562e-03,  1.38607053e-02,  2.10230984e-02,  1.63817033e-02,\n",
       "       -7.25626713e-03,  3.63712898e-04, -4.17159684e-03, -2.85742711e-02,\n",
       "        7.49074761e-03,  1.89543180e-02,  2.91414112e-02, -2.61058584e-02,\n",
       "       -6.56535290e-03,  1.06993373e-02,  1.75957344e-02, -1.90321282e-02,\n",
       "        1.38935307e-02,  9.58327111e-03,  4.49335128e-02,  1.80942193e-02,\n",
       "       -2.19288003e-02, -8.43569636e-03,  6.62478060e-03, -1.98995993e-02,\n",
       "        1.08694155e-02,  5.73747791e-03, -1.53560219e-02, -6.50739018e-03,\n",
       "        2.36981697e-02,  1.12188235e-02,  2.03095675e-02, -1.80279668e-02,\n",
       "        2.14564195e-03,  1.24028819e-02,  1.49336876e-02,  1.39140990e-02,\n",
       "       -2.22620219e-02,  3.09762377e-02,  1.16849076e-02, -3.62168886e-02,\n",
       "        7.88849872e-03, -9.76170320e-03, -9.56482068e-03, -3.01750377e-02,\n",
       "        2.43120845e-02,  3.14871967e-02,  1.58156026e-02, -2.21616738e-02,\n",
       "        6.11419929e-03, -4.95984107e-02, -1.16646709e-02,  3.96971144e-02,\n",
       "       -8.72202124e-03, -2.17392277e-02,  3.26227490e-03, -2.13290323e-02,\n",
       "       -1.63672417e-02, -2.07241233e-02, -1.19476551e-02,  2.50531174e-02,\n",
       "       -1.33877872e-02,  5.45984693e-02, -3.36859562e-02,  2.10027341e-02,\n",
       "       -3.79964290e-03,  1.97647698e-02,  5.64802438e-03, -5.07559488e-03,\n",
       "        3.01345568e-02, -4.27948870e-02, -6.46491628e-03, -1.73260253e-02],\n",
       "      dtype=float32)"
      ]
     },
     "execution_count": 49,
     "metadata": {},
     "output_type": "execute_result"
    }
   ],
   "source": [
    "model.wv['小米']"
   ]
  },
  {
   "cell_type": "code",
   "execution_count": 50,
   "metadata": {},
   "outputs": [
    {
     "name": "stderr",
     "output_type": "stream",
     "text": [
      "/Users/air/anaconda3/lib/python3.6/site-packages/ipykernel_launcher.py:1: DeprecationWarning: Call to deprecated `most_similar` (Method will be removed in 4.0.0, use self.wv.most_similar() instead).\n",
      "  \"\"\"Entry point for launching an IPython kernel.\n"
     ]
    },
    {
     "data": {
      "text/plain": [
       "[('当', 0.9900184273719788),\n",
       " ('负责', 0.9900124073028564),\n",
       " ('才', 0.9899235963821411),\n",
       " ('限制', 0.9898790121078491),\n",
       " ('光明', 0.9897779822349548),\n",
       " ('分子', 0.9897229671478271),\n",
       " ('订单', 0.9897148609161377),\n",
       " ('驾驶', 0.9896959662437439),\n",
       " ('投行', 0.9896751642227173),\n",
       " ('维吾尔族', 0.9896656274795532)]"
      ]
     },
     "execution_count": 50,
     "metadata": {},
     "output_type": "execute_result"
    }
   ],
   "source": [
    "model.most_similar('小米')"
   ]
  },
  {
   "cell_type": "markdown",
   "metadata": {},
   "source": [
    "# Name Entity Recognition"
   ]
  },
  {
   "cell_type": "code",
   "execution_count": 53,
   "metadata": {},
   "outputs": [],
   "source": [
    "text = \"\"\"新华社华盛顿4月26日电 美国总统特朗普26日表示，美国将撤销在《武器贸易条约》上的签字。\n",
    "\n",
    "特朗普当天在美国印第安纳州首府印第安纳波利斯举行的美国全国步枪协会年会上说，《武器贸易条约》是一个“严重误导的条约”，美国将撤销在该条约上的签字，联合国将很快收到美国正式拒绝该条约的通知。\"\"\""
   ]
  },
  {
   "cell_type": "code",
   "execution_count": 54,
   "metadata": {},
   "outputs": [
    {
     "name": "stdout",
     "output_type": "stream",
     "text": [
      "新华社/nt\n",
      "华盛顿/ns\n",
      "4/m\n",
      "月/m\n",
      "26/m\n",
      "日电/j\n",
      " /x\n",
      "美国/ns\n",
      "总统/n\n",
      "特朗普/nr\n",
      "26/m\n",
      "日/m\n",
      "表示/v\n",
      "，/x\n",
      "美国/ns\n",
      "将/d\n",
      "撤销/v\n",
      "在/p\n",
      "《/x\n",
      "武器/n\n",
      "贸易/vn\n",
      "条约/n\n",
      "》/x\n",
      "上/f\n",
      "的/uj\n",
      "签字/v\n",
      "。/x\n",
      "\n",
      "/x\n",
      "\n",
      "/x\n",
      "特朗普/nr\n",
      "当天/t\n",
      "在/p\n",
      "美国/ns\n",
      "印第安纳州/ns\n",
      "首府/n\n",
      "印第安纳波利斯/ns\n",
      "举行/v\n",
      "的/uj\n",
      "美国/ns\n",
      "全国/n\n",
      "步枪/n\n",
      "协会/n\n",
      "年/m\n",
      "会上/t\n",
      "说/v\n",
      "，/x\n",
      "《/x\n",
      "武器/n\n",
      "贸易/vn\n",
      "条约/n\n",
      "》/x\n",
      "是/v\n",
      "一个/m\n",
      "“/x\n",
      "严重/a\n",
      "误导/n\n",
      "的/uj\n",
      "条约/n\n",
      "”/x\n",
      "，/x\n",
      "美国/ns\n",
      "将/d\n",
      "撤销/v\n",
      "在/p\n",
      "该/r\n",
      "条约/n\n",
      "上/f\n",
      "的/uj\n",
      "签字/v\n",
      "，/x\n",
      "联合国/nt\n",
      "将/d\n",
      "很快/d\n",
      "收到/v\n",
      "美国/ns\n",
      "正式/ad\n",
      "拒绝/v\n",
      "该/r\n",
      "条约/n\n",
      "的/uj\n",
      "通知/v\n",
      "。/x\n"
     ]
    }
   ],
   "source": [
    "for w in posseg.cut(text):\n",
    "    print(w)"
   ]
  },
  {
   "cell_type": "code",
   "execution_count": null,
   "metadata": {},
   "outputs": [],
   "source": []
  }
 ],
 "metadata": {
  "kernelspec": {
   "display_name": "Python 3",
   "language": "python",
   "name": "python3"
  },
  "language_info": {
   "codemirror_mode": {
    "name": "ipython",
    "version": 3
   },
   "file_extension": ".py",
   "mimetype": "text/x-python",
   "name": "python",
   "nbconvert_exporter": "python",
   "pygments_lexer": "ipython3",
   "version": "3.6.5"
  },
  "toc": {
   "base_numbering": 1,
   "nav_menu": {},
   "number_sections": true,
   "sideBar": true,
   "skip_h1_title": false,
   "title_cell": "Table of Contents",
   "title_sidebar": "Contents",
   "toc_cell": false,
   "toc_position": {},
   "toc_section_display": true,
   "toc_window_display": false
  }
 },
 "nbformat": 4,
 "nbformat_minor": 2
}
