{
 "cells": [
  {
   "cell_type": "markdown",
   "metadata": {},
   "source": [
    "## Review the course online programming code."
   ]
  },
  {
   "cell_type": "code",
   "execution_count": 1,
   "metadata": {},
   "outputs": [],
   "source": [
    "import pandas as pd"
   ]
  },
  {
   "cell_type": "code",
   "execution_count": 2,
   "metadata": {},
   "outputs": [],
   "source": [
    "dataframe=pd.read_csv('sqlResult_1558435.csv',encoding='gb18030')"
   ]
  },
  {
   "cell_type": "code",
   "execution_count": 3,
   "metadata": {},
   "outputs": [
    {
     "data": {
      "text/plain": [
       "0    此外，自本周（6月12日）起，除小米手机6等15款机型外，其余机型已暂停更新发布（含开发版/...\n",
       "1    骁龙835作为唯一通过Windows 10桌面平台认证的ARM处理器，高通强调，不会因为只考...\n",
       "2    此前的一加3T搭载的是3400mAh电池，DashCharge快充规格为5V/4A。\\r\\n...\n",
       "3      这是6月18日在葡萄牙中部大佩德罗冈地区拍摄的被森林大火烧毁的汽车。新华社记者张立云摄\\r\\n\n",
       "4    （原标题：44岁女子跑深圳约会网友被拒，暴雨中裸身奔走……）\\r\\n@深圳交警微博称：昨日清...\n",
       "Name: content, dtype: object"
      ]
     },
     "execution_count": 3,
     "metadata": {},
     "output_type": "execute_result"
    }
   ],
   "source": [
    "dataframe['content'].head(5)"
   ]
  },
  {
   "cell_type": "code",
   "execution_count": 4,
   "metadata": {},
   "outputs": [],
   "source": [
    "all_articles=dataframe['content'].tolist()"
   ]
  },
  {
   "cell_type": "code",
   "execution_count": 5,
   "metadata": {
    "scrolled": true
   },
   "outputs": [
    {
     "data": {
      "text/plain": [
       "['此外，自本周（6月12日）起，除小米手机6等15款机型外，其余机型已暂停更新发布（含开发版/体验版内测，稳定版暂不受影响），以确保工程师可以集中全部精力进行系统优化工作。有人猜测这也是将精力主要用到MIUI 9的研发之中。\\r\\nMIUI 8去年5月发布，距今已有一年有余，也是时候更新换代了。\\r\\n当然，关于MIUI 9的确切信息，我们还是等待官方消息。\\r\\n',\n",
       " '骁龙835作为唯一通过Windows 10桌面平台认证的ARM处理器，高通强调，不会因为只考虑性能而去屏蔽掉小核心。相反，他们正联手微软，找到一种适合桌面平台的、兼顾性能和功耗的完美方案。\\r\\n报道称，微软已经拿到了一些新的源码，以便Windows 10更好地理解big.little架构。\\r\\n资料显示，骁龙835作为一款集成了CPU、GPU、基带、蓝牙/Wi-Fi的SoC，比传统的Wintel方案可以节省至少30%的PCB空间。\\r\\n按计划，今年Q4，华硕、惠普、联想将首发骁龙835 Win10电脑，预计均是二合一形态的产品。\\r\\n当然，高通骁龙只是个开始，未来也许还能见到三星Exynos、联发科、华为麒麟、小米澎湃等进入Windows 10桌面平台。\\r\\n',\n",
       " '此前的一加3T搭载的是3400mAh电池，DashCharge快充规格为5V/4A。\\r\\n至于电池缩水，可能与刘作虎所说，一加手机5要做市面最轻薄大屏旗舰的设定有关。\\r\\n按照目前掌握的资料，一加手机5拥有5.5寸1080P三星AMOLED显示屏、6G/8GB RAM，64GB/128GB ROM，双1600万摄像头，备货量“惊喜”。\\r\\n根据京东泄露的信息，一加5起售价是xx99元，应该是在2799/2899/2999中的某个。\\r\\n',\n",
       " '这是6月18日在葡萄牙中部大佩德罗冈地区拍摄的被森林大火烧毁的汽车。新华社记者张立云摄\\r\\n',\n",
       " '（原标题：44岁女子跑深圳约会网友被拒，暴雨中裸身奔走……）\\r\\n@深圳交警微博称：昨日清晨交警发现有一女子赤裸上身，行走在南坪快速上，期间还起了轻生年头，一辅警发现后赶紧为其披上黄衣，并一路劝说她。\\r\\n那么事发时\\r\\n到底都发生了些什么呢？\\r\\n南都记者带您一起还原现场\\r\\n南都记者在龙岗大队坂田中队见到了辅警刘青（发现女生的辅警），一位外表高大帅气，说话略带些腼腆的90后青年。\\r\\n刘青介绍，6月16日早上7时36分，他正在环城南路附近值勤，接到中队关于一位女子裸身进入机动车可能有危险的警情，随后骑着小铁骑开始沿路寻找，大概花了十多分钟在南坪大道坂田出口往龙岗方向的逆行辅道上发现该女子。\\r\\n女子身上一丝不挂地逆车流而行，时走时停，时坐时躺，险象环生。刘青停好小铁骑，和另外一名巡防员追了上去，发现女子的情绪很低落，话不多，刘青尝试和女子交流，劝说女子离开，可女子并不愿意接受，继续缓慢地往南坪快速路的主干道上走去。\\r\\n此时路边上已经聚集了很市民围观，为了不刺激女子的情绪，刘青和巡防员一边盯着女子一边驱赶着围观的群众。\\r\\n现场还原\\r\\n从警方提供的一份视频了解到，16日早上7时25分，女子出现在坂雪岗大道与环城南路的监控视频中，此时女子还穿着白色的内裤，正沿着坂雪岗大道往南坪快速的方向缓慢地走着。\\r\\n当时正值上班高峰期，十字路口的车流已经排起了长队。当女子出现时，路上的市民纷纷驻足观望，不少车辆也放慢了速度，但女子并不为市民观望停下脚步，依然缓慢走着。当女子行进到十字路口中间时，一辆大货车挡住了镜头，但是当女子再次出现镜头时，可以发现女子已经没穿内裤了，全身裸露继续朝着南坪快速方向走去。记者发现，视频中女子周围并没有人尾随或者上前劝止的市民。\\r\\n一大清早路上看到这样的情况\\r\\n恐怕大家都没办法淡定\\r\\n面对这一情况\\r\\n刘青表示，“一开始根本不敢看她，心里挺别扭，感觉很尴尬”，但当刘青跟随女子上了南坪快速路主干道时，女子作出了让人意想不到的举动，她突然靠近护栏要从上面跳下去，刘青赶忙冲上去拉住了女子的手，将其控制住并远离护栏。碍于女子没有穿衣服，刘青递上衣服，女子没接受还把衣服扔到排水沟里，继续往前走，没办法刘青只能紧紧拉着她的一只手跟在后面。\\r\\n刘青一路上耐心地开导安慰她，但只听到她不断地重复着一句话“要是你也遭遇我的事，你也会这样的”，期间她还不时试图挣脱刘青的手要冲向护栏往下跳。\\r\\n就这样，我被牵着走了大概十多分钟，天突然下起了大暴雨，雨大的连眼睛都睁不开”刘青继续说着，瞬间他们就被雨透了，但女子依然不愿意接受刘青的帮助，就继续冒着大雨往前走。\\r\\n大概走了有四十分钟吧，女子突然停下来说“我想回家了”，然后女子也接受了刘青递过来的小黄衣，就出现了深圳微博上的照片，女子披着小黄衣，刘青小心翼翼地在旁边走着的场景。从南平快速下来后，刘青和巡防员将女子带到了附近的坂田派出所。\\r\\n那姑娘到底是遭遇了什么样的事情\\r\\n才会说\\r\\n“要是你也遭遇我的事，你也会这样”\\r\\n据警方透露，该女子姓陈，系湖北人，今年44岁，据家属反映其有精神病史。三天前，陈某从老家来深圳约会网友，但约会受挫导致情绪异常，女子遂产生轻生念头。\\r\\n目前\\r\\n陈某已经被送往深圳某精神病医院进行治疗\\r\\n大大君只希望姑娘能早点康复\\r\\n其实真爱的到来并不存在年龄的限制\\r\\n你们说呢？\\r\\n因善良的原因\\r\\n一众网友纷纷为\\r\\n交警暖男点ZAN\\r\\n@弓常yan桦：就想问这个小哥哥有女票吗\\r\\n@原谅我这一辈子浪荡不羁爱萨摩耶：有什么过不去的要轻生嘛？ 想想自己的家人。同时也感谢交警蜀黍\\r\\n@火心聆听心灵：点赞交警\\r\\n@中華云盾：警察……警察就是群众最需时申出援手\\r\\n@Tomchlee：蜀黍帅！\\r\\n@SJ-李赫海i：这个交警很暖有木有！\\r\\n男子迷奸网友拍418个视频 女方从20岁到50岁不等\\r\\n去年6月7号上午，淮安市涟水县公安局刑警大队突然接到了一个奇怪的报警电话，一名女子言语不清，声称自己遭到了侵害。女子、被侵害、言语不清，几个关键词令接到电话的民警瞬间紧张起来。\\r\\n']"
      ]
     },
     "execution_count": 5,
     "metadata": {},
     "output_type": "execute_result"
    }
   ],
   "source": [
    "all_articles[:5]"
   ]
  },
  {
   "cell_type": "code",
   "execution_count": 6,
   "metadata": {},
   "outputs": [],
   "source": [
    "import re"
   ]
  },
  {
   "cell_type": "code",
   "execution_count": 7,
   "metadata": {},
   "outputs": [],
   "source": [
    "def token(string):\n",
    "    return ' '.join(re.findall('[\\w]+',string))\n",
    "#re.findall(pattern,string) will find all substrings \n",
    "#that match this pattern and return these substrings as a list\n",
    "\n",
    "#\\w matches any alphanumeric character"
   ]
  },
  {
   "cell_type": "code",
   "execution_count": 8,
   "metadata": {},
   "outputs": [],
   "source": [
    "string = '***&& %%## this is a BIGGGGGGGGG thing BI and BIGGGGGGGGGGGGGGGGGGGGGGGGGGGGGGGGGGGGGGGGgg'"
   ]
  },
  {
   "cell_type": "code",
   "execution_count": 9,
   "metadata": {},
   "outputs": [
    {
     "data": {
      "text/plain": [
       "'this is a BIGGGGGGGGG thing BI and BIGGGGGGGGGGGGGGGGGGGGGGGGGGGGGGGGGGGGGGGGgg'"
      ]
     },
     "execution_count": 9,
     "metadata": {},
     "output_type": "execute_result"
    }
   ],
   "source": [
    "token(string)"
   ]
  },
  {
   "cell_type": "code",
   "execution_count": 10,
   "metadata": {},
   "outputs": [],
   "source": [
    "all_articles=[token(str(a)) for a in all_articles]"
   ]
  },
  {
   "cell_type": "code",
   "execution_count": 11,
   "metadata": {},
   "outputs": [
    {
     "data": {
      "text/plain": [
       "['此外 自本周 6月12日 起 除小米手机6等15款机型外 其余机型已暂停更新发布 含开发版 体验版内测 稳定版暂不受影响 以确保工程师可以集中全部精力进行系统优化工作 有人猜测这也是将精力主要用到MIUI 9的研发之中 MIUI 8去年5月发布 距今已有一年有余 也是时候更新换代了 当然 关于MIUI 9的确切信息 我们还是等待官方消息',\n",
       " '骁龙835作为唯一通过Windows 10桌面平台认证的ARM处理器 高通强调 不会因为只考虑性能而去屏蔽掉小核心 相反 他们正联手微软 找到一种适合桌面平台的 兼顾性能和功耗的完美方案 报道称 微软已经拿到了一些新的源码 以便Windows 10更好地理解big little架构 资料显示 骁龙835作为一款集成了CPU GPU 基带 蓝牙 Wi Fi的SoC 比传统的Wintel方案可以节省至少30 的PCB空间 按计划 今年Q4 华硕 惠普 联想将首发骁龙835 Win10电脑 预计均是二合一形态的产品 当然 高通骁龙只是个开始 未来也许还能见到三星Exynos 联发科 华为麒麟 小米澎湃等进入Windows 10桌面平台',\n",
       " '此前的一加3T搭载的是3400mAh电池 DashCharge快充规格为5V 4A 至于电池缩水 可能与刘作虎所说 一加手机5要做市面最轻薄大屏旗舰的设定有关 按照目前掌握的资料 一加手机5拥有5 5寸1080P三星AMOLED显示屏 6G 8GB RAM 64GB 128GB ROM 双1600万摄像头 备货量 惊喜 根据京东泄露的信息 一加5起售价是xx99元 应该是在2799 2899 2999中的某个',\n",
       " '这是6月18日在葡萄牙中部大佩德罗冈地区拍摄的被森林大火烧毁的汽车 新华社记者张立云摄',\n",
       " '原标题 44岁女子跑深圳约会网友被拒 暴雨中裸身奔走 深圳交警微博称 昨日清晨交警发现有一女子赤裸上身 行走在南坪快速上 期间还起了轻生年头 一辅警发现后赶紧为其披上黄衣 并一路劝说她 那么事发时 到底都发生了些什么呢 南都记者带您一起还原现场 南都记者在龙岗大队坂田中队见到了辅警刘青 发现女生的辅警 一位外表高大帅气 说话略带些腼腆的90后青年 刘青介绍 6月16日早上7时36分 他正在环城南路附近值勤 接到中队关于一位女子裸身进入机动车可能有危险的警情 随后骑着小铁骑开始沿路寻找 大概花了十多分钟在南坪大道坂田出口往龙岗方向的逆行辅道上发现该女子 女子身上一丝不挂地逆车流而行 时走时停 时坐时躺 险象环生 刘青停好小铁骑 和另外一名巡防员追了上去 发现女子的情绪很低落 话不多 刘青尝试和女子交流 劝说女子离开 可女子并不愿意接受 继续缓慢地往南坪快速路的主干道上走去 此时路边上已经聚集了很市民围观 为了不刺激女子的情绪 刘青和巡防员一边盯着女子一边驱赶着围观的群众 现场还原 从警方提供的一份视频了解到 16日早上7时25分 女子出现在坂雪岗大道与环城南路的监控视频中 此时女子还穿着白色的内裤 正沿着坂雪岗大道往南坪快速的方向缓慢地走着 当时正值上班高峰期 十字路口的车流已经排起了长队 当女子出现时 路上的市民纷纷驻足观望 不少车辆也放慢了速度 但女子并不为市民观望停下脚步 依然缓慢走着 当女子行进到十字路口中间时 一辆大货车挡住了镜头 但是当女子再次出现镜头时 可以发现女子已经没穿内裤了 全身裸露继续朝着南坪快速方向走去 记者发现 视频中女子周围并没有人尾随或者上前劝止的市民 一大清早路上看到这样的情况 恐怕大家都没办法淡定 面对这一情况 刘青表示 一开始根本不敢看她 心里挺别扭 感觉很尴尬 但当刘青跟随女子上了南坪快速路主干道时 女子作出了让人意想不到的举动 她突然靠近护栏要从上面跳下去 刘青赶忙冲上去拉住了女子的手 将其控制住并远离护栏 碍于女子没有穿衣服 刘青递上衣服 女子没接受还把衣服扔到排水沟里 继续往前走 没办法刘青只能紧紧拉着她的一只手跟在后面 刘青一路上耐心地开导安慰她 但只听到她不断地重复着一句话 要是你也遭遇我的事 你也会这样的 期间她还不时试图挣脱刘青的手要冲向护栏往下跳 就这样 我被牵着走了大概十多分钟 天突然下起了大暴雨 雨大的连眼睛都睁不开 刘青继续说着 瞬间他们就被雨透了 但女子依然不愿意接受刘青的帮助 就继续冒着大雨往前走 大概走了有四十分钟吧 女子突然停下来说 我想回家了 然后女子也接受了刘青递过来的小黄衣 就出现了深圳微博上的照片 女子披着小黄衣 刘青小心翼翼地在旁边走着的场景 从南平快速下来后 刘青和巡防员将女子带到了附近的坂田派出所 那姑娘到底是遭遇了什么样的事情 才会说 要是你也遭遇我的事 你也会这样 据警方透露 该女子姓陈 系湖北人 今年44岁 据家属反映其有精神病史 三天前 陈某从老家来深圳约会网友 但约会受挫导致情绪异常 女子遂产生轻生念头 目前 陈某已经被送往深圳某精神病医院进行治疗 大大君只希望姑娘能早点康复 其实真爱的到来并不存在年龄的限制 你们说呢 因善良的原因 一众网友纷纷为 交警暖男点ZAN 弓常yan桦 就想问这个小哥哥有女票吗 原谅我这一辈子浪荡不羁爱萨摩耶 有什么过不去的要轻生嘛 想想自己的家人 同时也感谢交警蜀黍 火心聆听心灵 点赞交警 中華云盾 警察 警察就是群众最需时申出援手 Tomchlee 蜀黍帅 SJ 李赫海i 这个交警很暖有木有 男子迷奸网友拍418个视频 女方从20岁到50岁不等 去年6月7号上午 淮安市涟水县公安局刑警大队突然接到了一个奇怪的报警电话 一名女子言语不清 声称自己遭到了侵害 女子 被侵害 言语不清 几个关键词令接到电话的民警瞬间紧张起来',\n",
       " '受到A股被纳入MSCI指数的利好消息刺激 A股市场从周三开始再度上演龙马行情 周四上午金融股和白马股表现喜人 但是尾盘跳水之后 仅金融板块仍维系红盘状态 分析人士认为 金融股受益于MSCI纳入A股和低估值而重获资金青睐 但是存量资金博弈格局下 风格交替的震荡格局料延续 流动性改善 经济悲观预期修正等有助于支撑板块继而大盘指数逐步向好 一九 再现 周四 A股市场未能延续周三的上行态势 两市成交小幅放量 29个中信一级行业中 收盘仅银行和非银行金融两个行业指数收红 分别上涨1 80 和0 20 从二级行业来看 股份制与城商行的涨幅最高 达到2 22 国有银行上涨0 82 信托及其他上涨0 64 保险板块上涨0 34 证券板块上涨0 06 银行板块25只成分股中 共有21只收红 其中 招商银行涨幅最大 上涨6 66 贵阳银行上涨3 65 上海银行 华夏银行 浦发银行和兴业银行的涨幅均超过1 50 非银行金融板块44只成分股中 共17只个股上涨 其中 安信信托 中国太保涨幅居前两名 分别上涨4 57 和3 04 西水股份 华安证券 中国人寿和新华保险的涨幅也均超过2 相对而言 券商股多小幅下跌 近期 对A股市场消息面影响最大的就是MSCI宣布从2018年6月开始将A股纳入MSCI新兴市场指数 而其中 金融股是占比最大的一个群体 国金证券李立峰团队指出 最新方案中包含的222只成分股中 剔除了中等市值 非互联互通可交易的股票以及有停牌限制的标的 由于纳入了很多大市值AH股 A股在MSCI EM中的权重由0 5 上升到了0 73 其中 金融板块占比最高 达到40 11 泛消费次之 占比为24 26 两个板块涵盖了大部分权重股 动态来看 由于加入了很多是指占比高的金融公司 金融板块的权重增加了近一半 其他大部分行业权重都受到了稀释 尽管A股被纳入MSCI这一利好事件对短期市场情绪有所提振 对中长期海外增量资金预期升温 但短期内 市场量能尚不能有效放大 金融股独乐乐情景也就难以持续 存量博弈格局下 风格交替 指数震荡格局难改变 光大证券指出 利好并未引起市场太大的热情 两市指数和成交量均较为平淡 但市场风格出现了较大变化 白马股金融股上涨的同时 成长股 题材股全天低迷 这表明市场增量资金依然很少 存量资金在不同板块之间腾挪 这样的跷跷板格局使得指数难有突破 市场中期依旧偏空 短期依旧可能维持震荡格局',\n",
       " '虽然至今夏普智能手机在市场上无法排得上号 已经完全没落 并于 2013 年退出中国市场 但是今年 3 月份官方突然宣布回归中国 预示着很快就有夏普新机在中国登场了 那么 第一款夏普手机什么时候登陆中国呢 又会是怎么样的手机呢 近日 一款型号为 FS8016 的夏普神秘新机悄然出现在 GeekBench 的跑分库上 从其中相关信息了解到 这款机子并非旗舰定位 所搭载的是高通骁龙 660 处理器 配备有 4GB 的内存 骁龙 660 是高通今年最受瞩目的芯片之一 采用 14 纳米工艺 八个 Kryo 260 核心设计 集成 Adreno 512 GPU 和 X12 LTE 调制解调器 当前市面上只有一款机子采用了骁龙 660 处理器 那就是已经上市销售的 OPPO R11 骁龙 660 尽管并非旗舰芯片 但在多核新能上比去年骁龙 820 强 单核改进也很明显 所以放在今年仍可以让很多手机变成高端机 不过 由于 OPPO 与高通签署了排他性协议 可以独占两三个月时间 考虑到夏普既然开始测试新机了 说明只要等独占时期一过 夏普就能发布骁龙 660 新品了 按照之前被曝光的渲染图了解 夏普的新机核心竞争优势还是全面屏 因为从 2013 年推出全球首款全面屏手机 EDGEST 302SH 至今 夏普手机推出了多达 28 款的全面屏手机 在 5 月份的媒体沟通会上 惠普罗忠生表示 我敢打赌 12 个月之后 在座的各位手机都会换掉 因为全面屏时代的到来 我们怀揣的手机都将成为传统手机',\n",
       " '沙漠雄鹰 震荡有利消化套牢筹码 周四开盘上证50在银行券商大蓝筹带动下一度涨近2 沪指也一度站上60日与120日均线 但在 黑天鹅 万达电影暴跌拖累下 沪深股市绝大多数时间分道扬镳 14点后次新股大幅跳水令各大指数全线收绿 存量博弈格局难改 量能久日不见放大下 蓝筹行情并不可持续 短线策略依然是以题材为主 次新股和区域经济概念股调整压力仍然突出 成长股再次大跌 但目前处于底部 低位反复震荡有助于夯实底部 目前市场仍属存量资金博弈 短期蓝筹股上演的指数行情令市场承压 短期利好带动的蓝筹股行情或将告一段落 后期需要题材股接力来维稳指数走向 今日经财要闻 一 央行上海总部发布 债券通 北向通境外投资者准入备案业务指引 二 我国信用法规和标准研究正在加快推进 三 上海易居房地产研究院发布的 房贷利率与楼市研究报告 显示 近期许多城市的个人住房贷款利率均有不同程度的上涨 四 水污染防治法修正案草案二审 更大力度保护水环境 五 根据中国结算发布的 关于开展存量一人多户休眠工作的通知 已启动对同一投资者开立的三户以上多开账户的休眠工作 按中国结算的文件要求 自6月23日后的下一交易日 下周一 6月26日 起 被确认为休眠账户的 将在交易系统中止交易 六 李军 十三五 末上海金融市场交易额或达2000万亿 七 受A股纳入MSCI新兴市场指数 以及中国宏观环境持续稳定的双重因素鼓舞下 富达国际基金经理马磊表示 预计2017年下半年中国股市投资者情绪将有望转好 中国股市未来十年增长将主要由创新驱动 大盘回顾 周四A股市场出现了早盘冲高 午市后震荡回落 尾盘大幅跳水的走势 从盘面看 沪深300指数盘中创17个月新高 但2000余只个股下跌 市场分化相当明显 至收盘 上证指数报3147 45点 较前一交易日跌8 76点 跌幅为0 28 深成指报10265 20点 跌101 97点 跌幅为0 98 创业板指表现最弱 报1798 38点 跌幅达到1 44 两市个股普跌 仅400余只交易品种上涨 不计算ST股和未股改股 两市涨停个股不足30只 两市共成交4781亿元 较前一交易日大增800多亿元 数据显示 昨日两市共有主力尽流出190 57亿元 较上一日的96 95亿元大增96 27 两市61个行业板块有57个遭遇主力抛售 虽然券商与银行板块共有近13亿元主力介入 但化工行业与医药制造就分别遭遇14亿元与12 21亿元的主力抛售 而持续低迷的雄安新区的抛售力度更是高达41 69亿元 技术分析 昨日临近收盘的半个小时 沪指上演高位跳水 将涨幅全部回吐 失守60日均线 成交量明显放大 留下长长的上影线 尽管跌幅不深 但个股一地鸡毛 沪指自3016点以来 大盘每次回调的相对低点位置都在不断抬升 所以即使大盘冲高乏力后出现回落 指数调整的空间也因被封住而难以出现大跌 总体来说市场震荡分化的格局短期依然难以打破 短线来看 沪指在盘中攻克60日均线和半年线压力之后 却在当日得而复失 而创业板指则连上方均线压力都无法触及 这样的走势 无疑会对投资者心理产生负面影响 而在技术形态上 在60分钟K线级别已经形成了背离雏形 一旦沪指跌破3117点 就意味着背离成型 如此即可能引发日线级别的下跌 综合分析 目前指数正处在压力区间 市场脆弱的心态 碎片化的涨停板 主线模糊 热点凌乱 赚钱效应弱等因素都是大盘突破的掣肘因素 而昨日的尾盘跳水 主要有以下原因 首先 长期的二八分化 导致人气低迷 最近一段时间权重股虽然整体走高 但该板块群众基础弱 弹性小制约绝对涨幅 难以形成大面积的赚钱效应 与此同时 现在场内二八轮动非常频繁 今天追进的资金明天就要吃套 打击资金积极性 其次 市场反弹到重要压力区 却仅靠资金拉升指标股来抬升指数 这种没有赚钱效应的拉抬是不可能持久的 昨日招商银行一度大涨7 但投资者似乎并不买账 跟风盘极少 由于目前A股一直是存量资金博弈的市场 所以 指标股吸引着资金加码 那么 就意味着中小市值品种面临着强大的筹码套现压力 另外 昨日万达股票债券莫名齐跌 午后复星医药盘中突现 闪崩 令市场踩踏事件出现 短期市场受此影响 再次收复上方半年线的压力大增 投资建议 近期权重蓝筹一直强于中小创 但上涨始终缺乏有效的量能支持 在存量博弈背景下 后续资金若无法跟上 活跃资金或会转战中小创 短线投资者在降低权重配置时 可加大中小创中盘子小 股性活跃的超跌品种 大盘的纠缠格局依然还在进行中 权重股虽整体走高 但群众基础弱 弹性小 绝对涨幅有所制约 金融板块大涨促使沪指上摸3180点压力位区间 但能否真正有效突破 还需要观察几日 基于周四K线组合形态偏向悲观 因此投资者当前宜先退出观望 等待股指下方获得支撑后再寻机操作 热点分析 由于粤港澳大湾区论坛期间 腾讯看多人工智能 百度也将于7月5日举办 百度AI开发者大会 以谷歌 亚马逊为代表的互联网巨头一致看好人工智能未来的发展 产业创新叠加政策扶持 人工智能行业高景气度有望维持 市场在最近一个月内出现了4次长上影线 之前三次都形成了周线级别调整 加之下周是月末钱荒效应 值得股民做好应对 自6月初以来 市场始终是以中小创为首的反弹模式 个股赚钱效应保持 而随着周三尾盘开始 权重股快速拉升 带来了指数尾盘翻红 周四刷新高点 但与此同时个股赚钱效应却有了明显的降温的 个股涨少跌多 午盘后个股跳水加剧这一现象必须要引起重视 玉名认为这意味着上证50创新高 但并没有带来其余个股的跟随 相反还带来了大部分个股的跳水 而受到政策红利的军工板块和上周 王者荣耀 引发的手游股类似 都是出现了 一日游 的走势 没有延续性的热点 更多地来自于事件刺激和超跌反弹 市场下周将进入到一个比较敏感的时间段 既是月末 季末 又是半年末 容易出现资金的异动 实际上 从美联储加息和缩表行为来看 已经意味着紧缩货币政策的开启 而这也在全球央行中流行 金融市场很难再现 大水漫灌 式强刺激 中性偏紧的政策和流动性将成为一种 常态 从基本面来看 玉名认为中国经济仍将是 L 型筑底走势 这是一个阶段 是一段较长的时间 意味着没有高速增长 也没有增速大幅下滑 而是横盘周期 同时以适度偏紧的政策 为供给侧结构性改革提供良好环境 因此 从基本面决定了股市只能处于震荡市周期 技术上 沪指运行到60日均线附近 在权重股拉升之下有突破之意 不过由于运行到前期肩部区域 压力还是比较大 这种单纯依托权重股 而忽略个股效应的模式能够走多远 还是值得担忧的 这是引发资金派发而形成跳水的关键因素 尤其是个股的赚钱效应越来越差 甚至不排除一些获利盘和解套盘选择了短线的离场 伴随着高位 资金追涨的压力也在增加 谨慎观望气氛增加 导致了成交量的止步不前 玉名认为目前股民需要对于个股做一个梳理了 短线反弹较多的 且近期放量滞涨的 就要有所警惕了 要逐步兑现利润 选择落袋为安 重新等待机会 而对于已经进入前期阻力区或密集套牢区的个股 应该及时考虑减仓 毕竟这样的品种很容易出现再度的调整 对于前期涨幅不大 或者是下跌通道已经扭转的个股 可以暂时持有观望 昨日回顾 主板终于费尽九牛二虎之力爬到了3180点附近 但是遗憾的是在主板尤其是上证50和沪深300不断地创新高之际 中小创却依然是忍受着无厘头的煎熬 午后市场更是以全线跳水的结局收盘 那么对于这样的市场周五会怎样 昨日消息面 央行 债券通 登记托管等实施细则会很快发布实施 发改委 抓紧制定出台配气价格监管规则 人社部 9月底前基本实现跨省异地就医住院费用直接结算 23日成品油将迎年内第六次下调 降幅或达270元 吨 国防科工局 推进军工企业混改 加快军工资产证券化进程 广电总局要求新浪微博等网站关停视听节目 欧美股指延续涨跌不一的走势 消息面上 外围市场整体稳健 国内信息面则继续是不死不活的形式 预计市场继续走整理行情 技术分析 技术上看 市场昨日走势在午后全线跳水 主板创新高后回落 创业板则是继续在1800点附近做整理 相比于主板则显得较为弱势 技术上看 市场周五将依然不会有大行情 但是二八转换的格局将可能随时出现 今日大盘下档第一支撑位在3130点 第二支撑位在3100 上档第一压力位在3160点 第二压力位在3180点 今日走势 欧美股指高位整理 隔夜信息面依然没有什么实质性的利好 今天继续有新股申购 在这样的情况下 预计大盘再度平开或小幅低开可能性大 整体看今天指数出现调整的可能性大 日线继续以小阴 小阳或十字星线为主 随时防止主板可能出现的回调 今日操作 就昨日市场的走势看 依然是面子行情 更是将中小创再度推到了一个极为尴尬的境地 当然在筑底的过程中很多的不确定因素将会愈发明显 因此建议大家操作继续在短期寻求涨幅不大的个股或者是底部放量的个股 尤其是再加上业绩稳定的个股将是最好 逢低介入 操作上短期建议执行快进快出的策略 远离短期涨幅过大的个股 具体操作坚持大涨卖 大跌买 不涨不跌选择观望的策略 从昨日市场走势看 又一次证明了彬哥之前所让大家关注的3180点主板可能回调的观点是正确的 而主板也确实在3180点附近出现了回调 对于这样的回调 彬哥认为是一个健康的事情 也是一个必须要出现的事情 现在唯一不能确定的就是在主板回调的时候中小创会不会出现企稳 会不会出现让投资者操作的机会 因此大家今天上午需要至少需要半天的时间去观察市场可能出现的结果 目前行情有一点可以确定的就是主板将会在3180点附近出现调整 因此大家万不可在这个时候再去追涨主板的个股 尤其是以保险银行为首的上证50个股 就周四午后市场的走势看 主板的调整势在必行 因此大家要做好主板调整的心理准备 当然还要做好市场全线调整的心理预期',\n",
       " '原标题 武汉警方一下子抓了808人 还都是俊男靓女 原来他们每天偷偷摸摸干这事 武汉警方一下子抓了808人 还都是俊男靓女 原来他们每天偷偷摸摸干这事 大家还记得今年4月光谷曾发生的一件大事吗 当时微博和朋友圈上都传疯了 说是光谷国际广场大量白领被捕 现场手铐都不够用 结果经记者深入调查后发现 这些被抓的并不是网传的 白领 而是一个有282名涉案人员的诈骗团伙 天呐 接近300人的犯罪团伙 你以为这个数字已经够庞大了吗 错 还有让你更震惊的 据武汉市公安局通报 6月9日 警方在武汉三镇的10处窝点内 抓获了808名嫌疑人 而且令人大跌眼镜的是 他们当中大多都是年青人 用 俊男靓女 来形容也不为过 年纪不大 外形不差 那么到底是犯了什么事呢 其实说起来 这事估计绝大多数人都碰到过 那就是网络诈骗 涉案电脑800余台 手机2000余部 银行卡3000余张 因为涉及的账户太多 涉案金额目前还没统计出来 这是全国涉案人数最多的一起特大网络诈骗案 这些惊人的数字背后 究竟藏着什么样的秘密 警方把他们一锅端了 今年4月 武汉警方获悉在塔子湖地区有电信网络诈骗活动 经过2个多月的秘密侦查 发现了一个特大网络诈骗犯罪团伙 原来该团伙利用非法互联网金融平台 实施推荐股票 炒期货等诈骗 其10处窝点散布在江岸 洪山 东湖高新 硚口 江汉等5个区的写字楼内 涉案人员多达800余名 6月9日上午 武汉警方组织了1000余名警力 分成14个抓捕组 同时对首脑分子和10处窝点实施了突击抓捕行动 目前 警方已依法刑事拘留411人 对45人取保候审 该案还在进一步调查中 他们是如何进行诈骗的 人数众多的这个诈骗组织是怎么样进行人员分工 又是如何一步步引受害人上钩的呢 2015年以来 该犯罪团伙以投资组建的某集团公司为总部 旗下成立多家分公司 子公司 设立人事部 财务部 行政部等机构部门 分为经理 分析师 业务小组长 业务员等组织层级 在网上发布招聘信息招揽 培训业务员 依托虚构的互联网金融平台 通过业务员散布 有内幕消息 等虚假信息 引诱受害人加入专门的QQ群 微信群 再由所谓的 证券公司资深分析师 和 经理 逐个联系受害人 引诱受害人交易股票 期货 贵金属 外汇等金融产品 受害人若获利则按 五五 六四 分成 若亏损则拉入 黑名单 不再联系 网友热评 李晓猫不吃鱼 在人信汇写字楼面试过一个这种工作 一听不对劲就撤了 说不适合我 我嘴巴笨 习惯就好33xxzz 八百多人 可能相当部分人都不大清楚自己到底是啥性质工作吧 刑法守望者 要警惕了 普法 各种工作都要预防法律风险 要做个明白人 不是什么钱都可以拿 尤其是从事金融 保险 银行 财务的人员 不小心就触犯刑法 童颜永在 心理医生 盘在写字楼内的诈骗公司 以高薪招聘业务人员为诱饵 实行诈骗的顽疾 终于被揣掉了 你的渔船 联系一下自己的朋友 看有多少个被抓了 The former degrees 招聘平台和销售会上百分之八十就是这种工作 从源头抓起 防止更多人受伤 宇宇家的小仙女 恐怖 进了一个星期发现不太对劲 这尼玛是让我骗人啊 赶紧自己跑路了 z_路漫漫 我做过 后来听说公司跑路了 睡不饱怎么办啊小铭大 我都面试过这种工作 还培训了几天 话术一看就的套路骗 果断闪人 这种公司太多了 遗忘的金叶子 碰到这样的骗子找我们做视频 最后被我打电话骂了一顿 a一元复始c 还有那些天天电话骚扰别人信贷的 卖房的 卖邮票的 发票的社会生活中一不留神就会被坑 所以活着需要理智 笑看世间丑2448337651 这是在路上发骗广告搞高利贷的那些互联网金融公司吗 未来温暖的时光属于自己 金融港 街道口都是这些 好多同学刚刚毕业都去做过 都是网上投简历 这些公司就猛联系你 其实好多都不知道这是骗人的吧 有强迫症的天蝎座怪咖 吓到我了 冉冉的彗星是个宝 早上还接到说做期货 霖心金鱼And张蒙 都不敢去找工作了 蒋妈妈1 5 刚回到武汉 准备找份工作 看网上好多这种招聘的 感觉像骗人的 都不看的 看了网友的评论 小编只有一个感觉 找工作时一定要擦亮双眼 不要因为一时疏忽 而给自己的生活抹上污点 俗话说 知己知彼百战不殆 弄清网络诈骗的常见手法 才能避免上当受骗 下面就为大家奉上防骗攻略 遇到诈骗只需见招拆招 网络防骗攻略 电信网络诈骗犯罪往往表现为 六大陷阱 1 物美价廉的网购陷阱 2 推销产品的便利陷阱 3 异性交友的情感陷阱 4 中奖信息的惊喜陷阱 5 冒充国家工作人员的恐吓陷阱 6 钓鱼网站和网上银行的迷惑陷阱 下面是网络诈骗中比较常见的几种类型 一起学习如何防范 让骗子无处遁形 1虚假红包诈骗 临近节日时 各大电商平台会以派发红包的形式 为促销活动预热 有不法分子趁机在微信朋友圈 微信群等平台中 派发虚假红包 诱骗大家点击 套取个人信息 或传播木马病毒 盗取银行账号 识骗方法 慎点此类红包领取链接 如果不小心点击 应第一时间关闭手机网络 修改网银 支付宝等重要账户密码 并通过安全软件查杀木马病毒 2二维码诈骗 抢购高峰期 网页打开慢 网银交易出现比较迟钝现象 有不法分子会冒充客服或店主 以单子出现 调单 卡单 等说法为幌子 故意说没有收到款项欺诈消费者 取得信任后要求消费者以其他办法进行转账 识骗方法 消费者要注意 调单 卡单 激活订单等多为诈骗术语 见此类词语基本可以断定对方是骗子 没有收到款项这样的问题 是不会在东京 天猫这样的大型网络购物平台出现的 3钓鱼网站诈骗 节假日期间 公众的购物热情高涨 假冒正规电商官方网站 在线支付平台等的钓鱼网站活动频繁 消费者在忙于浏览各色商品页面时 往往容易忽略链接的安全性 从而误入诈骗分子发来的虚假钓鱼网站 识骗方法 对陌生人发来的商品链接要提高警惕 谨慎打开 如遇网络诈骗应第一时间向属地公安机关报案 并向举报中心举报 4虚假客服诈骗 抢购高峰期 网页打开慢 网银交易出现比较迟钝现象 有不法分子会冒充客服或店主 以单子出现 调单 卡单 等说法为幌子 故意说没有收到款项欺诈消费者 取得信任后要求消费者以其他办法进行转账 识骗方法 消费者要注意 调单 卡单 激活订单等多为诈骗术语 见此类词语基本可以断定对方是骗子 没有收到款项这样的问题 是不会在东京 天猫这样的大型网络购物平台出现的 5预购诈骗 还有不法分子会以 提前购 预售 为诱饵向用户发送木马链接 除了网购链接被植入木马 钓鱼网站 还有不法分子会在 预售 活动上做文章 骗取买家 定金 识骗方法 慎点不明链接 有关购物短信也不要轻信 同时也请给手机装上杀毒软件 提供安全的上网环境 6中奖诈骗 购物过后 很多人会陆陆续续收到一些商家的中奖信息 切记不要随意拨打中奖信息提供的电话号码或点击发来的网站链接地址 很可能会让手机或电脑感染上木马病毒 识骗方法 收到中奖信息后留心一下 看一看你所购买的产品中有没有这家的产品 然后最好能在天猫店里直接和卖家联系确认消息 7朋友圈诈骗 由于缺少第三方监管平台 不法分子会在朋友圈发布虚假低价购物信息 骗取消费者汇款购买 识骗方法 朋友圈里的销售行为 存在取证难 查处难的问题 因此建议大家在朋友圈买东西时 尽可能选择正规第三方支付平台进行支付 避免直接支付 以确保安全 8快递诈骗 不法分子会从非法渠道获得客户信息 制作假的快递单 随后冒充快递员提前联系受骗者 把虚假货品送到消费者手中 骗取钱财 识骗方法 签收包裹前 务必按官方的信息核实对方身份 并确认是否是自己的包裹 在取货之后 一定记得把自己的个人信息从包裹上完全抹去 避免个人信息泄露 9退款诈骗 不法分子常以 退款 或 退货 为由假扮网店客服 要求消费者点击其提供的 钓鱼网站 链接 盗取持卡人的银行密码及动态验证码 识骗方法 如果接到网上购物退款的电话或短信等信息 一定要谨慎对待 切莫泄露银行卡账号 户名 动态验证码等个人信息 同时 提醒大家 保护好自己账户信息 遇到情况一定及时报警 武汉破特大网络诈骗案抓808人 以 内幕消息 骗人 6月12日 武汉市公安局向澎湃新闻通报 该局破获一起特大网络诈骗案 抓获包括卢某 熊某等8名首脑分子在内的涉案人员808名 查扣涉案电脑800余台 手机2000余部 银行卡3000余张 据悉 这是全国打击利用非法互联网金融平台实施诈骗犯罪中 查获涉案人数最多的一起案件',\n",
       " '6月21日 A股纳入MSCI指数尘埃落定 但当天被寄予厚望的券商股并未扛起反弹大旗 22日 在222只纳入MSCI指数的A股股票中 银行股全线飘红 其中招商银行领涨 涨幅达6 66 保险股和券商股的表现也可圈可点 在这222只股票中 金融板块的股票数量和总市值占比均位居首位 分析人士指出 银行股股息率高 估值低 收益稳定 对于资金量较大 投资期限较长的资金存在相当大的吸引力 从国际经验来看 纳入MSCI指数后 相关股市的投资者风格将更加稳健 更加偏好业绩稳定 流动性好 风险低的优质蓝筹股 银行股具估值优势 6月22日 A股金融股表现强势 板块涨幅达1 19 据平安证券统计 在222只纳入MSCI指数的A股股票中 金融板块市值占比达41 32 其中银行 证券和保险子板块的市值占比分别为27 30 7 75 和6 24 多家券商研究报告认为 银行等金融股受到纳入MSCI指数的提振 未来更多境外资金将进入金融股 华泰证券表示 在纳入MSCI指数之后 A股将迎来约850亿元人民币的增量资金 其中 考虑到222只股票中 金融股市值占比约42 并且金融股体量大 流动性强 估值低 符合境外资金偏好 有望迎来超过权重的资金比例 预计金融股有望吸引增量资金约350亿元人民币 新富资本证券投资中心研究总监廖云龙认为 银行股脱颖而出的主要原因是低估值 市场预期银行股基本面改善 同时市场整体风格偏保守 偏爱低估值 22日银行股的大涨是市场风格的延续 是投资者对龙头股和对低估值的防御性选择 东方财富choice统计的一季度末QFII重仓股数据显示 银行股是QFII关注的重点之一 在前五十大重仓股中 北京银行 南京银行 宁波银行 上海银行榜上有名']"
      ]
     },
     "execution_count": 11,
     "metadata": {},
     "output_type": "execute_result"
    }
   ],
   "source": [
    "all_articles[:10]"
   ]
  },
  {
   "cell_type": "code",
   "execution_count": 12,
   "metadata": {},
   "outputs": [
    {
     "name": "stdout",
     "output_type": "stream",
     "text": [
      "length of text:37412349\n"
     ]
    }
   ],
   "source": [
    "text= ''\n",
    "for sentence in all_articles:\n",
    "    text+=sentence\n",
    "print ('length of text:{}'.format(len(text)))"
   ]
  },
  {
   "cell_type": "code",
   "execution_count": 13,
   "metadata": {},
   "outputs": [],
   "source": [
    "TEXT=text"
   ]
  },
  {
   "cell_type": "code",
   "execution_count": 14,
   "metadata": {},
   "outputs": [],
   "source": [
    "from functools import reduce"
   ]
  },
  {
   "cell_type": "code",
   "execution_count": 15,
   "metadata": {},
   "outputs": [],
   "source": [
    "## 正则表达式"
   ]
  },
  {
   "cell_type": "code",
   "execution_count": 16,
   "metadata": {},
   "outputs": [],
   "source": [
    "pattern ='\\w+'"
   ]
  },
  {
   "cell_type": "code",
   "execution_count": 17,
   "metadata": {},
   "outputs": [
    {
     "data": {
      "text/plain": [
       "['this',\n",
       " 'is',\n",
       " 'a',\n",
       " 'BIGGGGGGGGG',\n",
       " 'thing',\n",
       " 'BI',\n",
       " 'and',\n",
       " 'BIGGGGGGGGGGGGGGGGGGGGGGGGGGGGGGGGGGGGGGGGgg']"
      ]
     },
     "execution_count": 17,
     "metadata": {},
     "output_type": "execute_result"
    }
   ],
   "source": [
    "re.findall(pattern,string)"
   ]
  },
  {
   "cell_type": "code",
   "execution_count": 18,
   "metadata": {},
   "outputs": [],
   "source": [
    "import requests"
   ]
  },
  {
   "cell_type": "code",
   "execution_count": 19,
   "metadata": {},
   "outputs": [],
   "source": [
    "url = 'https://movie.douban.com/'"
   ]
  },
  {
   "cell_type": "code",
   "execution_count": 20,
   "metadata": {},
   "outputs": [],
   "source": [
    "response = requests.get(url)"
   ]
  },
  {
   "cell_type": "code",
   "execution_count": 21,
   "metadata": {},
   "outputs": [],
   "source": [
    "url_pattern = re.compile('https://movie.douban.com/subject/\\d+/\\?from=showing')"
   ]
  },
  {
   "cell_type": "code",
   "execution_count": 22,
   "metadata": {},
   "outputs": [],
   "source": [
    "html_content=response.text"
   ]
  },
  {
   "cell_type": "code",
   "execution_count": 23,
   "metadata": {},
   "outputs": [
    {
     "data": {
      "text/plain": [
       "['https://movie.douban.com/subject/2244426/?from=showing',\n",
       " 'https://movie.douban.com/subject/2244426/?from=showing',\n",
       " 'https://movie.douban.com/subject/27202819/?from=showing',\n",
       " 'https://movie.douban.com/subject/27202819/?from=showing',\n",
       " 'https://movie.douban.com/subject/30334073/?from=showing',\n",
       " 'https://movie.douban.com/subject/30334073/?from=showing',\n",
       " 'https://movie.douban.com/subject/26728669/?from=showing',\n",
       " 'https://movie.douban.com/subject/26728669/?from=showing',\n",
       " 'https://movie.douban.com/subject/27663742/?from=showing',\n",
       " 'https://movie.douban.com/subject/27663742/?from=showing',\n",
       " 'https://movie.douban.com/subject/25924056/?from=showing',\n",
       " 'https://movie.douban.com/subject/25924056/?from=showing',\n",
       " 'https://movie.douban.com/subject/30164448/?from=showing',\n",
       " 'https://movie.douban.com/subject/30164448/?from=showing',\n",
       " 'https://movie.douban.com/subject/5300054/?from=showing',\n",
       " 'https://movie.douban.com/subject/5300054/?from=showing',\n",
       " 'https://movie.douban.com/subject/27624661/?from=showing',\n",
       " 'https://movie.douban.com/subject/27624661/?from=showing',\n",
       " 'https://movie.douban.com/subject/27060077/?from=showing',\n",
       " 'https://movie.douban.com/subject/27060077/?from=showing',\n",
       " 'https://movie.douban.com/subject/26715636/?from=showing',\n",
       " 'https://movie.douban.com/subject/26715636/?from=showing',\n",
       " 'https://movie.douban.com/subject/30288751/?from=showing',\n",
       " 'https://movie.douban.com/subject/30288751/?from=showing',\n",
       " 'https://movie.douban.com/subject/27063305/?from=showing',\n",
       " 'https://movie.douban.com/subject/27063305/?from=showing',\n",
       " 'https://movie.douban.com/subject/27179414/?from=showing',\n",
       " 'https://movie.douban.com/subject/27179414/?from=showing',\n",
       " 'https://movie.douban.com/subject/26266893/?from=showing',\n",
       " 'https://movie.douban.com/subject/26266893/?from=showing',\n",
       " 'https://movie.douban.com/subject/27042871/?from=showing',\n",
       " 'https://movie.douban.com/subject/27042871/?from=showing',\n",
       " 'https://movie.douban.com/subject/19899707/?from=showing',\n",
       " 'https://movie.douban.com/subject/19899707/?from=showing',\n",
       " 'https://movie.douban.com/subject/1652592/?from=showing',\n",
       " 'https://movie.douban.com/subject/1652592/?from=showing',\n",
       " 'https://movie.douban.com/subject/25833233/?from=showing',\n",
       " 'https://movie.douban.com/subject/25833233/?from=showing',\n",
       " 'https://movie.douban.com/subject/25884416/?from=showing',\n",
       " 'https://movie.douban.com/subject/25884416/?from=showing',\n",
       " 'https://movie.douban.com/subject/26213252/?from=showing',\n",
       " 'https://movie.douban.com/subject/26213252/?from=showing',\n",
       " 'https://movie.douban.com/subject/27150225/?from=showing',\n",
       " 'https://movie.douban.com/subject/27150225/?from=showing',\n",
       " 'https://movie.douban.com/subject/26909787/?from=showing',\n",
       " 'https://movie.douban.com/subject/26909787/?from=showing',\n",
       " 'https://movie.douban.com/subject/27191431/?from=showing',\n",
       " 'https://movie.douban.com/subject/27191431/?from=showing',\n",
       " 'https://movie.douban.com/subject/27040737/?from=showing',\n",
       " 'https://movie.douban.com/subject/27040737/?from=showing',\n",
       " 'https://movie.douban.com/subject/27135473/?from=showing',\n",
       " 'https://movie.douban.com/subject/27135473/?from=showing',\n",
       " 'https://movie.douban.com/subject/30145516/?from=showing',\n",
       " 'https://movie.douban.com/subject/30145516/?from=showing',\n",
       " 'https://movie.douban.com/subject/27602116/?from=showing',\n",
       " 'https://movie.douban.com/subject/27602116/?from=showing',\n",
       " 'https://movie.douban.com/subject/30486462/?from=showing',\n",
       " 'https://movie.douban.com/subject/30486462/?from=showing']"
      ]
     },
     "execution_count": 23,
     "metadata": {},
     "output_type": "execute_result"
    }
   ],
   "source": [
    "url_pattern.findall(html_content)"
   ]
  },
  {
   "cell_type": "code",
   "execution_count": 24,
   "metadata": {},
   "outputs": [],
   "source": [
    "## Get all tokens"
   ]
  },
  {
   "cell_type": "code",
   "execution_count": 25,
   "metadata": {},
   "outputs": [],
   "source": [
    "import jieba"
   ]
  },
  {
   "cell_type": "code",
   "execution_count": 26,
   "metadata": {},
   "outputs": [],
   "source": [
    "def cut(string):\n",
    "    return list(jieba.cut(string))"
   ]
  },
  {
   "cell_type": "code",
   "execution_count": 27,
   "metadata": {},
   "outputs": [
    {
     "name": "stderr",
     "output_type": "stream",
     "text": [
      "Building prefix dict from the default dictionary ...\n",
      "Loading model from cache /var/folders/5d/046t421j05g25t76d5lv813w0000gn/T/jieba.cache\n",
      "Loading model cost 1.115 seconds.\n",
      "Prefix dict has been built succesfully.\n"
     ]
    },
    {
     "data": {
      "text/plain": [
       "['祝您', '新年快乐']"
      ]
     },
     "execution_count": 27,
     "metadata": {},
     "output_type": "execute_result"
    }
   ],
   "source": [
    "#test\n",
    "cut('祝您新年快乐')"
   ]
  },
  {
   "cell_type": "code",
   "execution_count": 28,
   "metadata": {},
   "outputs": [],
   "source": [
    "ALL_TOKENS=cut(TEXT)"
   ]
  },
  {
   "cell_type": "code",
   "execution_count": 29,
   "metadata": {},
   "outputs": [
    {
     "data": {
      "text/plain": [
       "['此外',\n",
       " ' ',\n",
       " '自',\n",
       " '本周',\n",
       " ' ',\n",
       " '6',\n",
       " '月',\n",
       " '12',\n",
       " '日',\n",
       " ' ',\n",
       " '起',\n",
       " ' ',\n",
       " '除',\n",
       " '小米',\n",
       " '手机',\n",
       " '6',\n",
       " '等',\n",
       " '15',\n",
       " '款',\n",
       " '机型']"
      ]
     },
     "execution_count": 29,
     "metadata": {},
     "output_type": "execute_result"
    }
   ],
   "source": [
    "ALL_TOKENS[:20]"
   ]
  },
  {
   "cell_type": "code",
   "execution_count": 30,
   "metadata": {},
   "outputs": [],
   "source": [
    "valida_tokens=[t for t in ALL_TOKENS if t.split() and t !='n']"
   ]
  },
  {
   "cell_type": "code",
   "execution_count": 31,
   "metadata": {},
   "outputs": [
    {
     "data": {
      "text/plain": [
       "21906695"
      ]
     },
     "execution_count": 31,
     "metadata": {},
     "output_type": "execute_result"
    }
   ],
   "source": [
    "len(ALL_TOKENS)"
   ]
  },
  {
   "cell_type": "code",
   "execution_count": 32,
   "metadata": {},
   "outputs": [
    {
     "data": {
      "text/plain": [
       "17221482"
      ]
     },
     "execution_count": 32,
     "metadata": {},
     "output_type": "execute_result"
    }
   ],
   "source": [
    "len(valida_tokens)"
   ]
  },
  {
   "cell_type": "markdown",
   "metadata": {},
   "source": [
    "Get the frequences of words"
   ]
  },
  {
   "cell_type": "code",
   "execution_count": 33,
   "metadata": {},
   "outputs": [],
   "source": [
    "from collections import Counter"
   ]
  },
  {
   "cell_type": "code",
   "execution_count": 34,
   "metadata": {},
   "outputs": [
    {
     "data": {
      "text/plain": [
       "Counter({1: 6, 2: 4, 3: 2, 4: 1, 6: 1})"
      ]
     },
     "execution_count": 34,
     "metadata": {},
     "output_type": "execute_result"
    }
   ],
   "source": [
    "Counter([1,2,3,1,2,1,1,1,1,2,2,3,4,6])"
   ]
  },
  {
   "cell_type": "code",
   "execution_count": 35,
   "metadata": {},
   "outputs": [],
   "source": [
    "words_count=Counter(valida_tokens)"
   ]
  },
  {
   "cell_type": "code",
   "execution_count": 36,
   "metadata": {},
   "outputs": [
    {
     "data": {
      "text/plain": [
       "[('的', 703820),\n",
       " ('在', 264633),\n",
       " ('月', 189525),\n",
       " ('日', 169920),\n",
       " ('新华社', 142462),\n",
       " ('和', 134220),\n",
       " ('年', 123531),\n",
       " ('了', 121904),\n",
       " ('是', 100288),\n",
       " ('１', 88187)]"
      ]
     },
     "execution_count": 36,
     "metadata": {},
     "output_type": "execute_result"
    }
   ],
   "source": [
    "words_count.most_common(10)"
   ]
  },
  {
   "cell_type": "code",
   "execution_count": 37,
   "metadata": {},
   "outputs": [],
   "source": [
    "frequences=[f for w,f in words_count.most_common(100)]"
   ]
  },
  {
   "cell_type": "code",
   "execution_count": 38,
   "metadata": {},
   "outputs": [],
   "source": [
    "x=[i for i in range(1,len(frequences)+1)]"
   ]
  },
  {
   "cell_type": "code",
   "execution_count": 39,
   "metadata": {},
   "outputs": [],
   "source": [
    "import matplotlib.pyplot as plt\n"
   ]
  },
  {
   "cell_type": "code",
   "execution_count": 40,
   "metadata": {},
   "outputs": [
    {
     "data": {
      "text/plain": [
       "[<matplotlib.lines.Line2D at 0x132027198>]"
      ]
     },
     "execution_count": 40,
     "metadata": {},
     "output_type": "execute_result"
    },
    {
     "data": {
      "image/png": "[encoded data removed]",
      "text/plain": [
       "<Figure size 432x288 with 1 Axes>"
      ]
     },
     "metadata": {},
     "output_type": "display_data"
    }
   ],
   "source": [
    "plt.plot(x,frequences)"
   ]
  },
  {
   "cell_type": "code",
   "execution_count": 41,
   "metadata": {},
   "outputs": [],
   "source": [
    "import numpy as np"
   ]
  },
  {
   "cell_type": "code",
   "execution_count": 42,
   "metadata": {},
   "outputs": [
    {
     "data": {
      "text/plain": [
       "[<matplotlib.lines.Line2D at 0x132764c50>]"
      ]
     },
     "execution_count": 42,
     "metadata": {},
     "output_type": "execute_result"
    },
    {
     "data": {
      "image/png": "[encoded data removed]",
      "text/plain": [
       "<Figure size 432x288 with 1 Axes>"
      ]
     },
     "metadata": {},
     "output_type": "display_data"
    }
   ],
   "source": [
    "plt.plot(x,np.log(frequences))"
   ]
  },
  {
   "cell_type": "code",
   "execution_count": 43,
   "metadata": {},
   "outputs": [
    {
     "data": {
      "text/plain": [
       "[<matplotlib.lines.Line2D at 0x131431438>]"
      ]
     },
     "execution_count": 43,
     "metadata": {},
     "output_type": "execute_result"
    },
    {
     "data": {
      "image/png": "[encoded data removed]",
      "text/plain": [
       "<Figure size 432x288 with 1 Axes>"
      ]
     },
     "metadata": {},
     "output_type": "display_data"
    }
   ],
   "source": [
    "plt.plot(x,np.log(np.log(frequences)))"
   ]
  },
  {
   "cell_type": "code",
   "execution_count": 44,
   "metadata": {},
   "outputs": [],
   "source": [
    "frequences_all=[f for w, f in words_count.most_common()]"
   ]
  },
  {
   "cell_type": "code",
   "execution_count": 45,
   "metadata": {},
   "outputs": [],
   "source": [
    "frequences_sum=sum(frequences_all)"
   ]
  },
  {
   "cell_type": "code",
   "execution_count": 46,
   "metadata": {},
   "outputs": [
    {
     "data": {
      "text/plain": [
       "17221482"
      ]
     },
     "execution_count": 46,
     "metadata": {},
     "output_type": "execute_result"
    }
   ],
   "source": [
    "frequences_sum"
   ]
  },
  {
   "cell_type": "code",
   "execution_count": 47,
   "metadata": {},
   "outputs": [],
   "source": [
    "def get_prob(word):\n",
    "    esp=1/frequences_sum\n",
    "    if word in words_count:\n",
    "        return words_count[word]/frequences_sum\n",
    "    else:\n",
    "        return esp"
   ]
  },
  {
   "cell_type": "code",
   "execution_count": 48,
   "metadata": {},
   "outputs": [
    {
     "data": {
      "text/plain": [
       "0.0011602950315193548"
      ]
     },
     "execution_count": 48,
     "metadata": {},
     "output_type": "execute_result"
    }
   ],
   "source": [
    "#test\n",
    "get_prob('我们')"
   ]
  },
  {
   "cell_type": "code",
   "execution_count": 49,
   "metadata": {},
   "outputs": [],
   "source": [
    "def product(numbers):\n",
    "    return reduce(lambda x1, x2:x1*x2, numbers)"
   ]
  },
  {
   "cell_type": "code",
   "execution_count": 50,
   "metadata": {},
   "outputs": [],
   "source": [
    "def language_model_one_gram(string):\n",
    "    words=cut(string)\n",
    "    return product(get_prob(i) for i in words)"
   ]
  },
  {
   "cell_type": "code",
   "execution_count": 51,
   "metadata": {},
   "outputs": [
    {
     "data": {
      "text/plain": [
       "8.856224699918031e-16"
      ]
     },
     "execution_count": 51,
     "metadata": {},
     "output_type": "execute_result"
    }
   ],
   "source": [
    "language_model_one_gram('祝你生日快乐')"
   ]
  },
  {
   "cell_type": "code",
   "execution_count": 52,
   "metadata": {},
   "outputs": [
    {
     "data": {
      "text/plain": [
       "1.4512570648607275e-18"
      ]
     },
     "execution_count": 52,
     "metadata": {},
     "output_type": "execute_result"
    }
   ],
   "source": [
    "language_model_one_gram('长征火箭下周发射')"
   ]
  },
  {
   "cell_type": "code",
   "execution_count": 53,
   "metadata": {},
   "outputs": [],
   "source": [
    "sentences = \"\"\"\n",
    "这是一个比较正常的句子\n",
    "这个一个比较罕见的句子\n",
    "小明毕业于清华大学\n",
    "小明毕业于秦华大学\n",
    "\"\"\".split()"
   ]
  },
  {
   "cell_type": "code",
   "execution_count": 54,
   "metadata": {},
   "outputs": [
    {
     "data": {
      "text/plain": [
       "['这是一个比较正常的句子', '这个一个比较罕见的句子', '小明毕业于清华大学', '小明毕业于秦华大学']"
      ]
     },
     "execution_count": 54,
     "metadata": {},
     "output_type": "execute_result"
    }
   ],
   "source": [
    "sentences"
   ]
  },
  {
   "cell_type": "code",
   "execution_count": 55,
   "metadata": {},
   "outputs": [
    {
     "name": "stdout",
     "output_type": "stream",
     "text": [
      "这是一个比较正常的句子 7.430769033995075e-22\n",
      "这个一个比较罕见的句子 1.7568638050081165e-22\n",
      "小明毕业于清华大学 3.040174926158854e-18\n",
      "小明毕业于秦华大学 5.8138489030637204e-24\n"
     ]
    }
   ],
   "source": [
    "for s in sentences:\n",
    "    print(s,language_model_one_gram(s))"
   ]
  },
  {
   "cell_type": "markdown",
   "metadata": {},
   "source": [
    "2-Gram"
   ]
  },
  {
   "cell_type": "code",
   "execution_count": 56,
   "metadata": {},
   "outputs": [],
   "source": [
    "valid_tokens=[str(t) for t in valida_tokens]"
   ]
  },
  {
   "cell_type": "code",
   "execution_count": 57,
   "metadata": {},
   "outputs": [],
   "source": [
    "all_2_grams_words=[''.join(valid_tokens[i:i+2]) for i in range(len(valid_tokens[:-2]))]"
   ]
  },
  {
   "cell_type": "code",
   "execution_count": 58,
   "metadata": {},
   "outputs": [
    {
     "data": {
      "text/plain": [
       "['此外自', '自本周', '本周6', '6月', '月12', '12日', '日起', '起除', '除小米', '小米手机']"
      ]
     },
     "execution_count": 58,
     "metadata": {},
     "output_type": "execute_result"
    }
   ],
   "source": [
    "all_2_grams_words[:10]"
   ]
  },
  {
   "cell_type": "code",
   "execution_count": 59,
   "metadata": {},
   "outputs": [],
   "source": [
    "_2_gram_sum=len(all_2_grams_words)"
   ]
  },
  {
   "cell_type": "code",
   "execution_count": 60,
   "metadata": {},
   "outputs": [],
   "source": [
    "_2_gram_counter=Counter(all_2_grams_words)"
   ]
  },
  {
   "cell_type": "code",
   "execution_count": 61,
   "metadata": {},
   "outputs": [],
   "source": [
    "def get_combination_prob(w1,w2):\n",
    "    if w1+w2 in _2_gram_counter:\n",
    "        return _2_gram_counter[w1+w2]/_2_gram_sum\n",
    "    else:\n",
    "        return 1/_2_gram_sum"
   ]
  },
  {
   "cell_type": "code",
   "execution_count": 62,
   "metadata": {},
   "outputs": [
    {
     "data": {
      "text/plain": [
       "4.645361490417781e-06"
      ]
     },
     "execution_count": 62,
     "metadata": {},
     "output_type": "execute_result"
    }
   ],
   "source": [
    "get_combination_prob('我','喜欢')"
   ]
  },
  {
   "cell_type": "code",
   "execution_count": 63,
   "metadata": {},
   "outputs": [
    {
     "data": {
      "text/plain": [
       "2.6130158383600016e-06"
      ]
     },
     "execution_count": 63,
     "metadata": {},
     "output_type": "execute_result"
    }
   ],
   "source": [
    "get_combination_prob('苹果','手机')"
   ]
  },
  {
   "cell_type": "code",
   "execution_count": 64,
   "metadata": {},
   "outputs": [],
   "source": [
    "def get_prob_2_gram(w1,w2):\n",
    "    return get_combination_prob(w1,w2)/get_prob(w1)"
   ]
  },
  {
   "cell_type": "code",
   "execution_count": 65,
   "metadata": {},
   "outputs": [],
   "source": [
    "def language_model_of_2_gram(sentence):\n",
    "    sentence_probability=1\n",
    "    words=cut(sentence)\n",
    "    \n",
    "    for i, word in enumerate(words):\n",
    "        if i==0:\n",
    "            prob=get_prob(word)\n",
    "        else:\n",
    "            previous=words[i-1]\n",
    "            prob=get_prob_2_gram(previous,word)\n",
    "        sentence_probability *= prob\n",
    "    return sentence_probability"
   ]
  },
  {
   "cell_type": "code",
   "execution_count": 66,
   "metadata": {},
   "outputs": [
    {
     "data": {
      "text/plain": [
       "1.56791350625088e-13"
      ]
     },
     "execution_count": 66,
     "metadata": {},
     "output_type": "execute_result"
    }
   ],
   "source": [
    "language_model_of_2_gram('我今天好饿')"
   ]
  },
  {
   "cell_type": "code",
   "execution_count": 67,
   "metadata": {},
   "outputs": [
    {
     "data": {
      "text/plain": [
       "6.204233023712102e-10"
      ]
     },
     "execution_count": 67,
     "metadata": {},
     "output_type": "execute_result"
    }
   ],
   "source": [
    "language_model_of_2_gram('我今天好撑')"
   ]
  },
  {
   "cell_type": "code",
   "execution_count": 68,
   "metadata": {},
   "outputs": [
    {
     "name": "stdout",
     "output_type": "stream",
     "text": [
      "今天晚上请你吃大餐，我们一起吃日料 is more possible\n",
      "---- 今天晚上请你吃大餐，我们一起吃日料 with probility 6.896026969760286e-28\n",
      "---- 明天晚上请你吃大餐，我们一起吃苹果 with probility 5.516821575808229e-28\n",
      "真是一只好看的小猫 is more possible\n",
      "---- 真事一只好看的小猫 with probility 1.657129030352295e-19\n",
      "---- 真是一只好看的小猫 with probility 3.476656301920983e-16\n",
      "今晚我去吃火锅 is more possible\n",
      "---- 今晚我去吃火锅 with probility 6.822375873607522e-14\n",
      "---- 今晚火锅去吃我 with probility 9.98618046567869e-16\n",
      "养乐多绿来一杯 is more possible\n",
      "---- 洋葱奶昔来一杯 with probility 1.0579763526890343e-12\n",
      "---- 养乐多绿来一杯 with probility 5.806702537377957e-08\n"
     ]
    }
   ],
   "source": [
    "\n",
    "need_compared = [\n",
    "    \"今天晚上请你吃大餐，我们一起吃日料 明天晚上请你吃大餐，我们一起吃苹果\",\n",
    "    \"真事一只好看的小猫 真是一只好看的小猫\",\n",
    "    \"今晚我去吃火锅 今晚火锅去吃我\",\n",
    "    \"洋葱奶昔来一杯 养乐多绿来一杯\"\n",
    "]\n",
    "\n",
    "for s in need_compared:\n",
    "    s1, s2 = s.split()\n",
    "    p1, p2 = language_model_of_2_gram(s1), language_model_of_2_gram(s2)\n",
    "    \n",
    "    better = s1 if p1 > p2 else s2\n",
    "    \n",
    "    print('{} is more possible'.format(better))\n",
    "    print('-'*4 + ' {} with probility {}'.format(s1, p1))\n",
    "    print('-'*4 + ' {} with probility {}'.format(s2, p2))"
   ]
  },
  {
   "cell_type": "markdown",
   "metadata": {},
   "source": [
    "## Review the main points of this lesson."
   ]
  },
  {
   "cell_type": "markdown",
   "metadata": {},
   "source": [
    "### How to Github and Why do we use Jupyter and Pycharm;\n",
    " "
   ]
  },
  {
   "cell_type": "markdown",
   "metadata": {},
   "source": [
    "Ans:使用github创建数据存储仓库后可在command line里进行管理，可以同步操作，存储数据。\n",
    "\n",
    "使用Jupyter Notebook因为它具有展示清晰，便于笔记记录等功能，同时可以输入和展示公式。\n",
    "\n",
    "使用Pycharm的原因，Pycharm作为IDE不仅提供了很好的debug服务，同时可以测试各部分函数使用的时间，便于我们对程序的整体优化。"
   ]
  },
  {
   "cell_type": "markdown",
   "metadata": {},
   "source": [
    "### What's the Probability Model?"
   ]
  },
  {
   "cell_type": "markdown",
   "metadata": {},
   "source": [
    "Ans: 比起传统的将一个过程精确地设计，我们可以采用抽象化的模型来描述我们的问题，并且通过函数的值来近似估计事物发生的概率，选择概率最大的值作为我们选择。"
   ]
  },
  {
   "cell_type": "markdown",
   "metadata": {},
   "source": [
    "### Can you came up with some sceneraies at which we could use Probability Model?¶\n"
   ]
  },
  {
   "cell_type": "markdown",
   "metadata": {},
   "source": [
    "Ans:比如在语音识别的过程中，我们可以通过计算多句话出现的概率，来选择出可能性最高的句子作为句子识别的结果。\n",
    "\n",
    "或是在围棋游戏中可以将整个棋盘抽象成一个函数，并对每个点赋予状态值，比起做搜索问题，可以根据每个点赢的可能性来选择下哪个点。\n"
   ]
  },
  {
   "cell_type": "markdown",
   "metadata": {},
   "source": [
    "### Why do we use probability and what's the difficult points for programming based on parsing and pattern match?\n"
   ]
  },
  {
   "cell_type": "markdown",
   "metadata": {},
   "source": [
    "Ans:对于基于模式识别的编程，我们需要对pattern进行严格的定义，随着我们对结果要求的不断升高，对pattern定义的要求也更高，不仅需要更严密的逻辑，也需要更强的编程能力。而我们使用probability model则不需要进行精确地设计，只需要找出抽象化的模型，就可以让计算机代替我们进行操作和计算。"
   ]
  },
  {
   "cell_type": "markdown",
   "metadata": {},
   "source": [
    "### What's the Language Model"
   ]
  },
  {
   "cell_type": "markdown",
   "metadata": {},
   "source": [
    "Ans:在语音识别等问题中，我们通过比较相似语句出现的概率，选择概率最高的句子，作为这一模型的答案。"
   ]
  },
  {
   "cell_type": "markdown",
   "metadata": {},
   "source": [
    "### Can you came up with some sceneraies at which we could use Language Model?\n"
   ]
  },
  {
   "cell_type": "markdown",
   "metadata": {},
   "source": [
    "Ans:如siri语音识别，笔迹识别等"
   ]
  },
  {
   "cell_type": "markdown",
   "metadata": {},
   "source": [
    "###  What's the 1-gram language model"
   ]
  },
  {
   "cell_type": "markdown",
   "metadata": {},
   "source": [
    "Ans:  在language model中，用每个单词单独出现的概率的乘积作为这个句子出现的概率"
   ]
  },
  {
   "cell_type": "markdown",
   "metadata": {},
   "source": [
    "###  What's the disadvantages and advantages of 1-gram language model"
   ]
  },
  {
   "cell_type": "markdown",
   "metadata": {},
   "source": [
    "Ans:将每个单词的出现看成了独立事件，没能反应单词间的关联性。"
   ]
  },
  {
   "cell_type": "markdown",
   "metadata": {},
   "source": [
    "### What't the 2-gram models"
   ]
  },
  {
   "cell_type": "markdown",
   "metadata": {},
   "source": [
    "Ans:  在language Ans:model中，将句子出现的概率定义为第一单词出现的概率与第一个第二个单词同时出现的概率与第二个第三个单词同时出现的概率，以此类推的概率的乘积作为这一句子出现的概率。"
   ]
  },
  {
   "cell_type": "markdown",
   "metadata": {},
   "source": [
    "### what's the web crawler, and can you implement a simple crawler?"
   ]
  },
  {
   "cell_type": "markdown",
   "metadata": {},
   "source": [
    "Ans: 网页爬虫用于抓取网页数据，我们可以通过对网页中想要抓取的部分进行inspect->以html形式显示后得到想要爬去部分的网址，对这一网址使用正则表达式写出相应的pattern即可以在网页源码中抓取这类数据（网页源码使用requests.get(url).text得到）"
   ]
  },
  {
   "cell_type": "markdown",
   "metadata": {},
   "source": [
    "### There may be some issues to make our crwaler programming difficult, what are these, and how do we solve them?"
   ]
  },
  {
   "cell_type": "markdown",
   "metadata": {},
   "source": [
    "Ans:（1）我们想爬的网页格式多样，我们需要用正则表达式来更精确地确定特定的pattern；\n",
    "    \n",
    "    （2）有些网页，如新浪微博，是用javascript写的，我们需要把它放进浏览器的开发环境里让浏览器来进行解析\n",
    "    "
   ]
  },
  {
   "cell_type": "markdown",
   "metadata": {},
   "source": [
    "### What't the Regular Expression and how to use?"
   ]
  },
  {
   "cell_type": "markdown",
   "metadata": {},
   "source": [
    "Ans:\n",
    "\n",
    "正则表达式是对字符串操作的一种逻辑公式，就是用事先定义好的一些特定字符、及这些特定字符的组合，组成一个“规则字符串”，这个“规则字符串”用来表达对字符串的一种过滤逻辑（百度来的，觉得解释的太好了）\n",
    "\n",
    "\n",
    "正则表达式有很多用途，不仅可以用于检索文本中符合某一模式的所有字符串，比如在一系列电话中找出某一特定区域的所有电话号码。也可以用于网络爬虫。"
   ]
  },
  {
   "cell_type": "markdown",
   "metadata": {},
   "source": [
    "## Problem 3"
   ]
  },
  {
   "cell_type": "markdown",
   "metadata": {},
   "source": [
    "### Using the technologies and methods to finish the language model"
   ]
  },
  {
   "cell_type": "code",
   "execution_count": 1,
   "metadata": {},
   "outputs": [],
   "source": [
    "#Reading new database downloaded from wikipedia\n",
    "database2=open('wiki_00')"
   ]
  },
  {
   "cell_type": "code",
   "execution_count": 2,
   "metadata": {},
   "outputs": [],
   "source": [
    "word_list=database2.readlines()"
   ]
  },
  {
   "cell_type": "code",
   "execution_count": 3,
   "metadata": {},
   "outputs": [
    {
     "data": {
      "text/plain": [
       "['<doc id=\"30304\" url=\"https://en.wikipedia.org/wiki?curid=30304\" title=\"The X-Files\">\\n',\n",
       " 'The X-Files\\n',\n",
       " '\\n',\n",
       " 'The X-Files is an American science fiction drama television series created by Chris Carter. The original television series aired from September 10, 1993 to May 19, 2002 on Fox. The program spanned nine seasons, with 202 episodes. A short tenth season consisting of six episodes premiered on January 24, 2016, and concluded on February 22, 2016. Following the ratings success of this revival, Fox announced in April 2017 that \"The X-Files\" would be returning for an eleventh season of ten episodes. The season premiered on January 3, 2018, concluding on March 21, 2018. In addition to the television series, two feature films have been released: The 1998 film \"The X-Files\", which took place as part of the TV series continuity, and the stand-alone film \"\", released in 2008, six years after the original television run had ended.\\n',\n",
       " '\\n',\n",
       " 'The series revolves around Federal Bureau of Investigation (FBI) special agents Fox Mulder (David Duchovny), and Dana Scully (Gillian Anderson) who investigate X-Files: marginalized, unsolved cases involving paranormal phenomena. Mulder believes in the existence of aliens and the paranormal while Scully, a medical doctor and a skeptic, is assigned to make scientific analyses of Mulder\\'s discoveries to debunk his work and thus return him to mainstream cases. Early in the series, both agents become pawns in a larger conflict and come to trust only each other and a few select people. The agents also discover an agenda of the government to keep the existence of extraterrestrial life a secret. They develop a close relationship which begins as a platonic friendship, but becomes a romance by the end of the series. In addition to the series-spanning story arc, \"monster of the week\" episodes form roughly two-thirds of all episodes.\\n',\n",
       " '\\n',\n",
       " '\"The X-Files\" was inspired by earlier television series which featured elements of suspense and speculative fiction, including \"The Twilight Zone\", \"Night Gallery\", \"Tales from the Darkside\", \"Twin Peaks\", and especially \"\". When creating the main characters, Carter sought to reverse gender stereotypes by making Mulder a believer and Scully a skeptic. The first seven seasons featured Duchovny and Anderson equally. In the eighth and ninth seasons, Anderson took precedence while Duchovny appeared intermittently. New main characters were introduced: FBI agents John Doggett (Robert Patrick) and Monica Reyes (Annabeth Gish). Mulder and Scully\\'s boss, Assistant Director Walter Skinner (Mitch Pileggi), also became a main character. The first five seasons of \"The X-Files\" were filmed and produced in Vancouver, British Columbia, before eventually moving to Los Angeles to accommodate Duchovny. The series later returned to Vancouver to film \"The X-Files: I Want to Believe\" as well as the tenth and eleventh seasons of the series.\\n',\n",
       " '\\n',\n",
       " '\"The X-Files\" was a hit for the Fox network and received largely positive reviews, although its long-term story arc was criticized near the conclusion. Initially considered a cult series, it turned into a pop culture touchstone that tapped into public mistrust of governments and large institutions and embraced conspiracy theories and spirituality. Both the series itself and lead actors Duchovny and Anderson received multiple awards and nominations, and by its conclusion the show was the longest-running science fiction series in U.S. television history. The series also spawned a franchise which includes \"Millennium\" and \"The Lone Gunmen\" spin-offs, two theatrical films and accompanying merchandise.\\n']"
      ]
     },
     "execution_count": 3,
     "metadata": {},
     "output_type": "execute_result"
    }
   ],
   "source": [
    "#Checking whether there are some special characters we should deal with\n",
    "word_list[:10]"
   ]
  },
  {
   "cell_type": "code",
   "execution_count": 4,
   "metadata": {},
   "outputs": [],
   "source": [
    "import re"
   ]
  },
  {
   "cell_type": "code",
   "execution_count": 5,
   "metadata": {},
   "outputs": [],
   "source": [
    "#Dealing with '\\n' & 'The X-Files\\n'\n",
    "word_list1=[i.split() for i in word_list if i != '\\n' and i !='The X-Files\\n']"
   ]
  },
  {
   "cell_type": "code",
   "execution_count": 6,
   "metadata": {},
   "outputs": [
    {
     "data": {
      "text/plain": [
       "[['<doc',\n",
       "  'id=\"30304\"',\n",
       "  'url=\"https://en.wikipedia.org/wiki?curid=30304\"',\n",
       "  'title=\"The',\n",
       "  'X-Files\">'],\n",
       " ['The',\n",
       "  'X-Files',\n",
       "  'is',\n",
       "  'an',\n",
       "  'American',\n",
       "  'science',\n",
       "  'fiction',\n",
       "  'drama',\n",
       "  'television',\n",
       "  'series',\n",
       "  'created',\n",
       "  'by',\n",
       "  'Chris',\n",
       "  'Carter.',\n",
       "  'The',\n",
       "  'original',\n",
       "  'television',\n",
       "  'series',\n",
       "  'aired',\n",
       "  'from',\n",
       "  'September',\n",
       "  '10,',\n",
       "  '1993',\n",
       "  'to',\n",
       "  'May',\n",
       "  '19,',\n",
       "  '2002',\n",
       "  'on',\n",
       "  'Fox.',\n",
       "  'The',\n",
       "  'program',\n",
       "  'spanned',\n",
       "  'nine',\n",
       "  'seasons,',\n",
       "  'with',\n",
       "  '202',\n",
       "  'episodes.',\n",
       "  'A',\n",
       "  'short',\n",
       "  'tenth',\n",
       "  'season',\n",
       "  'consisting',\n",
       "  'of',\n",
       "  'six',\n",
       "  'episodes',\n",
       "  'premiered',\n",
       "  'on',\n",
       "  'January',\n",
       "  '24,',\n",
       "  '2016,',\n",
       "  'and',\n",
       "  'concluded',\n",
       "  'on',\n",
       "  'February',\n",
       "  '22,',\n",
       "  '2016.',\n",
       "  'Following',\n",
       "  'the',\n",
       "  'ratings',\n",
       "  'success',\n",
       "  'of',\n",
       "  'this',\n",
       "  'revival,',\n",
       "  'Fox',\n",
       "  'announced',\n",
       "  'in',\n",
       "  'April',\n",
       "  '2017',\n",
       "  'that',\n",
       "  '\"The',\n",
       "  'X-Files\"',\n",
       "  'would',\n",
       "  'be',\n",
       "  'returning',\n",
       "  'for',\n",
       "  'an',\n",
       "  'eleventh',\n",
       "  'season',\n",
       "  'of',\n",
       "  'ten',\n",
       "  'episodes.',\n",
       "  'The',\n",
       "  'season',\n",
       "  'premiered',\n",
       "  'on',\n",
       "  'January',\n",
       "  '3,',\n",
       "  '2018,',\n",
       "  'concluding',\n",
       "  'on',\n",
       "  'March',\n",
       "  '21,',\n",
       "  '2018.',\n",
       "  'In',\n",
       "  'addition',\n",
       "  'to',\n",
       "  'the',\n",
       "  'television',\n",
       "  'series,',\n",
       "  'two',\n",
       "  'feature',\n",
       "  'films',\n",
       "  'have',\n",
       "  'been',\n",
       "  'released:',\n",
       "  'The',\n",
       "  '1998',\n",
       "  'film',\n",
       "  '\"The',\n",
       "  'X-Files\",',\n",
       "  'which',\n",
       "  'took',\n",
       "  'place',\n",
       "  'as',\n",
       "  'part',\n",
       "  'of',\n",
       "  'the',\n",
       "  'TV',\n",
       "  'series',\n",
       "  'continuity,',\n",
       "  'and',\n",
       "  'the',\n",
       "  'stand-alone',\n",
       "  'film',\n",
       "  '\"\",',\n",
       "  'released',\n",
       "  'in',\n",
       "  '2008,',\n",
       "  'six',\n",
       "  'years',\n",
       "  'after',\n",
       "  'the',\n",
       "  'original',\n",
       "  'television',\n",
       "  'run',\n",
       "  'had',\n",
       "  'ended.'],\n",
       " ['The',\n",
       "  'series',\n",
       "  'revolves',\n",
       "  'around',\n",
       "  'Federal',\n",
       "  'Bureau',\n",
       "  'of',\n",
       "  'Investigation',\n",
       "  '(FBI)',\n",
       "  'special',\n",
       "  'agents',\n",
       "  'Fox',\n",
       "  'Mulder',\n",
       "  '(David',\n",
       "  'Duchovny),',\n",
       "  'and',\n",
       "  'Dana',\n",
       "  'Scully',\n",
       "  '(Gillian',\n",
       "  'Anderson)',\n",
       "  'who',\n",
       "  'investigate',\n",
       "  'X-Files:',\n",
       "  'marginalized,',\n",
       "  'unsolved',\n",
       "  'cases',\n",
       "  'involving',\n",
       "  'paranormal',\n",
       "  'phenomena.',\n",
       "  'Mulder',\n",
       "  'believes',\n",
       "  'in',\n",
       "  'the',\n",
       "  'existence',\n",
       "  'of',\n",
       "  'aliens',\n",
       "  'and',\n",
       "  'the',\n",
       "  'paranormal',\n",
       "  'while',\n",
       "  'Scully,',\n",
       "  'a',\n",
       "  'medical',\n",
       "  'doctor',\n",
       "  'and',\n",
       "  'a',\n",
       "  'skeptic,',\n",
       "  'is',\n",
       "  'assigned',\n",
       "  'to',\n",
       "  'make',\n",
       "  'scientific',\n",
       "  'analyses',\n",
       "  'of',\n",
       "  \"Mulder's\",\n",
       "  'discoveries',\n",
       "  'to',\n",
       "  'debunk',\n",
       "  'his',\n",
       "  'work',\n",
       "  'and',\n",
       "  'thus',\n",
       "  'return',\n",
       "  'him',\n",
       "  'to',\n",
       "  'mainstream',\n",
       "  'cases.',\n",
       "  'Early',\n",
       "  'in',\n",
       "  'the',\n",
       "  'series,',\n",
       "  'both',\n",
       "  'agents',\n",
       "  'become',\n",
       "  'pawns',\n",
       "  'in',\n",
       "  'a',\n",
       "  'larger',\n",
       "  'conflict',\n",
       "  'and',\n",
       "  'come',\n",
       "  'to',\n",
       "  'trust',\n",
       "  'only',\n",
       "  'each',\n",
       "  'other',\n",
       "  'and',\n",
       "  'a',\n",
       "  'few',\n",
       "  'select',\n",
       "  'people.',\n",
       "  'The',\n",
       "  'agents',\n",
       "  'also',\n",
       "  'discover',\n",
       "  'an',\n",
       "  'agenda',\n",
       "  'of',\n",
       "  'the',\n",
       "  'government',\n",
       "  'to',\n",
       "  'keep',\n",
       "  'the',\n",
       "  'existence',\n",
       "  'of',\n",
       "  'extraterrestrial',\n",
       "  'life',\n",
       "  'a',\n",
       "  'secret.',\n",
       "  'They',\n",
       "  'develop',\n",
       "  'a',\n",
       "  'close',\n",
       "  'relationship',\n",
       "  'which',\n",
       "  'begins',\n",
       "  'as',\n",
       "  'a',\n",
       "  'platonic',\n",
       "  'friendship,',\n",
       "  'but',\n",
       "  'becomes',\n",
       "  'a',\n",
       "  'romance',\n",
       "  'by',\n",
       "  'the',\n",
       "  'end',\n",
       "  'of',\n",
       "  'the',\n",
       "  'series.',\n",
       "  'In',\n",
       "  'addition',\n",
       "  'to',\n",
       "  'the',\n",
       "  'series-spanning',\n",
       "  'story',\n",
       "  'arc,',\n",
       "  '\"monster',\n",
       "  'of',\n",
       "  'the',\n",
       "  'week\"',\n",
       "  'episodes',\n",
       "  'form',\n",
       "  'roughly',\n",
       "  'two-thirds',\n",
       "  'of',\n",
       "  'all',\n",
       "  'episodes.'],\n",
       " ['\"The',\n",
       "  'X-Files\"',\n",
       "  'was',\n",
       "  'inspired',\n",
       "  'by',\n",
       "  'earlier',\n",
       "  'television',\n",
       "  'series',\n",
       "  'which',\n",
       "  'featured',\n",
       "  'elements',\n",
       "  'of',\n",
       "  'suspense',\n",
       "  'and',\n",
       "  'speculative',\n",
       "  'fiction,',\n",
       "  'including',\n",
       "  '\"The',\n",
       "  'Twilight',\n",
       "  'Zone\",',\n",
       "  '\"Night',\n",
       "  'Gallery\",',\n",
       "  '\"Tales',\n",
       "  'from',\n",
       "  'the',\n",
       "  'Darkside\",',\n",
       "  '\"Twin',\n",
       "  'Peaks\",',\n",
       "  'and',\n",
       "  'especially',\n",
       "  '\"\".',\n",
       "  'When',\n",
       "  'creating',\n",
       "  'the',\n",
       "  'main',\n",
       "  'characters,',\n",
       "  'Carter',\n",
       "  'sought',\n",
       "  'to',\n",
       "  'reverse',\n",
       "  'gender',\n",
       "  'stereotypes',\n",
       "  'by',\n",
       "  'making',\n",
       "  'Mulder',\n",
       "  'a',\n",
       "  'believer',\n",
       "  'and',\n",
       "  'Scully',\n",
       "  'a',\n",
       "  'skeptic.',\n",
       "  'The',\n",
       "  'first',\n",
       "  'seven',\n",
       "  'seasons',\n",
       "  'featured',\n",
       "  'Duchovny',\n",
       "  'and',\n",
       "  'Anderson',\n",
       "  'equally.',\n",
       "  'In',\n",
       "  'the',\n",
       "  'eighth',\n",
       "  'and',\n",
       "  'ninth',\n",
       "  'seasons,',\n",
       "  'Anderson',\n",
       "  'took',\n",
       "  'precedence',\n",
       "  'while',\n",
       "  'Duchovny',\n",
       "  'appeared',\n",
       "  'intermittently.',\n",
       "  'New',\n",
       "  'main',\n",
       "  'characters',\n",
       "  'were',\n",
       "  'introduced:',\n",
       "  'FBI',\n",
       "  'agents',\n",
       "  'John',\n",
       "  'Doggett',\n",
       "  '(Robert',\n",
       "  'Patrick)',\n",
       "  'and',\n",
       "  'Monica',\n",
       "  'Reyes',\n",
       "  '(Annabeth',\n",
       "  'Gish).',\n",
       "  'Mulder',\n",
       "  'and',\n",
       "  \"Scully's\",\n",
       "  'boss,',\n",
       "  'Assistant',\n",
       "  'Director',\n",
       "  'Walter',\n",
       "  'Skinner',\n",
       "  '(Mitch',\n",
       "  'Pileggi),',\n",
       "  'also',\n",
       "  'became',\n",
       "  'a',\n",
       "  'main',\n",
       "  'character.',\n",
       "  'The',\n",
       "  'first',\n",
       "  'five',\n",
       "  'seasons',\n",
       "  'of',\n",
       "  '\"The',\n",
       "  'X-Files\"',\n",
       "  'were',\n",
       "  'filmed',\n",
       "  'and',\n",
       "  'produced',\n",
       "  'in',\n",
       "  'Vancouver,',\n",
       "  'British',\n",
       "  'Columbia,',\n",
       "  'before',\n",
       "  'eventually',\n",
       "  'moving',\n",
       "  'to',\n",
       "  'Los',\n",
       "  'Angeles',\n",
       "  'to',\n",
       "  'accommodate',\n",
       "  'Duchovny.',\n",
       "  'The',\n",
       "  'series',\n",
       "  'later',\n",
       "  'returned',\n",
       "  'to',\n",
       "  'Vancouver',\n",
       "  'to',\n",
       "  'film',\n",
       "  '\"The',\n",
       "  'X-Files:',\n",
       "  'I',\n",
       "  'Want',\n",
       "  'to',\n",
       "  'Believe\"',\n",
       "  'as',\n",
       "  'well',\n",
       "  'as',\n",
       "  'the',\n",
       "  'tenth',\n",
       "  'and',\n",
       "  'eleventh',\n",
       "  'seasons',\n",
       "  'of',\n",
       "  'the',\n",
       "  'series.'],\n",
       " ['\"The',\n",
       "  'X-Files\"',\n",
       "  'was',\n",
       "  'a',\n",
       "  'hit',\n",
       "  'for',\n",
       "  'the',\n",
       "  'Fox',\n",
       "  'network',\n",
       "  'and',\n",
       "  'received',\n",
       "  'largely',\n",
       "  'positive',\n",
       "  'reviews,',\n",
       "  'although',\n",
       "  'its',\n",
       "  'long-term',\n",
       "  'story',\n",
       "  'arc',\n",
       "  'was',\n",
       "  'criticized',\n",
       "  'near',\n",
       "  'the',\n",
       "  'conclusion.',\n",
       "  'Initially',\n",
       "  'considered',\n",
       "  'a',\n",
       "  'cult',\n",
       "  'series,',\n",
       "  'it',\n",
       "  'turned',\n",
       "  'into',\n",
       "  'a',\n",
       "  'pop',\n",
       "  'culture',\n",
       "  'touchstone',\n",
       "  'that',\n",
       "  'tapped',\n",
       "  'into',\n",
       "  'public',\n",
       "  'mistrust',\n",
       "  'of',\n",
       "  'governments',\n",
       "  'and',\n",
       "  'large',\n",
       "  'institutions',\n",
       "  'and',\n",
       "  'embraced',\n",
       "  'conspiracy',\n",
       "  'theories',\n",
       "  'and',\n",
       "  'spirituality.',\n",
       "  'Both',\n",
       "  'the',\n",
       "  'series',\n",
       "  'itself',\n",
       "  'and',\n",
       "  'lead',\n",
       "  'actors',\n",
       "  'Duchovny',\n",
       "  'and',\n",
       "  'Anderson',\n",
       "  'received',\n",
       "  'multiple',\n",
       "  'awards',\n",
       "  'and',\n",
       "  'nominations,',\n",
       "  'and',\n",
       "  'by',\n",
       "  'its',\n",
       "  'conclusion',\n",
       "  'the',\n",
       "  'show',\n",
       "  'was',\n",
       "  'the',\n",
       "  'longest-running',\n",
       "  'science',\n",
       "  'fiction',\n",
       "  'series',\n",
       "  'in',\n",
       "  'U.S.',\n",
       "  'television',\n",
       "  'history.',\n",
       "  'The',\n",
       "  'series',\n",
       "  'also',\n",
       "  'spawned',\n",
       "  'a',\n",
       "  'franchise',\n",
       "  'which',\n",
       "  'includes',\n",
       "  '\"Millennium\"',\n",
       "  'and',\n",
       "  '\"The',\n",
       "  'Lone',\n",
       "  'Gunmen\"',\n",
       "  'spin-offs,',\n",
       "  'two',\n",
       "  'theatrical',\n",
       "  'films',\n",
       "  'and',\n",
       "  'accompanying',\n",
       "  'merchandise.'],\n",
       " ['\"The',\n",
       "  'X-Files\"',\n",
       "  'follows',\n",
       "  'the',\n",
       "  'careers',\n",
       "  'and',\n",
       "  'personal',\n",
       "  'lives',\n",
       "  'of',\n",
       "  'FBI',\n",
       "  'Special',\n",
       "  'Agents',\n",
       "  'Fox',\n",
       "  'Mulder',\n",
       "  '(David',\n",
       "  'Duchovny)',\n",
       "  'and',\n",
       "  'Dana',\n",
       "  'Scully',\n",
       "  '(Gillian',\n",
       "  'Anderson).',\n",
       "  'Mulder',\n",
       "  'is',\n",
       "  'a',\n",
       "  'talented',\n",
       "  'profiler',\n",
       "  'and',\n",
       "  'strong',\n",
       "  'believer',\n",
       "  'in',\n",
       "  'the',\n",
       "  'supernatural.',\n",
       "  'He',\n",
       "  'is',\n",
       "  'also',\n",
       "  'adamant',\n",
       "  'about',\n",
       "  'the',\n",
       "  'existence',\n",
       "  'of',\n",
       "  'intelligent',\n",
       "  'extraterrestrial',\n",
       "  'life',\n",
       "  'and',\n",
       "  'its',\n",
       "  'presence',\n",
       "  'on',\n",
       "  'Earth.',\n",
       "  'This',\n",
       "  'set',\n",
       "  'of',\n",
       "  'beliefs',\n",
       "  'earns',\n",
       "  'him',\n",
       "  'the',\n",
       "  'nickname',\n",
       "  '\"Spooky',\n",
       "  'Mulder\"',\n",
       "  'and',\n",
       "  'an',\n",
       "  'assignment',\n",
       "  'to',\n",
       "  'a',\n",
       "  'little-known',\n",
       "  'department',\n",
       "  'that',\n",
       "  'deals',\n",
       "  'with',\n",
       "  'unsolved',\n",
       "  'cases,',\n",
       "  'known',\n",
       "  'as',\n",
       "  'the',\n",
       "  'X-Files.',\n",
       "  'His',\n",
       "  'belief',\n",
       "  'in',\n",
       "  'the',\n",
       "  'paranormal',\n",
       "  'springs',\n",
       "  'from',\n",
       "  'the',\n",
       "  'claimed',\n",
       "  'abduction',\n",
       "  'of',\n",
       "  'his',\n",
       "  'sister',\n",
       "  'Samantha',\n",
       "  'Mulder',\n",
       "  'by',\n",
       "  'extraterrestrials',\n",
       "  'when',\n",
       "  'Mulder',\n",
       "  'was',\n",
       "  '12.',\n",
       "  'Her',\n",
       "  'abduction',\n",
       "  'drives',\n",
       "  'Mulder',\n",
       "  'throughout',\n",
       "  'most',\n",
       "  'of',\n",
       "  'the',\n",
       "  'series.',\n",
       "  'Because',\n",
       "  'of',\n",
       "  'this,',\n",
       "  'as',\n",
       "  'well',\n",
       "  'as',\n",
       "  'more',\n",
       "  'nebulous',\n",
       "  'desires',\n",
       "  'for',\n",
       "  'vindication',\n",
       "  'and',\n",
       "  'the',\n",
       "  'revelation',\n",
       "  'of',\n",
       "  'truths',\n",
       "  'kept',\n",
       "  'hidden',\n",
       "  'by',\n",
       "  'human',\n",
       "  'authorities,',\n",
       "  'Mulder',\n",
       "  'struggles',\n",
       "  'to',\n",
       "  'maintain',\n",
       "  'objectivity',\n",
       "  'in',\n",
       "  'his',\n",
       "  'investigations.'],\n",
       " ['Agent',\n",
       "  'Scully',\n",
       "  'is',\n",
       "  'a',\n",
       "  'foil',\n",
       "  'for',\n",
       "  'Mulder',\n",
       "  'in',\n",
       "  'this',\n",
       "  'regard.',\n",
       "  'As',\n",
       "  'a',\n",
       "  'medical',\n",
       "  'doctor',\n",
       "  'and',\n",
       "  'natural',\n",
       "  'skeptic,',\n",
       "  'Scully',\n",
       "  'approaches',\n",
       "  'cases',\n",
       "  'with',\n",
       "  'complete',\n",
       "  'detachment',\n",
       "  'even',\n",
       "  'when',\n",
       "  'Mulder,',\n",
       "  'despite',\n",
       "  'his',\n",
       "  'considerable',\n",
       "  'training,',\n",
       "  'loses',\n",
       "  'his',\n",
       "  'objectivity.',\n",
       "  'She',\n",
       "  'is',\n",
       "  'partnered',\n",
       "  'with',\n",
       "  'Mulder',\n",
       "  'initially',\n",
       "  'so',\n",
       "  'that',\n",
       "  'she',\n",
       "  'can',\n",
       "  'debunk',\n",
       "  \"Mulder's\",\n",
       "  'nonconforming',\n",
       "  'theories,',\n",
       "  'often',\n",
       "  'supplying',\n",
       "  'logical,',\n",
       "  'scientific',\n",
       "  'explanations',\n",
       "  'for',\n",
       "  'the',\n",
       "  \"cases'\",\n",
       "  'apparently',\n",
       "  'unexplainable',\n",
       "  'phenomena.',\n",
       "  'Although',\n",
       "  'she',\n",
       "  'is',\n",
       "  'frequently',\n",
       "  'able',\n",
       "  'to',\n",
       "  'offer',\n",
       "  'scientific',\n",
       "  'alternatives',\n",
       "  'to',\n",
       "  \"Mulder's\",\n",
       "  'deductions,',\n",
       "  'she',\n",
       "  'is',\n",
       "  'rarely',\n",
       "  'able',\n",
       "  'to',\n",
       "  'refute',\n",
       "  'them',\n",
       "  'completely.',\n",
       "  'Over',\n",
       "  'the',\n",
       "  'course',\n",
       "  'of',\n",
       "  'the',\n",
       "  'series,',\n",
       "  'she',\n",
       "  'becomes',\n",
       "  'increasingly',\n",
       "  'dissatisfied',\n",
       "  'with',\n",
       "  'her',\n",
       "  'own',\n",
       "  'ability',\n",
       "  'to',\n",
       "  'approach',\n",
       "  'the',\n",
       "  'cases',\n",
       "  'scientifically.',\n",
       "  'After',\n",
       "  \"Mulder's\",\n",
       "  'abduction',\n",
       "  'at',\n",
       "  'the',\n",
       "  'hands',\n",
       "  'of',\n",
       "  'aliens',\n",
       "  'in',\n",
       "  'the',\n",
       "  'seventh',\n",
       "  'season',\n",
       "  'finale',\n",
       "  '\"Requiem\",',\n",
       "  'Scully',\n",
       "  'becomes',\n",
       "  'a',\n",
       "  '\"reluctant',\n",
       "  'believer\"',\n",
       "  'who',\n",
       "  'manages',\n",
       "  'to',\n",
       "  'explain',\n",
       "  'the',\n",
       "  'paranormal',\n",
       "  'with',\n",
       "  'science.'],\n",
       " ['Various',\n",
       "  'episodes',\n",
       "  'also',\n",
       "  'deal',\n",
       "  'with',\n",
       "  'the',\n",
       "  'relationship',\n",
       "  'between',\n",
       "  'Mulder',\n",
       "  'and',\n",
       "  'Scully,',\n",
       "  'originally',\n",
       "  'platonic,',\n",
       "  'but',\n",
       "  'that',\n",
       "  'later',\n",
       "  'develops',\n",
       "  'romantically.',\n",
       "  'Mulder',\n",
       "  'and',\n",
       "  'Scully',\n",
       "  'are',\n",
       "  'joined',\n",
       "  'by',\n",
       "  'John',\n",
       "  'Doggett',\n",
       "  '(Robert',\n",
       "  'Patrick)',\n",
       "  'and',\n",
       "  'Monica',\n",
       "  'Reyes',\n",
       "  '(Annabeth',\n",
       "  'Gish)',\n",
       "  'late',\n",
       "  'in',\n",
       "  'the',\n",
       "  'series,',\n",
       "  'after',\n",
       "  'Mulder',\n",
       "  'is',\n",
       "  'abducted.',\n",
       "  'Doggett',\n",
       "  'replaces',\n",
       "  'him',\n",
       "  'as',\n",
       "  \"Scully's\",\n",
       "  'partner',\n",
       "  'and',\n",
       "  'helps',\n",
       "  'her',\n",
       "  'search',\n",
       "  'for',\n",
       "  'him,',\n",
       "  'later',\n",
       "  'involving',\n",
       "  'Reyes,',\n",
       "  'of',\n",
       "  'whom',\n",
       "  'Doggett',\n",
       "  'had',\n",
       "  'professional',\n",
       "  'knowledge.',\n",
       "  'The',\n",
       "  'initial',\n",
       "  'run',\n",
       "  'of',\n",
       "  '\"The',\n",
       "  'X-Files\"',\n",
       "  'ends',\n",
       "  'when',\n",
       "  'Mulder',\n",
       "  'is',\n",
       "  'secretly',\n",
       "  'subjected',\n",
       "  'to',\n",
       "  'a',\n",
       "  'military',\n",
       "  'tribunal',\n",
       "  'for',\n",
       "  'breaking',\n",
       "  'into',\n",
       "  'a',\n",
       "  'top',\n",
       "  'secret',\n",
       "  'military',\n",
       "  'facility',\n",
       "  'and',\n",
       "  'viewing',\n",
       "  'plans',\n",
       "  'for',\n",
       "  'alien',\n",
       "  'invasion',\n",
       "  'and',\n",
       "  'colonization',\n",
       "  'of',\n",
       "  'Earth.',\n",
       "  'He',\n",
       "  'is',\n",
       "  'found',\n",
       "  'guilty,',\n",
       "  'but',\n",
       "  'he',\n",
       "  'escapes',\n",
       "  'punishment',\n",
       "  'with',\n",
       "  'the',\n",
       "  'help',\n",
       "  'of',\n",
       "  'the',\n",
       "  'other',\n",
       "  'agents',\n",
       "  'and',\n",
       "  'he',\n",
       "  'and',\n",
       "  'Scully',\n",
       "  'become',\n",
       "  'fugitives.'],\n",
       " ['As',\n",
       "  'the',\n",
       "  'show',\n",
       "  'progressed,',\n",
       "  'key',\n",
       "  'episodes,',\n",
       "  'called',\n",
       "  'parts',\n",
       "  'of',\n",
       "  'the',\n",
       "  '\"Mytharc\",',\n",
       "  'were',\n",
       "  'recognized',\n",
       "  'as',\n",
       "  'the',\n",
       "  '\"mythology\"',\n",
       "  'of',\n",
       "  'the',\n",
       "  'series',\n",
       "  'canon;',\n",
       "  'these',\n",
       "  'episodes',\n",
       "  'carried',\n",
       "  'the',\n",
       "  'extraterrestrial/conspiracy',\n",
       "  'storyline',\n",
       "  'that',\n",
       "  'evolved',\n",
       "  'throughout',\n",
       "  'the',\n",
       "  'series.',\n",
       "  '\"Monster',\n",
       "  'of',\n",
       "  'the',\n",
       "  'week\"—often',\n",
       "  'abbreviated',\n",
       "  'as',\n",
       "  '\"MOTW\"',\n",
       "  'or',\n",
       "  '\"MoW\"—came',\n",
       "  'to',\n",
       "  'denote',\n",
       "  'the',\n",
       "  'remainder',\n",
       "  'of',\n",
       "  '\"The',\n",
       "  'X-Files\"',\n",
       "  'episodes.',\n",
       "  'These',\n",
       "  'episodes,',\n",
       "  'comprising',\n",
       "  'the',\n",
       "  'majority',\n",
       "  'of',\n",
       "  'the',\n",
       "  'series,',\n",
       "  'dealt',\n",
       "  'with',\n",
       "  'paranormal',\n",
       "  'phenomena,',\n",
       "  'including:',\n",
       "  'cryptids,',\n",
       "  'mutants,',\n",
       "  'science',\n",
       "  'fiction',\n",
       "  'technology,',\n",
       "  'horror',\n",
       "  'monsters,',\n",
       "  'and',\n",
       "  'religious',\n",
       "  'phenomena.',\n",
       "  'Some',\n",
       "  'of',\n",
       "  'the',\n",
       "  'Monster-of-the-Week',\n",
       "  'episodes',\n",
       "  'even',\n",
       "  'featured',\n",
       "  'satiric',\n",
       "  'elements',\n",
       "  'and',\n",
       "  'comedic',\n",
       "  'story',\n",
       "  'lines.',\n",
       "  'The',\n",
       "  'main',\n",
       "  'story',\n",
       "  'arc',\n",
       "  'involves',\n",
       "  'the',\n",
       "  \"agents'\",\n",
       "  'efforts',\n",
       "  'to',\n",
       "  'uncover',\n",
       "  'a',\n",
       "  'government',\n",
       "  'conspiracy',\n",
       "  'that',\n",
       "  'covers',\n",
       "  'up',\n",
       "  'the',\n",
       "  'existence',\n",
       "  'of',\n",
       "  'extraterrestrials',\n",
       "  'and',\n",
       "  'their',\n",
       "  'sinister',\n",
       "  'collaboration',\n",
       "  'with',\n",
       "  'said',\n",
       "  'government.',\n",
       "  'Mysterious',\n",
       "  'men',\n",
       "  'comprising',\n",
       "  'a',\n",
       "  'shadow',\n",
       "  'element',\n",
       "  'within',\n",
       "  'the',\n",
       "  'U.S.',\n",
       "  'government,',\n",
       "  'known',\n",
       "  'as',\n",
       "  '\"The',\n",
       "  'Syndicate\",',\n",
       "  'are',\n",
       "  'the',\n",
       "  'major',\n",
       "  'villains',\n",
       "  'in',\n",
       "  'the',\n",
       "  'series;',\n",
       "  'late',\n",
       "  'in',\n",
       "  'the',\n",
       "  'series',\n",
       "  'it',\n",
       "  'is',\n",
       "  'revealed',\n",
       "  'that',\n",
       "  'The',\n",
       "  'Syndicate',\n",
       "  'acts',\n",
       "  'as',\n",
       "  'the',\n",
       "  'only',\n",
       "  'liaison',\n",
       "  'between',\n",
       "  'mankind',\n",
       "  'and',\n",
       "  'a',\n",
       "  'group',\n",
       "  'of',\n",
       "  'extraterrestrials',\n",
       "  'that',\n",
       "  'intends',\n",
       "  'to',\n",
       "  'destroy',\n",
       "  'the',\n",
       "  'human',\n",
       "  'species.',\n",
       "  'They',\n",
       "  'are',\n",
       "  'usually',\n",
       "  'represented',\n",
       "  'by',\n",
       "  'Cigarette',\n",
       "  'Smoking',\n",
       "  'Man',\n",
       "  '(William',\n",
       "  'B.',\n",
       "  'Davis),',\n",
       "  'a',\n",
       "  'ruthless',\n",
       "  'killer,',\n",
       "  'masterful',\n",
       "  'politician,',\n",
       "  'negotiator,',\n",
       "  'failed',\n",
       "  'novelist,',\n",
       "  'and',\n",
       "  'the',\n",
       "  \"series'\",\n",
       "  'principal',\n",
       "  'antagonist.'],\n",
       " ['As',\n",
       "  'the',\n",
       "  'series',\n",
       "  'goes',\n",
       "  'along,',\n",
       "  'Mulder',\n",
       "  'and',\n",
       "  'Scully',\n",
       "  'learn',\n",
       "  'about',\n",
       "  'evidence',\n",
       "  'of',\n",
       "  'the',\n",
       "  'alien',\n",
       "  'invasion',\n",
       "  'piece',\n",
       "  'by',\n",
       "  'piece.',\n",
       "  'It',\n",
       "  'is',\n",
       "  'revealed',\n",
       "  'that',\n",
       "  'the',\n",
       "  'extraterrestrials',\n",
       "  'plan',\n",
       "  'on',\n",
       "  'using',\n",
       "  'a',\n",
       "  'sentient',\n",
       "  'virus,',\n",
       "  'known',\n",
       "  'as',\n",
       "  'the',\n",
       "  'black',\n",
       "  'oil',\n",
       "  '(also',\n",
       "  'known',\n",
       "  'as',\n",
       "  '\"Purity\"),',\n",
       "  'to',\n",
       "  'infect',\n",
       "  'mankind',\n",
       "  'and',\n",
       "  'turn',\n",
       "  'the',\n",
       "  'population',\n",
       "  'of',\n",
       "  'the',\n",
       "  'world',\n",
       "  'into',\n",
       "  'a',\n",
       "  'slave',\n",
       "  'race.',\n",
       "  'The',\n",
       "  'Syndicate—having',\n",
       "  'made',\n",
       "  'a',\n",
       "  'deal',\n",
       "  'to',\n",
       "  'be',\n",
       "  'spared',\n",
       "  'by',\n",
       "  'the',\n",
       "  'aliens—have',\n",
       "  'been',\n",
       "  'working',\n",
       "  'to',\n",
       "  'develop',\n",
       "  'an',\n",
       "  'alien-human',\n",
       "  'hybrid',\n",
       "  'that',\n",
       "  'will',\n",
       "  'be',\n",
       "  'able',\n",
       "  'to',\n",
       "  'withstand',\n",
       "  'the',\n",
       "  'effects',\n",
       "  'of',\n",
       "  'the',\n",
       "  'black',\n",
       "  'oil.',\n",
       "  'The',\n",
       "  'group',\n",
       "  'has',\n",
       "  'also',\n",
       "  'been',\n",
       "  'secretly',\n",
       "  'working',\n",
       "  'on',\n",
       "  'a',\n",
       "  'vaccine',\n",
       "  'to',\n",
       "  'overcome',\n",
       "  'the',\n",
       "  'black',\n",
       "  'oil;',\n",
       "  'this',\n",
       "  'vaccine',\n",
       "  'is',\n",
       "  'revealed',\n",
       "  'in',\n",
       "  'the',\n",
       "  'latter',\n",
       "  'parts',\n",
       "  'of',\n",
       "  'season',\n",
       "  'five,',\n",
       "  'as',\n",
       "  'well',\n",
       "  'as',\n",
       "  'the',\n",
       "  '1998',\n",
       "  'film.',\n",
       "  'Counter',\n",
       "  'to',\n",
       "  'the',\n",
       "  'alien',\n",
       "  'colonization',\n",
       "  'effort,',\n",
       "  'another',\n",
       "  'faction',\n",
       "  'of',\n",
       "  'aliens,',\n",
       "  'the',\n",
       "  'faceless',\n",
       "  'rebels,',\n",
       "  'are',\n",
       "  'working',\n",
       "  'to',\n",
       "  'stop',\n",
       "  'alien',\n",
       "  'colonization.',\n",
       "  'Eventually,',\n",
       "  'in',\n",
       "  'the',\n",
       "  'season',\n",
       "  'six',\n",
       "  'episodes',\n",
       "  '\"Two',\n",
       "  'Fathers\"/\"One',\n",
       "  'Son\",',\n",
       "  'the',\n",
       "  'rebels',\n",
       "  'manage',\n",
       "  'to',\n",
       "  'destroy',\n",
       "  'the',\n",
       "  'Syndicate.',\n",
       "  'The',\n",
       "  'colonists,',\n",
       "  'now',\n",
       "  'without',\n",
       "  'human',\n",
       "  'liaisons,',\n",
       "  'dispatch',\n",
       "  'the',\n",
       "  '\"Super',\n",
       "  'Soldiers\":',\n",
       "  'beings',\n",
       "  'that',\n",
       "  'resemble',\n",
       "  'humans,',\n",
       "  'but',\n",
       "  'are',\n",
       "  'biologically',\n",
       "  'alien.',\n",
       "  'In',\n",
       "  'the',\n",
       "  'latter',\n",
       "  'parts',\n",
       "  'of',\n",
       "  'season',\n",
       "  'eight,',\n",
       "  'and',\n",
       "  'the',\n",
       "  'whole',\n",
       "  'of',\n",
       "  'season',\n",
       "  'nine,',\n",
       "  'the',\n",
       "  'Super',\n",
       "  'Soldiers',\n",
       "  'manage',\n",
       "  'to',\n",
       "  'replace',\n",
       "  'key',\n",
       "  'individuals',\n",
       "  'in',\n",
       "  'the',\n",
       "  'government,',\n",
       "  'forcing',\n",
       "  'Mulder',\n",
       "  'and',\n",
       "  'Scully',\n",
       "  'to',\n",
       "  'go',\n",
       "  'into',\n",
       "  'hiding.']]"
      ]
     },
     "execution_count": 6,
     "metadata": {},
     "output_type": "execute_result"
    }
   ],
   "source": [
    "word_list1[:10]"
   ]
  },
  {
   "cell_type": "code",
   "execution_count": 7,
   "metadata": {},
   "outputs": [
    {
     "data": {
      "text/plain": [
       "446873"
      ]
     },
     "execution_count": 7,
     "metadata": {},
     "output_type": "execute_result"
    }
   ],
   "source": [
    "len(word_list1)"
   ]
  },
  {
   "cell_type": "code",
   "execution_count": 22,
   "metadata": {},
   "outputs": [],
   "source": [
    "#Getting the word list we want\n",
    "word_list_total=[]\n",
    "for i in range(len(word_list1)):\n",
    "    for j in range(len(word_list1[i])):\n",
    "        if not (word_list1[i][j].startswith('<')) and not (word_list1[i][j].startswith('id=')) and not (word_list1[i][j].startswith('url=')) and not (word_list1[i][j].startswith('X-Files')) and not (word_list1[i][j].startswith('title=')):\n",
    "            word_list_total.append(word_list1[i][j].lower())"
   ]
  },
  {
   "cell_type": "code",
   "execution_count": 23,
   "metadata": {},
   "outputs": [
    {
     "data": {
      "text/plain": [
       "29447662"
      ]
     },
     "execution_count": 23,
     "metadata": {},
     "output_type": "execute_result"
    }
   ],
   "source": [
    "len(word_list_total)"
   ]
  },
  {
   "cell_type": "code",
   "execution_count": 24,
   "metadata": {},
   "outputs": [
    {
     "data": {
      "text/plain": [
       "['the',\n",
       " 'is',\n",
       " 'an',\n",
       " 'american',\n",
       " 'science',\n",
       " 'fiction',\n",
       " 'drama',\n",
       " 'television',\n",
       " 'series',\n",
       " 'created']"
      ]
     },
     "execution_count": 24,
     "metadata": {},
     "output_type": "execute_result"
    }
   ],
   "source": [
    "word_list_total[:10]"
   ]
  },
  {
   "cell_type": "markdown",
   "metadata": {},
   "source": [
    "Making a 2-gram model"
   ]
  },
  {
   "cell_type": "code",
   "execution_count": 25,
   "metadata": {},
   "outputs": [],
   "source": [
    "WORD_LIST=word_list_total"
   ]
  },
  {
   "cell_type": "code",
   "execution_count": 26,
   "metadata": {},
   "outputs": [],
   "source": [
    "# Get the frequences of words\n",
    "from collections import Counter"
   ]
  },
  {
   "cell_type": "code",
   "execution_count": 27,
   "metadata": {},
   "outputs": [],
   "source": [
    "word_count=Counter(WORD_LIST)"
   ]
  },
  {
   "cell_type": "code",
   "execution_count": 28,
   "metadata": {},
   "outputs": [
    {
     "data": {
      "text/plain": [
       "[('the', 2199920),\n",
       " ('of', 1103181),\n",
       " ('and', 866393),\n",
       " ('in', 803075),\n",
       " ('to', 663566),\n",
       " ('a', 607051),\n",
       " ('is', 291586),\n",
       " ('was', 290349),\n",
       " ('as', 274899),\n",
       " ('for', 241250)]"
      ]
     },
     "execution_count": 28,
     "metadata": {},
     "output_type": "execute_result"
    }
   ],
   "source": [
    "word_count.most_common(10)"
   ]
  },
  {
   "cell_type": "code",
   "execution_count": 29,
   "metadata": {},
   "outputs": [],
   "source": [
    "frequences_all=[f for w,f in word_count.most_common()]"
   ]
  },
  {
   "cell_type": "code",
   "execution_count": 30,
   "metadata": {},
   "outputs": [
    {
     "data": {
      "text/plain": [
       "29447662"
      ]
     },
     "execution_count": 30,
     "metadata": {},
     "output_type": "execute_result"
    }
   ],
   "source": [
    "frequences_sum=sum(frequences_all)\n",
    "frequences_sum"
   ]
  },
  {
   "cell_type": "code",
   "execution_count": 31,
   "metadata": {},
   "outputs": [
    {
     "data": {
      "text/plain": [
       "3.395855331401182e-08"
      ]
     },
     "execution_count": 31,
     "metadata": {},
     "output_type": "execute_result"
    }
   ],
   "source": [
    "cons=1/frequences_sum\n",
    "cons"
   ]
  },
  {
   "cell_type": "code",
   "execution_count": 32,
   "metadata": {},
   "outputs": [],
   "source": [
    "def get_prob(word):\n",
    "    if word in word_count:\n",
    "        return word_count[word]/frequences_sum\n",
    "    else:\n",
    "        return cons"
   ]
  },
  {
   "cell_type": "code",
   "execution_count": 33,
   "metadata": {},
   "outputs": [
    {
     "data": {
      "text/plain": [
       "0.07470610060656088"
      ]
     },
     "execution_count": 33,
     "metadata": {},
     "output_type": "execute_result"
    }
   ],
   "source": [
    "get_prob('the')"
   ]
  },
  {
   "cell_type": "code",
   "execution_count": 34,
   "metadata": {},
   "outputs": [],
   "source": [
    "all_2_gram_words=[' '.join(WORD_LIST[i:i+2]) for i in range(len(WORD_LIST[:-2]))]"
   ]
  },
  {
   "cell_type": "code",
   "execution_count": 35,
   "metadata": {},
   "outputs": [
    {
     "data": {
      "text/plain": [
       "['the is',\n",
       " 'is an',\n",
       " 'an american',\n",
       " 'american science',\n",
       " 'science fiction',\n",
       " 'fiction drama',\n",
       " 'drama television',\n",
       " 'television series',\n",
       " 'series created',\n",
       " 'created by',\n",
       " 'by chris',\n",
       " 'chris carter.',\n",
       " 'carter. the',\n",
       " 'the original',\n",
       " 'original television',\n",
       " 'television series',\n",
       " 'series aired',\n",
       " 'aired from',\n",
       " 'from september',\n",
       " 'september 10,']"
      ]
     },
     "execution_count": 35,
     "metadata": {},
     "output_type": "execute_result"
    }
   ],
   "source": [
    "all_2_gram_words[:20]"
   ]
  },
  {
   "cell_type": "code",
   "execution_count": 36,
   "metadata": {},
   "outputs": [],
   "source": [
    "_2_gram_sum=len(all_2_gram_words)\n",
    "_2_gram_counter=Counter(all_2_gram_words)"
   ]
  },
  {
   "cell_type": "code",
   "execution_count": 39,
   "metadata": {},
   "outputs": [],
   "source": [
    "def get_combination_prob(w1,w2):\n",
    "    if (w1+w2).lower() in _2_gram_counter:\n",
    "        return _2_gram_counter[w1+w2]/_2_gram_sum\n",
    "    else:\n",
    "        return 1/_2_gram_sum"
   ]
  },
  {
   "cell_type": "code",
   "execution_count": 40,
   "metadata": {},
   "outputs": [
    {
     "data": {
      "text/plain": [
       "3.3958555620378664e-08"
      ]
     },
     "execution_count": 40,
     "metadata": {},
     "output_type": "execute_result"
    }
   ],
   "source": [
    "get_combination_prob('on','Monday')"
   ]
  },
  {
   "cell_type": "code",
   "execution_count": 41,
   "metadata": {},
   "outputs": [
    {
     "data": {
      "text/plain": [
       "3.3958555620378664e-08"
      ]
     },
     "execution_count": 41,
     "metadata": {},
     "output_type": "execute_result"
    }
   ],
   "source": [
    "get_combination_prob('on','monday')"
   ]
  },
  {
   "cell_type": "code",
   "execution_count": 45,
   "metadata": {},
   "outputs": [],
   "source": [
    "def language_model_of_2_gram(sentence):\n",
    "    sentence_probability=1\n",
    "    \n",
    "    words=sentence.split()\n",
    "    for i, word in enumerate(words):\n",
    "        if i == 0:\n",
    "            prob = get_prob(word)\n",
    "        else:\n",
    "            previous = words[i-1]\n",
    "            prob = get_combination_prob(previous,word)\n",
    "        sentence_probability *= prob\n",
    "    return sentence_probability"
   ]
  },
  {
   "cell_type": "markdown",
   "metadata": {},
   "source": [
    "### Try some interested sentence pairs, and check if your model could fit them"
   ]
  },
  {
   "cell_type": "code",
   "execution_count": 46,
   "metadata": {},
   "outputs": [
    {
     "data": {
      "text/plain": [
       "4.515917712796782e-38"
      ]
     },
     "execution_count": 46,
     "metadata": {},
     "output_type": "execute_result"
    }
   ],
   "source": [
    "language_model_of_2_gram('Today is a nice day')"
   ]
  },
  {
   "cell_type": "code",
   "execution_count": 47,
   "metadata": {},
   "outputs": [
    {
     "data": {
      "text/plain": [
       "1.3298320939441729e-30"
      ]
     },
     "execution_count": 47,
     "metadata": {},
     "output_type": "execute_result"
    }
   ],
   "source": [
    "language_model_of_2_gram('Do you like swimming')"
   ]
  },
  {
   "cell_type": "code",
   "execution_count": 48,
   "metadata": {},
   "outputs": [
    {
     "data": {
      "text/plain": [
       "3.916044335955606e-23"
      ]
     },
     "execution_count": 48,
     "metadata": {},
     "output_type": "execute_result"
    }
   ],
   "source": [
    "language_model_of_2_gram('Where is Trump')"
   ]
  },
  {
   "cell_type": "code",
   "execution_count": 49,
   "metadata": {},
   "outputs": [
    {
     "data": {
      "text/plain": [
       "1.3298320939441729e-30"
      ]
     },
     "execution_count": 49,
     "metadata": {},
     "output_type": "execute_result"
    }
   ],
   "source": [
    "language_model_of_2_gram('I live in Suzhou')"
   ]
  },
  {
   "cell_type": "code",
   "execution_count": 51,
   "metadata": {},
   "outputs": [
    {
     "data": {
      "text/plain": [
       "4.515917712796782e-38"
      ]
     },
     "execution_count": 51,
     "metadata": {},
     "output_type": "execute_result"
    }
   ],
   "source": [
    "language_model_of_2_gram('I live in white house')"
   ]
  },
  {
   "cell_type": "markdown",
   "metadata": {},
   "source": [
    "### If we need to solve following problems, how can language model help us?\n",
    "\n",
    "Voice Recognization.\n",
    "\n",
    "Sogou pinyin input.\n",
    "\n",
    "Auto correction in search engine.\n",
    "\n",
    "Abnormal Detection."
   ]
  },
  {
   "cell_type": "markdown",
   "metadata": {},
   "source": [
    "Ans:对以上这些情况，都是在无法精确的情况下，可以通过language model，将可能的单词放入模型，将概率最高的单词作为我们的选项。"
   ]
  },
  {
   "cell_type": "markdown",
   "metadata": {},
   "source": [
    "### Compared to the previous learned parsing and pattern match problems. What's the advantage and disavantage of Probability Based Methods？\n"
   ]
  },
  {
   "cell_type": "markdown",
   "metadata": {},
   "source": [
    "Ans: Probability Based Methods不同于先前学到的parsing and pattern match problems，因为它不要求我们事先设置好pattern，并且严格按照pattern才能得到输出的结果。这就使我们的结果更具有灵活性，也降低了创建函数时的难度。同时我们通过基于概率的模型得到的结果更具有普适性和统计意义。"
   ]
  },
  {
   "cell_type": "markdown",
   "metadata": {},
   "source": [
    "## (Optional) How to solve OOV problem?\n"
   ]
  },
  {
   "cell_type": "markdown",
   "metadata": {},
   "source": [
    "If some words are not in our dictionary or corpus. When we using language model, we need to overcome this out-of-vocabulary(OOV) problems. There are so many intelligent man to solve this probelm.\n",
    "\n"
   ]
  },
  {
   "cell_type": "markdown",
   "metadata": {},
   "source": [
    "### Q1:How did you solve this problem in your programming task?"
   ]
  },
  {
   "cell_type": "markdown",
   "metadata": {},
   "source": [
    "Ans:先前我们处理的方法是用1/整个单词表的长度来代替这一单词出现的概率"
   ]
  },
  {
   "cell_type": "markdown",
   "metadata": {},
   "source": [
    "### Q2: Read about the 'Turing-Good Estimator', can explain the main points about this method, and may implement this method in your programming task"
   ]
  },
  {
   "cell_type": "markdown",
   "metadata": {},
   "source": [
    "pass  没有看懂"
   ]
  },
  {
   "cell_type": "code",
   "execution_count": null,
   "metadata": {},
   "outputs": [],
   "source": []
  }
 ],
 "metadata": {
  "kernelspec": {
   "display_name": "Python 3",
   "language": "python",
   "name": "python3"
  },
  "language_info": {
   "codemirror_mode": {
    "name": "ipython",
    "version": 3
   },
   "file_extension": ".py",
   "mimetype": "text/x-python",
   "name": "python",
   "nbconvert_exporter": "python",
   "pygments_lexer": "ipython3",
   "version": "3.5.3"
  },
  "toc": {
   "base_numbering": 1,
   "nav_menu": {},
   "number_sections": true,
   "sideBar": true,
   "skip_h1_title": false,
   "title_cell": "Table of Contents",
   "title_sidebar": "Contents",
   "toc_cell": false,
   "toc_position": {},
   "toc_section_display": true,
   "toc_window_display": false
  }
 },
 "nbformat": 4,
 "nbformat_minor": 2
}
